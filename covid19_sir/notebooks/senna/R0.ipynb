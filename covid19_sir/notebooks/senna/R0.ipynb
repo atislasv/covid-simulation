{
 "cells": [
  {
   "cell_type": "markdown",
   "metadata": {},
   "source": [
    "# Imports"
   ]
  },
  {
   "cell_type": "code",
   "execution_count": 1,
   "metadata": {},
   "outputs": [],
   "source": [
    "import sys\n",
    "import copy\n",
    "import numpy as np\n",
    "import pandas as pd\n",
    "from model.base import CovidModel, SimulationParameters, set_parameters, normal_ci, logger\n",
    "from utils import BasicStatistics, RemovePolicy, Propaganda, setup_city_layout, confidence_interval\n",
    "from model.utils import SocialPolicy\n",
    "from model.debugutils import DebugUtils"
   ]
  },
  {
   "cell_type": "markdown",
   "metadata": {},
   "source": [
    "# Parameters settings"
   ]
  },
  {
   "cell_type": "markdown",
   "metadata": {},
   "source": [
    "Default parameters. Unless explicitly overriden, these values are used in all scenarios"
   ]
  },
  {
   "cell_type": "code",
   "execution_count": 2,
   "metadata": {},
   "outputs": [],
   "source": [
    "basic_parameters = SimulationParameters(\n",
    ")"
   ]
  },
  {
   "cell_type": "markdown",
   "metadata": {},
   "source": [
    "# Simulation setup"
   ]
  },
  {
   "cell_type": "code",
   "execution_count": 3,
   "metadata": {},
   "outputs": [],
   "source": [
    "population_size = 1000\n",
    "simulation_cycles = 90 # days\n",
    "multiple_runs = 20"
   ]
  },
  {
   "cell_type": "markdown",
   "metadata": {},
   "source": [
    "## Setup of monitored variables"
   ]
  },
  {
   "cell_type": "code",
   "execution_count": 4,
   "metadata": {},
   "outputs": [],
   "source": [
    "basic_r0 = []"
   ]
  },
  {
   "cell_type": "markdown",
   "metadata": {},
   "source": [
    "# Run simulation multiple times"
   ]
  },
  {
   "cell_type": "code",
   "execution_count": 5,
   "metadata": {},
   "outputs": [],
   "source": [
    "for k in range(multiple_runs):\n",
    "    params = copy.deepcopy(basic_parameters)\n",
    "    set_parameters(params)\n",
    "    model = CovidModel()\n",
    "    setup_city_layout(model, population_size)\n",
    "    statistics = BasicStatistics(model)\n",
    "    model.add_listener(statistics)\n",
    "    debug = DebugUtils(model)\n",
    "    logger().model = model\n",
    "    for i in range(simulation_cycles):\n",
    "        model.step()\n",
    "    debug.update_infection_status()\n",
    "    basic_r0.append(debug.get_R0_stats()['infections'].mean())"
   ]
  },
  {
   "cell_type": "markdown",
   "metadata": {},
   "source": [
    "# Print results"
   ]
  },
  {
   "cell_type": "code",
   "execution_count": 6,
   "metadata": {},
   "outputs": [
    {
     "name": "stdout",
     "output_type": "stream",
     "text": [
      "[2.9908722109533468, 3.749745676500509, 2.669421487603306, 2.2827442827442828, 2.0607675906183367, 2.8158602150537635, 2.483937823834197, 3.3306370070778564, 1.6812339331619537, 2.360621761658031, 2.2891046386192015, 2.2849604221635884, 2.43954802259887, 4.002016129032258, 2.4489795918367347, 2.6804550155118925, 2.656043956043956, 3.396969696969697, 2.4730337078651687, 2.327461139896373]\n"
     ]
    }
   ],
   "source": [
    "print(basic_r0)"
   ]
  },
  {
   "cell_type": "code",
   "execution_count": 7,
   "metadata": {},
   "outputs": [
    {
     "name": "stdout",
     "output_type": "stream",
     "text": [
      "(2.403654235412014, 2.6712207154871668, 2.9387871955623197)\n"
     ]
    }
   ],
   "source": [
    "print(confidence_interval(basic_r0))"
   ]
  }
 ],
 "metadata": {
  "kernelspec": {
   "display_name": "Python 3",
   "language": "python",
   "name": "python3"
  },
  "language_info": {
   "codemirror_mode": {
    "name": "ipython",
    "version": 3
   },
   "file_extension": ".py",
   "mimetype": "text/x-python",
   "name": "python",
   "nbconvert_exporter": "python",
   "pygments_lexer": "ipython3",
   "version": "3.6.9"
  }
 },
 "nbformat": 4,
 "nbformat_minor": 4
}
