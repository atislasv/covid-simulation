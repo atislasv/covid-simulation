{
 "cells": [
  {
   "cell_type": "markdown",
   "metadata": {},
   "source": [
    "# Imports"
   ]
  },
  {
   "cell_type": "code",
   "execution_count": 1,
   "metadata": {},
   "outputs": [],
   "source": [
    "import sys\n",
    "import copy\n",
    "import numpy as np\n",
    "import pandas as pd\n",
    "from model.base import CovidModel, SimulationParameters, set_parameters, normal_ci, logger\n",
    "from utils import BasicStatistics, RemovePolicy, Propaganda, setup_city_layout, confidence_interval\n",
    "from model.utils import SocialPolicy\n",
    "from model.debugutils import DebugUtils"
   ]
  },
  {
   "cell_type": "markdown",
   "metadata": {},
   "source": [
    "# Parameters settings"
   ]
  },
  {
   "cell_type": "markdown",
   "metadata": {},
   "source": [
    "Default parameters. Unless explicitly overriden, these values are used in all scenarios"
   ]
  },
  {
   "cell_type": "code",
   "execution_count": 2,
   "metadata": {},
   "outputs": [],
   "source": [
    "basic_parameters = SimulationParameters(\n",
    "    hospitalization_capacity = 1.0,\n",
    "    icu_capacity = 1.0\n",
    ")"
   ]
  },
  {
   "cell_type": "markdown",
   "metadata": {},
   "source": [
    "# Simulation setup"
   ]
  },
  {
   "cell_type": "code",
   "execution_count": 3,
   "metadata": {},
   "outputs": [],
   "source": [
    "population_size = 1000\n",
    "simulation_cycles = 90 # days\n",
    "multiple_runs = 20"
   ]
  },
  {
   "cell_type": "markdown",
   "metadata": {},
   "source": [
    "## Setup of monitored variables"
   ]
  },
  {
   "cell_type": "code",
   "execution_count": 4,
   "metadata": {},
   "outputs": [],
   "source": [
    "basic_r0 = []\n",
    "deaths_by_age_group = [[], [], [], [], [], [], [], [], [], []]\n",
    "deaths_total = []"
   ]
  },
  {
   "cell_type": "markdown",
   "metadata": {},
   "source": [
    "# Run simulation multiple times"
   ]
  },
  {
   "cell_type": "code",
   "execution_count": 5,
   "metadata": {},
   "outputs": [],
   "source": [
    "for k in range(multiple_runs):\n",
    "    params = copy.deepcopy(basic_parameters)\n",
    "    set_parameters(params)\n",
    "    model = CovidModel()\n",
    "    setup_city_layout(model, population_size)\n",
    "    statistics = BasicStatistics(model)\n",
    "    model.add_listener(statistics)\n",
    "    debug = DebugUtils(model)\n",
    "    logger().model = model\n",
    "    for i in range(simulation_cycles):\n",
    "        model.step()\n",
    "    debug.update_infection_status()\n",
    "    basic_r0.append(debug.get_R0_stats()['infections'].mean())\n",
    "    stats = debug.get_age_group_stats()\n",
    "    deaths_total.append(stats['deaths'].sum() / (stats['deaths'].sum() + stats['recovered'].sum()))\n",
    "    for i in range(10):\n",
    "        infected = stats['deaths'][i] + stats['recovered'][i]\n",
    "        rate = 0 if infected == 0 else stats['deaths'][i] / infected\n",
    "        deaths_by_age_group[i].append(rate)"
   ]
  },
  {
   "cell_type": "markdown",
   "metadata": {},
   "source": [
    "# Print results"
   ]
  },
  {
   "cell_type": "code",
   "execution_count": 6,
   "metadata": {},
   "outputs": [
    {
     "name": "stdout",
     "output_type": "stream",
     "text": [
      "(2.702831569814151, 2.9136574322022986, 3.124483294590446)\n"
     ]
    }
   ],
   "source": [
    "print(confidence_interval(basic_r0))"
   ]
  },
  {
   "cell_type": "code",
   "execution_count": 7,
   "metadata": {},
   "outputs": [
    {
     "name": "stdout",
     "output_type": "stream",
     "text": [
      "Total: (0.02181805797631729, 0.02422910433826452, 0.026640150700211748)\n",
      "0 to 9: (-0.0003814510240821424, 0.0008610495195861048, 0.0021035500632543523)\n",
      "10 to 19: (0.0, 0.0, 0.0)\n",
      "20 to 29: (0.001093266984635637, 0.0026912085391019172, 0.004289150093568198)\n",
      "30 to 39: (0.007026246181740459, 0.010156313422780384, 0.013286380663820308)\n",
      "40 to 49: (0.024615653390510146, 0.0315332637705279, 0.03845087415054565)\n",
      "50 to 59: (0.07081391506228064, 0.08971743508755416, 0.10862095511282767)\n",
      "60 to 69: (0.22406840054211682, 0.26616302488979304, 0.30825764923746923)\n",
      "70 to 79: (0.4631363239010338, 0.5850595238095238, 0.7069827237180136)\n",
      "80 to 89: (0.4799572487244166, 0.7, 0.9200427512755833)\n",
      "90 to 99: (-0.05465120272041313, 0.05, 0.15465120272041313)\n"
     ]
    }
   ],
   "source": [
    "print(f\"Total: {confidence_interval(deaths_total)}\")\n",
    "for i in range(10):\n",
    "    print(f\"{i * 10} to {i * 10 + 9}: {confidence_interval(deaths_by_age_group[i])}\")"
   ]
  }
 ],
 "metadata": {
  "kernelspec": {
   "display_name": "Python 3",
   "language": "python",
   "name": "python3"
  },
  "language_info": {
   "codemirror_mode": {
    "name": "ipython",
    "version": 3
   },
   "file_extension": ".py",
   "mimetype": "text/x-python",
   "name": "python",
   "nbconvert_exporter": "python",
   "pygments_lexer": "ipython3",
   "version": "3.6.9"
  }
 },
 "nbformat": 4,
 "nbformat_minor": 4
}
