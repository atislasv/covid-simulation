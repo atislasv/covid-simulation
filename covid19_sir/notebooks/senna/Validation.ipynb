{
 "cells": [
  {
   "cell_type": "markdown",
   "metadata": {},
   "source": [
    "# Imports"
   ]
  },
  {
   "cell_type": "code",
   "execution_count": null,
   "metadata": {},
   "outputs": [],
   "source": [
    "import sys\n",
    "import copy\n",
    "import numpy as np\n",
    "import pandas as pd\n",
    "from model.base import CovidModel, SimulationParameters, set_parameters, normal_ci, logger\n",
    "from utils import BasicStatistics, RemovePolicy, Propaganda, setup_city_layout, confidence_interval\n",
    "from model.utils import SocialPolicy\n",
    "from model.debugutils import DebugUtils"
   ]
  },
  {
   "cell_type": "markdown",
   "metadata": {},
   "source": [
    "# Parameters settings"
   ]
  },
  {
   "cell_type": "markdown",
   "metadata": {},
   "source": [
    "Default parameters. Unless explicitly overriden, these values are used in all scenarios"
   ]
  },
  {
   "cell_type": "code",
   "execution_count": null,
   "metadata": {},
   "outputs": [],
   "source": [
    "basic_parameters = SimulationParameters(\n",
    "    hospitalization_capacity = 1.0,\n",
    "    icu_capacity = 1.0\n",
    ")"
   ]
  },
  {
   "cell_type": "markdown",
   "metadata": {},
   "source": [
    "# Simulation setup"
   ]
  },
  {
   "cell_type": "code",
   "execution_count": null,
   "metadata": {},
   "outputs": [],
   "source": [
    "population_size = 1000\n",
    "simulation_cycles = 90 # days\n",
    "multiple_runs = 20"
   ]
  },
  {
   "cell_type": "markdown",
   "metadata": {},
   "source": [
    "## Setup of monitored variables"
   ]
  },
  {
   "cell_type": "code",
   "execution_count": null,
   "metadata": {},
   "outputs": [],
   "source": [
    "basic_r0 = []\n",
    "deaths_by_age_group = [[], [], [], [], [], [], [], [], [], []]\n",
    "count_by_age_group = [[], [], [], [], [], [], [], [], [], []]\n",
    "deaths_total = []"
   ]
  },
  {
   "cell_type": "markdown",
   "metadata": {},
   "source": [
    "# Run simulation multiple times"
   ]
  },
  {
   "cell_type": "code",
   "execution_count": null,
   "metadata": {},
   "outputs": [],
   "source": [
    "for k in range(multiple_runs):\n",
    "    params = copy.deepcopy(basic_parameters)\n",
    "    set_parameters(params)\n",
    "    model = CovidModel()\n",
    "    setup_city_layout(model, population_size)\n",
    "    statistics = BasicStatistics(model)\n",
    "    model.add_listener(statistics)\n",
    "    debug = DebugUtils(model)\n",
    "    logger().model = model\n",
    "    for i in range(simulation_cycles):\n",
    "        model.step()\n",
    "    debug.update_infection_status()\n",
    "    basic_r0.append(debug.get_R0_stats()['infections'].mean())\n",
    "    stats = debug.get_age_group_stats()\n",
    "    deaths_total.append(stats['deaths'].sum() / (stats['deaths'].sum() + stats['recovered'].sum()))\n",
    "    for i in range(10):\n",
    "        infected = stats['deaths'][i] + stats['recovered'][i]\n",
    "        rate = 0 if infected == 0 else stats['deaths'][i] / infected\n",
    "        deaths_by_age_group[i].append(rate)\n",
    "        count_by_age_group[i].append(stats['count'][i])"
   ]
  },
  {
   "cell_type": "markdown",
   "metadata": {},
   "source": [
    "# Print results"
   ]
  },
  {
   "cell_type": "code",
   "execution_count": null,
   "metadata": {},
   "outputs": [],
   "source": [
    "print(confidence_interval(basic_r0))"
   ]
  },
  {
   "cell_type": "code",
   "execution_count": null,
   "metadata": {},
   "outputs": [],
   "source": [
    "print(f\"Total: {confidence_interval(deaths_total)}\")\n",
    "for i in range(10):\n",
    "    print(f\"{i * 10} to {i * 10 + 9}: {confidence_interval(deaths_by_age_group[i])}\")"
   ]
  },
  {
   "cell_type": "code",
   "execution_count": null,
   "metadata": {},
   "outputs": [],
   "source": [
    "for i in range(10):\n",
    "    print(f\"{i * 10} to {i * 10 + 9}: {confidence_interval(count_by_age_group[i])}\")"
   ]
  },
  {
   "cell_type": "code",
   "execution_count": null,
   "metadata": {},
   "outputs": [],
   "source": []
  }
 ],
 "metadata": {
  "kernelspec": {
   "display_name": "Python 3",
   "language": "python",
   "name": "python3"
  },
  "language_info": {
   "codemirror_mode": {
    "name": "ipython",
    "version": 3
   },
   "file_extension": ".py",
   "mimetype": "text/x-python",
   "name": "python",
   "nbconvert_exporter": "python",
   "pygments_lexer": "ipython3",
   "version": "3.6.9"
  }
 },
 "nbformat": 4,
 "nbformat_minor": 4
}
