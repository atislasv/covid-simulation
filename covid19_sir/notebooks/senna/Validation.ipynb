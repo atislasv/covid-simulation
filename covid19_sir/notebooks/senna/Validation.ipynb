{
 "cells": [
  {
   "cell_type": "markdown",
   "metadata": {},
   "source": [
    "# Imports"
   ]
  },
  {
   "cell_type": "code",
   "execution_count": null,
   "metadata": {},
   "outputs": [],
   "source": [
    "import sys\n",
    "import copy\n",
    "import numpy as np\n",
    "import pandas as pd\n",
    "from matplotlib import pyplot as plt\n",
    "from model.base import CovidModel, SimulationParameters, set_parameters, normal_ci, logger\n",
    "from utils import BasicStatistics, RemovePolicy, Propaganda, setup_city_layout, confidence_interval\n",
    "from model.utils import SocialPolicy\n",
    "from model.debugutils import DebugUtils"
   ]
  },
  {
   "cell_type": "markdown",
   "metadata": {},
   "source": [
    "# Simulation setup"
   ]
  },
  {
   "cell_type": "code",
   "execution_count": null,
   "metadata": {},
   "outputs": [],
   "source": [
    "population_size = 10000\n",
    "simulation_cycles = 90 # days\n",
    "multiple_runs = 10"
   ]
  },
  {
   "cell_type": "markdown",
   "metadata": {},
   "source": [
    "# Scenario 1 - Parameters settings"
   ]
  },
  {
   "cell_type": "markdown",
   "metadata": {},
   "source": [
    "Default parameters. Unless explicitly overriden, these values are used in all scenarios"
   ]
  },
  {
   "cell_type": "code",
   "execution_count": null,
   "metadata": {},
   "outputs": [],
   "source": [
    "basic_parameters = SimulationParameters(\n",
    "    social_policies = [\n",
    "       SocialPolicy.LOCKDOWN_OFFICE,\n",
    "       SocialPolicy.LOCKDOWN_FACTORY,\n",
    "       SocialPolicy.LOCKDOWN_RETAIL,\n",
    "       SocialPolicy.LOCKDOWN_ELEMENTARY_SCHOOL,\n",
    "       SocialPolicy.LOCKDOWN_MIDDLE_SCHOOL,\n",
    "       SocialPolicy.LOCKDOWN_HIGH_SCHOOL,\n",
    "       SocialPolicy.SOCIAL_DISTANCING\n",
    "    ],\n",
    "    hospitalization_capacity = 0.1,\n",
    "    icu_capacity = 0.01,\n",
    "    mask_user_rate = 0.5,\n",
    "    mask_efficacy = 0.4,\n",
    "    imune_rate = 0.01,\n",
    "    initial_infection_rate = 0.01,\n",
    "    latency_period_shape = 3,\n",
    "    latency_period_scale = 1, \n",
    "    incubation_period_shape = 6,\n",
    "    incubation_period_scale = 1, \n",
    "    mild_period_duration_shape = 14,\n",
    "    mild_period_duration_scale = 1,\n",
    "    hospitalization_period_duration_shape = 12,\n",
    "    hospitalization_period_duration_scale = 1,\n",
    "    symptomatic_isolation_rate = 0.1,\n",
    "    asymptomatic_contagion_probability = 0.1,\n",
    "    risk_tolerance_mean = 0.5,\n",
    "    risk_tolerance_stdev = 0.1,\n",
    "    herding_behavior_mean = 0.5,\n",
    "    herding_behavior_stdev = 0.1,\n",
    "    allowed_restaurant_capacity = 1.0, # valid values: {1.0, 0.50, 0.25}\n",
    ")"
   ]
  },
  {
   "cell_type": "markdown",
   "metadata": {},
   "source": [
    "## Scenario 1 - Setup of monitored variables"
   ]
  },
  {
   "cell_type": "code",
   "execution_count": null,
   "metadata": {},
   "outputs": [],
   "source": [
    "sc = 1\n",
    "\n",
    "basic_r0 = []\n",
    "count_by_age_group = [[], [], [], [], [], [], [], [], [], []]\n",
    "deaths_by_age_group = [[], [], [], [], [], [], [], [], [], []]\n",
    "hospitalized_by_age_group = [[], [], [], [], [], [], [], [], [], []]\n",
    "icu_by_age_group = [[], [], [], [], [], [], [], [], [], []]\n",
    "deaths_total = []\n",
    "hospitalized_total = []\n",
    "icu_total = []\n",
    "infected_per_day = {}\n",
    "infected_per_day[sc] = []\n",
    "for i in range(simulation_cycles):\n",
    "    infected_per_day[sc].append([])\n",
    "symptomatic_per_day = {}\n",
    "symptomatic_per_day[sc] = []\n",
    "for i in range(simulation_cycles):\n",
    "    symptomatic_per_day[sc].append([])"
   ]
  },
  {
   "cell_type": "markdown",
   "metadata": {},
   "source": [
    "# Scenario 1 - Run simulation multiple times"
   ]
  },
  {
   "cell_type": "code",
   "execution_count": null,
   "metadata": {},
   "outputs": [],
   "source": [
    "%%time\n",
    "for k in range(multiple_runs):\n",
    "    print(f\"{k + 1}/{multiple_runs}\")\n",
    "    params = copy.deepcopy(basic_parameters)\n",
    "    set_parameters(params)\n",
    "    model = CovidModel()\n",
    "    setup_city_layout(model, population_size)\n",
    "    model.add_listener(RemovePolicy(model, SocialPolicy.LOCKDOWN_ELEMENTARY_SCHOOL, 30))\n",
    "    model.add_listener(RemovePolicy(model, SocialPolicy.LOCKDOWN_MIDDLE_SCHOOL, 60))\n",
    "    model.add_listener(RemovePolicy(model, SocialPolicy.LOCKDOWN_HIGH_SCHOOL, 90))\n",
    "    statistics = BasicStatistics(model)\n",
    "    model.add_listener(statistics)\n",
    "    debug = DebugUtils(model)\n",
    "    model.add_listener(debug)\n",
    "    logger().model = model\n",
    "    for i in range(simulation_cycles):\n",
    "        model.step()\n",
    "    debug.update_infection_status()\n",
    "    basic_r0.append(debug.get_R0_stats()['infections'].mean())\n",
    "    stats = debug.get_age_group_stats()\n",
    "    infected = stats['infected'].sum() + stats['recovered'].sum()\n",
    "    deaths_total.append(stats['deaths'].sum() / infected)\n",
    "    hospitalized_total.append(stats['hospitalized'].sum() / infected)\n",
    "    icu_total.append(stats['icu'].sum() / infected)\n",
    "    for i in range(10):\n",
    "        infected = stats['infected'][i] + stats['recovered'][i]\n",
    "        deaths_by_age_group[i].append(0 if infected == 0 else stats['deaths'][i] / infected)\n",
    "        hospitalized_by_age_group[i].append(0 if infected == 0 else stats['hospitalized'][i] / infected)\n",
    "        icu_by_age_group[i].append(0 if infected == 0 else stats['icu'][i] / infected)\n",
    "        count_by_age_group[i].append(stats['count'][i])\n",
    "    for i in range(simulation_cycles):\n",
    "        infected_per_day[sc][i].append(debug.new_infections[i + 1])\n",
    "    new_symptomatics = debug.get_new_symptomatic_stats(simulation_cycles)\n",
    "    for i in range(simulation_cycles):\n",
    "        symptomatic_per_day[sc][i].append(new_symptomatics[i])\n",
    "    statistics.export_chart(f'run_{sc}_{k}.png')\n",
    "    statistics.export_csv(f'run_{sc}_{k}.csv')"
   ]
  },
  {
   "cell_type": "markdown",
   "metadata": {},
   "source": [
    "# Scenario 1 - Print results"
   ]
  },
  {
   "cell_type": "code",
   "execution_count": null,
   "metadata": {},
   "outputs": [],
   "source": [
    "print(confidence_interval(basic_r0))"
   ]
  },
  {
   "cell_type": "code",
   "execution_count": null,
   "metadata": {},
   "outputs": [],
   "source": [
    "for i in range(10):\n",
    "    print(f\"{i * 10} to {i * 10 + 9}: {confidence_interval(count_by_age_group[i])}\")"
   ]
  },
  {
   "cell_type": "code",
   "execution_count": null,
   "metadata": {},
   "outputs": [],
   "source": [
    "print(f\"Total: {confidence_interval(deaths_total)}\")\n",
    "for i in range(10):\n",
    "    print(f\"{i * 10} to {i * 10 + 9}: {confidence_interval(deaths_by_age_group[i])}\")"
   ]
  },
  {
   "cell_type": "code",
   "execution_count": null,
   "metadata": {},
   "outputs": [],
   "source": [
    "print(f\"Total: {confidence_interval(hospitalized_total)}\")\n",
    "for i in range(10):\n",
    "    print(f\"{i * 10} to {i * 10 + 9}: {confidence_interval(hospitalized_by_age_group[i])}\")"
   ]
  },
  {
   "cell_type": "code",
   "execution_count": null,
   "metadata": {},
   "outputs": [],
   "source": [
    "print(f\"Total: {confidence_interval(icu_total)}\")\n",
    "for i in range(10):\n",
    "    print(f\"{i * 10} to {i * 10 + 9}: {confidence_interval(icu_by_age_group[i])}\")"
   ]
  },
  {
   "cell_type": "code",
   "execution_count": null,
   "metadata": {},
   "outputs": [],
   "source": []
  },
  {
   "cell_type": "markdown",
   "metadata": {},
   "source": [
    "# Plot results"
   ]
  },
  {
   "cell_type": "code",
   "execution_count": null,
   "metadata": {
    "scrolled": false
   },
   "outputs": [],
   "source": [
    "mean = np.mean(infected_per_day[1], axis=1)\n",
    "stdev = np.std(infected_per_day[1], axis=1)\n",
    "window = 7\n",
    "ma_mean = np.convolve(mean, np.ones((window,))/window, mode='valid')\n",
    "ma_stdev = np.convolve(stdev, np.ones((window,))/window, mode='valid')\n",
    "\n",
    "plt.plot(ma_mean)\n",
    "\n",
    "#plt.fill_between(range(3), mean-standard_dev, mean+standard_dev, alpha = 0.5)\n",
    "plt.show()"
   ]
  },
  {
   "cell_type": "code",
   "execution_count": null,
   "metadata": {
    "scrolled": false
   },
   "outputs": [],
   "source": [
    "mean = np.mean(symptomatic_per_day[1], axis=1)\n",
    "stdev = np.std(symptomatic_per_day[1], axis=1)\n",
    "window = 7\n",
    "ma_mean = np.convolve(mean, np.ones((window,))/window, mode='valid')\n",
    "ma_stdev = np.convolve(stdev, np.ones((window,))/window, mode='valid')\n",
    "\n",
    "plt.plot(ma_mean)\n",
    "\n",
    "#plt.fill_between(range(3), mean-standard_dev, mean+standard_dev, alpha = 0.5)\n",
    "plt.show()"
   ]
  },
  {
   "cell_type": "code",
   "execution_count": null,
   "metadata": {},
   "outputs": [],
   "source": [
    "print(infected_per_day[1])"
   ]
  },
  {
   "cell_type": "code",
   "execution_count": null,
   "metadata": {},
   "outputs": [],
   "source": []
  }
 ],
 "metadata": {
  "kernelspec": {
   "display_name": "Python 3",
   "language": "python",
   "name": "python3"
  },
  "language_info": {
   "codemirror_mode": {
    "name": "ipython",
    "version": 3
   },
   "file_extension": ".py",
   "mimetype": "text/x-python",
   "name": "python",
   "nbconvert_exporter": "python",
   "pygments_lexer": "ipython3",
   "version": "3.6.9"
  }
 },
 "nbformat": 4,
 "nbformat_minor": 4
}
