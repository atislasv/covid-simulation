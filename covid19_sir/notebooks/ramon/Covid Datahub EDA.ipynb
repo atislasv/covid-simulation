{
 "cells": [
  {
   "cell_type": "markdown",
   "metadata": {},
   "source": [
    "# COVID Datahub - Exploratory Data Analysis"
   ]
  },
  {
   "cell_type": "markdown",
   "metadata": {},
   "source": [
    "## Libraries"
   ]
  },
  {
   "cell_type": "code",
   "execution_count": 72,
   "metadata": {},
   "outputs": [],
   "source": [
    "import pandas as pd\n",
    "import matplotlib.pyplot as plt\n",
    "import numpy as np"
   ]
  },
  {
   "cell_type": "markdown",
   "metadata": {},
   "source": [
    "## Importing data"
   ]
  },
  {
   "cell_type": "markdown",
   "metadata": {},
   "source": [
    "Using data from the COVID19 Datahub, administrative level 1 in `.csv` format available at https://storage.covid19datahub.io/data-1.csv"
   ]
  },
  {
   "cell_type": "code",
   "execution_count": 7,
   "metadata": {},
   "outputs": [
    {
     "name": "stdout",
     "output_type": "stream",
     "text": [
      "(57721, 35)\n",
      "Index(['id', 'date', 'tests', 'confirmed', 'recovered', 'deaths', 'hosp',\n",
      "       'vent', 'icu', 'population', 'school_closing', 'workplace_closing',\n",
      "       'cancel_events', 'gatherings_restrictions', 'transport_closing',\n",
      "       'stay_home_restrictions', 'internal_movement_restrictions',\n",
      "       'international_movement_restrictions', 'information_campaigns',\n",
      "       'testing_policy', 'contact_tracing', 'stringency_index', 'iso_alpha_3',\n",
      "       'iso_alpha_2', 'iso_numeric', 'currency', 'administrative_area_level',\n",
      "       'administrative_area_level_1', 'administrative_area_level_2',\n",
      "       'administrative_area_level_3', 'latitude', 'longitude', 'key',\n",
      "       'key_apple_mobility', 'key_google_mobility'],\n",
      "      dtype='object')\n"
     ]
    },
    {
     "data": {
      "text/html": [
       "<div>\n",
       "<style scoped>\n",
       "    .dataframe tbody tr th:only-of-type {\n",
       "        vertical-align: middle;\n",
       "    }\n",
       "\n",
       "    .dataframe tbody tr th {\n",
       "        vertical-align: top;\n",
       "    }\n",
       "\n",
       "    .dataframe thead th {\n",
       "        text-align: right;\n",
       "    }\n",
       "</style>\n",
       "<table border=\"1\" class=\"dataframe\">\n",
       "  <thead>\n",
       "    <tr style=\"text-align: right;\">\n",
       "      <th></th>\n",
       "      <th>id</th>\n",
       "      <th>date</th>\n",
       "      <th>tests</th>\n",
       "      <th>confirmed</th>\n",
       "      <th>recovered</th>\n",
       "      <th>deaths</th>\n",
       "      <th>hosp</th>\n",
       "      <th>vent</th>\n",
       "      <th>icu</th>\n",
       "      <th>population</th>\n",
       "      <th>...</th>\n",
       "      <th>currency</th>\n",
       "      <th>administrative_area_level</th>\n",
       "      <th>administrative_area_level_1</th>\n",
       "      <th>administrative_area_level_2</th>\n",
       "      <th>administrative_area_level_3</th>\n",
       "      <th>latitude</th>\n",
       "      <th>longitude</th>\n",
       "      <th>key</th>\n",
       "      <th>key_apple_mobility</th>\n",
       "      <th>key_google_mobility</th>\n",
       "    </tr>\n",
       "  </thead>\n",
       "  <tbody>\n",
       "    <tr>\n",
       "      <th>0</th>\n",
       "      <td>AFG</td>\n",
       "      <td>2020-01-01</td>\n",
       "      <td>0</td>\n",
       "      <td>0</td>\n",
       "      <td>0</td>\n",
       "      <td>0</td>\n",
       "      <td>0</td>\n",
       "      <td>0</td>\n",
       "      <td>0</td>\n",
       "      <td>37172386</td>\n",
       "      <td>...</td>\n",
       "      <td>AFN</td>\n",
       "      <td>1</td>\n",
       "      <td>Afghanistan</td>\n",
       "      <td>NaN</td>\n",
       "      <td>NaN</td>\n",
       "      <td>33.0</td>\n",
       "      <td>65.0</td>\n",
       "      <td>NaN</td>\n",
       "      <td>NaN</td>\n",
       "      <td>AF</td>\n",
       "    </tr>\n",
       "    <tr>\n",
       "      <th>1</th>\n",
       "      <td>AFG</td>\n",
       "      <td>2020-01-02</td>\n",
       "      <td>0</td>\n",
       "      <td>0</td>\n",
       "      <td>0</td>\n",
       "      <td>0</td>\n",
       "      <td>0</td>\n",
       "      <td>0</td>\n",
       "      <td>0</td>\n",
       "      <td>37172386</td>\n",
       "      <td>...</td>\n",
       "      <td>AFN</td>\n",
       "      <td>1</td>\n",
       "      <td>Afghanistan</td>\n",
       "      <td>NaN</td>\n",
       "      <td>NaN</td>\n",
       "      <td>33.0</td>\n",
       "      <td>65.0</td>\n",
       "      <td>NaN</td>\n",
       "      <td>NaN</td>\n",
       "      <td>AF</td>\n",
       "    </tr>\n",
       "    <tr>\n",
       "      <th>2</th>\n",
       "      <td>AFG</td>\n",
       "      <td>2020-01-03</td>\n",
       "      <td>0</td>\n",
       "      <td>0</td>\n",
       "      <td>0</td>\n",
       "      <td>0</td>\n",
       "      <td>0</td>\n",
       "      <td>0</td>\n",
       "      <td>0</td>\n",
       "      <td>37172386</td>\n",
       "      <td>...</td>\n",
       "      <td>AFN</td>\n",
       "      <td>1</td>\n",
       "      <td>Afghanistan</td>\n",
       "      <td>NaN</td>\n",
       "      <td>NaN</td>\n",
       "      <td>33.0</td>\n",
       "      <td>65.0</td>\n",
       "      <td>NaN</td>\n",
       "      <td>NaN</td>\n",
       "      <td>AF</td>\n",
       "    </tr>\n",
       "    <tr>\n",
       "      <th>3</th>\n",
       "      <td>AFG</td>\n",
       "      <td>2020-01-04</td>\n",
       "      <td>0</td>\n",
       "      <td>0</td>\n",
       "      <td>0</td>\n",
       "      <td>0</td>\n",
       "      <td>0</td>\n",
       "      <td>0</td>\n",
       "      <td>0</td>\n",
       "      <td>37172386</td>\n",
       "      <td>...</td>\n",
       "      <td>AFN</td>\n",
       "      <td>1</td>\n",
       "      <td>Afghanistan</td>\n",
       "      <td>NaN</td>\n",
       "      <td>NaN</td>\n",
       "      <td>33.0</td>\n",
       "      <td>65.0</td>\n",
       "      <td>NaN</td>\n",
       "      <td>NaN</td>\n",
       "      <td>AF</td>\n",
       "    </tr>\n",
       "    <tr>\n",
       "      <th>4</th>\n",
       "      <td>AFG</td>\n",
       "      <td>2020-01-05</td>\n",
       "      <td>0</td>\n",
       "      <td>0</td>\n",
       "      <td>0</td>\n",
       "      <td>0</td>\n",
       "      <td>0</td>\n",
       "      <td>0</td>\n",
       "      <td>0</td>\n",
       "      <td>37172386</td>\n",
       "      <td>...</td>\n",
       "      <td>AFN</td>\n",
       "      <td>1</td>\n",
       "      <td>Afghanistan</td>\n",
       "      <td>NaN</td>\n",
       "      <td>NaN</td>\n",
       "      <td>33.0</td>\n",
       "      <td>65.0</td>\n",
       "      <td>NaN</td>\n",
       "      <td>NaN</td>\n",
       "      <td>AF</td>\n",
       "    </tr>\n",
       "  </tbody>\n",
       "</table>\n",
       "<p>5 rows × 35 columns</p>\n",
       "</div>"
      ],
      "text/plain": [
       "    id        date  tests  confirmed  recovered  deaths  hosp  vent  icu  \\\n",
       "0  AFG  2020-01-01      0          0          0       0     0     0    0   \n",
       "1  AFG  2020-01-02      0          0          0       0     0     0    0   \n",
       "2  AFG  2020-01-03      0          0          0       0     0     0    0   \n",
       "3  AFG  2020-01-04      0          0          0       0     0     0    0   \n",
       "4  AFG  2020-01-05      0          0          0       0     0     0    0   \n",
       "\n",
       "   population  ...  currency  administrative_area_level  \\\n",
       "0    37172386  ...       AFN                          1   \n",
       "1    37172386  ...       AFN                          1   \n",
       "2    37172386  ...       AFN                          1   \n",
       "3    37172386  ...       AFN                          1   \n",
       "4    37172386  ...       AFN                          1   \n",
       "\n",
       "   administrative_area_level_1  administrative_area_level_2  \\\n",
       "0                  Afghanistan                          NaN   \n",
       "1                  Afghanistan                          NaN   \n",
       "2                  Afghanistan                          NaN   \n",
       "3                  Afghanistan                          NaN   \n",
       "4                  Afghanistan                          NaN   \n",
       "\n",
       "   administrative_area_level_3  latitude  longitude  key  key_apple_mobility  \\\n",
       "0                          NaN      33.0       65.0  NaN                 NaN   \n",
       "1                          NaN      33.0       65.0  NaN                 NaN   \n",
       "2                          NaN      33.0       65.0  NaN                 NaN   \n",
       "3                          NaN      33.0       65.0  NaN                 NaN   \n",
       "4                          NaN      33.0       65.0  NaN                 NaN   \n",
       "\n",
       "   key_google_mobility  \n",
       "0                   AF  \n",
       "1                   AF  \n",
       "2                   AF  \n",
       "3                   AF  \n",
       "4                   AF  \n",
       "\n",
       "[5 rows x 35 columns]"
      ]
     },
     "execution_count": 7,
     "metadata": {},
     "output_type": "execute_result"
    }
   ],
   "source": [
    "data1 = pd.read_csv(\"./data/data-1.csv\")\n",
    "print(data1.shape)\n",
    "print(data1.columns)\n",
    "data1.head()"
   ]
  },
  {
   "cell_type": "markdown",
   "metadata": {},
   "source": [
    "Go to https://covid19datahub.io/articles/doc/data.html to get a description of what each variable in the dataset represents"
   ]
  },
  {
   "cell_type": "code",
   "execution_count": 15,
   "metadata": {},
   "outputs": [],
   "source": [
    "# Converting dates to datetime format\n",
    "data1['date'] = pd.to_datetime(data1['date'], format='%Y-%m-%d')"
   ]
  },
  {
   "cell_type": "markdown",
   "metadata": {},
   "source": [
    "## Example exploratory code"
   ]
  },
  {
   "cell_type": "markdown",
   "metadata": {},
   "source": [
    "### Visualizing data for a specific country\n",
    "\n",
    "Using Canada as an example"
   ]
  },
  {
   "cell_type": "code",
   "execution_count": 39,
   "metadata": {},
   "outputs": [
    {
     "name": "stdout",
     "output_type": "stream",
     "text": [
      "(293, 35)\n"
     ]
    },
    {
     "data": {
      "text/html": [
       "<div>\n",
       "<style scoped>\n",
       "    .dataframe tbody tr th:only-of-type {\n",
       "        vertical-align: middle;\n",
       "    }\n",
       "\n",
       "    .dataframe tbody tr th {\n",
       "        vertical-align: top;\n",
       "    }\n",
       "\n",
       "    .dataframe thead th {\n",
       "        text-align: right;\n",
       "    }\n",
       "</style>\n",
       "<table border=\"1\" class=\"dataframe\">\n",
       "  <thead>\n",
       "    <tr style=\"text-align: right;\">\n",
       "      <th></th>\n",
       "      <th>id</th>\n",
       "      <th>date</th>\n",
       "      <th>tests</th>\n",
       "      <th>confirmed</th>\n",
       "      <th>recovered</th>\n",
       "      <th>deaths</th>\n",
       "      <th>hosp</th>\n",
       "      <th>vent</th>\n",
       "      <th>icu</th>\n",
       "      <th>population</th>\n",
       "      <th>...</th>\n",
       "      <th>currency</th>\n",
       "      <th>administrative_area_level</th>\n",
       "      <th>administrative_area_level_1</th>\n",
       "      <th>administrative_area_level_2</th>\n",
       "      <th>administrative_area_level_3</th>\n",
       "      <th>latitude</th>\n",
       "      <th>longitude</th>\n",
       "      <th>key</th>\n",
       "      <th>key_apple_mobility</th>\n",
       "      <th>key_google_mobility</th>\n",
       "    </tr>\n",
       "  </thead>\n",
       "  <tbody>\n",
       "    <tr>\n",
       "      <th>9376</th>\n",
       "      <td>CAN</td>\n",
       "      <td>2020-01-01</td>\n",
       "      <td>0</td>\n",
       "      <td>0</td>\n",
       "      <td>0</td>\n",
       "      <td>0</td>\n",
       "      <td>0</td>\n",
       "      <td>0</td>\n",
       "      <td>0</td>\n",
       "      <td>37057765</td>\n",
       "      <td>...</td>\n",
       "      <td>CAD</td>\n",
       "      <td>1</td>\n",
       "      <td>Canada</td>\n",
       "      <td>NaN</td>\n",
       "      <td>NaN</td>\n",
       "      <td>44.784047</td>\n",
       "      <td>-82.508593</td>\n",
       "      <td>NaN</td>\n",
       "      <td>Canada</td>\n",
       "      <td>CA</td>\n",
       "    </tr>\n",
       "    <tr>\n",
       "      <th>9377</th>\n",
       "      <td>CAN</td>\n",
       "      <td>2020-01-02</td>\n",
       "      <td>0</td>\n",
       "      <td>0</td>\n",
       "      <td>0</td>\n",
       "      <td>0</td>\n",
       "      <td>0</td>\n",
       "      <td>0</td>\n",
       "      <td>0</td>\n",
       "      <td>37057765</td>\n",
       "      <td>...</td>\n",
       "      <td>CAD</td>\n",
       "      <td>1</td>\n",
       "      <td>Canada</td>\n",
       "      <td>NaN</td>\n",
       "      <td>NaN</td>\n",
       "      <td>44.784047</td>\n",
       "      <td>-82.508593</td>\n",
       "      <td>NaN</td>\n",
       "      <td>Canada</td>\n",
       "      <td>CA</td>\n",
       "    </tr>\n",
       "    <tr>\n",
       "      <th>9378</th>\n",
       "      <td>CAN</td>\n",
       "      <td>2020-01-03</td>\n",
       "      <td>0</td>\n",
       "      <td>0</td>\n",
       "      <td>0</td>\n",
       "      <td>0</td>\n",
       "      <td>0</td>\n",
       "      <td>0</td>\n",
       "      <td>0</td>\n",
       "      <td>37057765</td>\n",
       "      <td>...</td>\n",
       "      <td>CAD</td>\n",
       "      <td>1</td>\n",
       "      <td>Canada</td>\n",
       "      <td>NaN</td>\n",
       "      <td>NaN</td>\n",
       "      <td>44.784047</td>\n",
       "      <td>-82.508593</td>\n",
       "      <td>NaN</td>\n",
       "      <td>Canada</td>\n",
       "      <td>CA</td>\n",
       "    </tr>\n",
       "    <tr>\n",
       "      <th>9379</th>\n",
       "      <td>CAN</td>\n",
       "      <td>2020-01-04</td>\n",
       "      <td>0</td>\n",
       "      <td>0</td>\n",
       "      <td>0</td>\n",
       "      <td>0</td>\n",
       "      <td>0</td>\n",
       "      <td>0</td>\n",
       "      <td>0</td>\n",
       "      <td>37057765</td>\n",
       "      <td>...</td>\n",
       "      <td>CAD</td>\n",
       "      <td>1</td>\n",
       "      <td>Canada</td>\n",
       "      <td>NaN</td>\n",
       "      <td>NaN</td>\n",
       "      <td>44.784047</td>\n",
       "      <td>-82.508593</td>\n",
       "      <td>NaN</td>\n",
       "      <td>Canada</td>\n",
       "      <td>CA</td>\n",
       "    </tr>\n",
       "    <tr>\n",
       "      <th>9380</th>\n",
       "      <td>CAN</td>\n",
       "      <td>2020-01-05</td>\n",
       "      <td>0</td>\n",
       "      <td>0</td>\n",
       "      <td>0</td>\n",
       "      <td>0</td>\n",
       "      <td>0</td>\n",
       "      <td>0</td>\n",
       "      <td>0</td>\n",
       "      <td>37057765</td>\n",
       "      <td>...</td>\n",
       "      <td>CAD</td>\n",
       "      <td>1</td>\n",
       "      <td>Canada</td>\n",
       "      <td>NaN</td>\n",
       "      <td>NaN</td>\n",
       "      <td>44.784047</td>\n",
       "      <td>-82.508593</td>\n",
       "      <td>NaN</td>\n",
       "      <td>Canada</td>\n",
       "      <td>CA</td>\n",
       "    </tr>\n",
       "  </tbody>\n",
       "</table>\n",
       "<p>5 rows × 35 columns</p>\n",
       "</div>"
      ],
      "text/plain": [
       "       id       date  tests  confirmed  recovered  deaths  hosp  vent  icu  \\\n",
       "9376  CAN 2020-01-01      0          0          0       0     0     0    0   \n",
       "9377  CAN 2020-01-02      0          0          0       0     0     0    0   \n",
       "9378  CAN 2020-01-03      0          0          0       0     0     0    0   \n",
       "9379  CAN 2020-01-04      0          0          0       0     0     0    0   \n",
       "9380  CAN 2020-01-05      0          0          0       0     0     0    0   \n",
       "\n",
       "      population  ...  currency  administrative_area_level  \\\n",
       "9376    37057765  ...       CAD                          1   \n",
       "9377    37057765  ...       CAD                          1   \n",
       "9378    37057765  ...       CAD                          1   \n",
       "9379    37057765  ...       CAD                          1   \n",
       "9380    37057765  ...       CAD                          1   \n",
       "\n",
       "      administrative_area_level_1  administrative_area_level_2  \\\n",
       "9376                       Canada                          NaN   \n",
       "9377                       Canada                          NaN   \n",
       "9378                       Canada                          NaN   \n",
       "9379                       Canada                          NaN   \n",
       "9380                       Canada                          NaN   \n",
       "\n",
       "      administrative_area_level_3   latitude  longitude  key  \\\n",
       "9376                          NaN  44.784047 -82.508593  NaN   \n",
       "9377                          NaN  44.784047 -82.508593  NaN   \n",
       "9378                          NaN  44.784047 -82.508593  NaN   \n",
       "9379                          NaN  44.784047 -82.508593  NaN   \n",
       "9380                          NaN  44.784047 -82.508593  NaN   \n",
       "\n",
       "      key_apple_mobility  key_google_mobility  \n",
       "9376              Canada                   CA  \n",
       "9377              Canada                   CA  \n",
       "9378              Canada                   CA  \n",
       "9379              Canada                   CA  \n",
       "9380              Canada                   CA  \n",
       "\n",
       "[5 rows x 35 columns]"
      ]
     },
     "execution_count": 39,
     "metadata": {},
     "output_type": "execute_result"
    }
   ],
   "source": [
    "selected_country = \"Canada\"\n",
    "data_country = data1[data1.administrative_area_level_1 == selected_country]\n",
    "print(data_country.shape)\n",
    "data_country.head()"
   ]
  },
  {
   "cell_type": "markdown",
   "metadata": {},
   "source": [
    "Checking initial and final date of observations for a country"
   ]
  },
  {
   "cell_type": "code",
   "execution_count": 40,
   "metadata": {},
   "outputs": [
    {
     "name": "stdout",
     "output_type": "stream",
     "text": [
      "292 days 00:00:00\n",
      "2020-01-01 00:00:00\n",
      "2020-10-19 00:00:00\n"
     ]
    }
   ],
   "source": [
    "print(data_country.date.max() - data_country.date.min())\n",
    "print(data_country.date.min())\n",
    "print(data_country.date.max())"
   ]
  },
  {
   "cell_type": "markdown",
   "metadata": {},
   "source": [
    "Visualizing how `workplace_closing` policy has changed thoughout the pandemic, where:\n",
    "- 0: No measures \n",
    "- 1: Recommend closing (or work from home) \n",
    "- 2: require closing for some sectors or categories of workers \n",
    "- 3: require closing (or work from home) all-but-essential workplaces (eg grocery stores, doctors)."
   ]
  },
  {
   "cell_type": "code",
   "execution_count": 44,
   "metadata": {},
   "outputs": [
    {
     "data": {
      "image/png": "[encoded data removed]",
      "text/plain": [
       "<Figure size 432x288 with 1 Axes>"
      ]
     },
     "metadata": {
      "needs_background": "light"
     },
     "output_type": "display_data"
    }
   ],
   "source": [
    "fig, ax = plt.subplots()\n",
    "ax.plot(data_country['date'], data_country['workplace_closing'])\n",
    "ax.set_title('Workplace closing policy over time in ' + selected_country)\n",
    "\n",
    "# rotate and align the tick labels so they look better\n",
    "fig.autofmt_xdate()"
   ]
  },
  {
   "cell_type": "markdown",
   "metadata": {},
   "source": [
    "Visualizing the number of confirmed cases and deaths over time"
   ]
  },
  {
   "cell_type": "code",
   "execution_count": 58,
   "metadata": {},
   "outputs": [
    {
     "data": {
      "image/png": "[encoded data removed]",
      "text/plain": [
       "<Figure size 864x432 with 2 Axes>"
      ]
     },
     "metadata": {
      "needs_background": "light"
     },
     "output_type": "display_data"
    }
   ],
   "source": [
    "fig, (ax1, ax2) = plt.subplots(1, 2, figsize=(12, 6))\n",
    "\n",
    "ax1.plot(data_country['date'], data_country['confirmed'])\n",
    "ax1.set_title('Number of confirmed cases over time in ' + selected_country)\n",
    "ax2.plot(data_country['date'], data_country['deaths'])\n",
    "ax2.set_title('Number of deaths over time in ' + selected_country)\n",
    "fig.autofmt_xdate()"
   ]
  },
  {
   "cell_type": "markdown",
   "metadata": {},
   "source": [
    "Visualizing school closing policy in the selected country"
   ]
  },
  {
   "cell_type": "code",
   "execution_count": 69,
   "metadata": {},
   "outputs": [
    {
     "data": {
      "image/png": "[encoded data removed]",
      "text/plain": [
       "<Figure size 432x288 with 1 Axes>"
      ]
     },
     "metadata": {
      "needs_background": "light"
     },
     "output_type": "display_data"
    }
   ],
   "source": [
    "fig, ax = plt.subplots()\n",
    "ax.plot(data_country['date'], data_country['school_closing'])\n",
    "ax.set_title('Workplace closing policy over time in ' + selected_country)\n",
    "\n",
    "# rotate and align the tick labels so they look better\n",
    "fig.autofmt_xdate()"
   ]
  },
  {
   "cell_type": "markdown",
   "metadata": {},
   "source": [
    "Visualizing the effects of school closing policies on the number of confirmed cases"
   ]
  },
  {
   "cell_type": "code",
   "execution_count": 100,
   "metadata": {},
   "outputs": [
    {
     "data": {
      "image/png": "[encoded data removed]",
      "text/plain": [
       "<Figure size 432x288 with 1 Axes>"
      ]
     },
     "metadata": {
      "needs_background": "light"
     },
     "output_type": "display_data"
    }
   ],
   "source": [
    "from matplotlib.patches import Patch\n",
    "ax = data_country['confirmed'].plot()\n",
    "ax.pcolorfast(ax.get_xlim(), ax.get_ylim(),\n",
    "              data_country['school_closing'].values[np.newaxis],\n",
    "              cmap='RdYlGn', alpha=0.3)\n",
    "\n",
    "legend_elements = [Patch(facecolor='red', edgecolor=None, alpha=0.3, label='No measures'),\n",
    "                  Patch(facecolor='green', edgecolor=None, alpha=0.3, label='Require closing all levels'),\n",
    "                  Patch(facecolor='greenyellow', edgecolor=None, alpha=0.3, label='Require closing only some levels')]\n",
    "\n",
    "# Create the figure\n",
    "#fig, ax = plt.subplots()\n",
    "ax.legend(handles=legend_elements, loc='upper left');"
   ]
  },
  {
   "cell_type": "markdown",
   "metadata": {},
   "source": [
    "### Comparing two countries"
   ]
  },
  {
   "cell_type": "code",
   "execution_count": 67,
   "metadata": {},
   "outputs": [
    {
     "data": {
      "text/plain": [
       "<matplotlib.legend.Legend at 0x7f3a8b922fd0>"
      ]
     },
     "execution_count": 67,
     "metadata": {},
     "output_type": "execute_result"
    },
    {
     "data": {
      "image/png": "[encoded data removed]",
      "text/plain": [
       "<Figure size 864x432 with 2 Axes>"
      ]
     },
     "metadata": {
      "needs_background": "light"
     },
     "output_type": "display_data"
    }
   ],
   "source": [
    "selected_countries = [\"Spain\", \"France\"]\n",
    "\n",
    "fig, (ax1, ax2) = plt.subplots(1, 2, figsize=(12, 6))\n",
    "for country in selected_countries:\n",
    "    data_country_it = data1[data1.administrative_area_level_1 == country]\n",
    "    ax1.plot(data_country_it['date'], data_country_it['confirmed'], label=country)\n",
    "    ax1.set_title('Number of Confirmed Cases Over Time in Different Countries')\n",
    "    ax2.plot(data_country_it['date'], data_country_it['deaths'], label=country)\n",
    "    ax2.set_title('Number of Deaths Over Time in Different Countries')\n",
    "fig.autofmt_xdate()\n",
    "ax1.legend()\n",
    "ax2.legend()"
   ]
  },
  {
   "cell_type": "code",
   "execution_count": null,
   "metadata": {},
   "outputs": [],
   "source": []
  }
 ],
 "metadata": {
  "kernelspec": {
   "display_name": "Python 3",
   "language": "python",
   "name": "python3"
  },
  "language_info": {
   "codemirror_mode": {
    "name": "ipython",
    "version": 3
   },
   "file_extension": ".py",
   "mimetype": "text/x-python",
   "name": "python",
   "nbconvert_exporter": "python",
   "pygments_lexer": "ipython3",
   "version": "3.6.9"
  }
 },
 "nbformat": 4,
 "nbformat_minor": 4
}
