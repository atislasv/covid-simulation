{
 "cells": [
  {
   "cell_type": "markdown",
   "metadata": {},
   "source": [
    "# COVID Datahub - Exploratory Data Analysis"
   ]
  },
  {
   "cell_type": "markdown",
   "metadata": {},
   "source": [
    "## Libraries"
   ]
  },
  {
   "cell_type": "code",
   "execution_count": 1,
   "metadata": {},
   "outputs": [],
   "source": [
    "import pandas as pd\n",
    "import matplotlib.pyplot as plt\n",
    "import numpy as np"
   ]
  },
  {
   "cell_type": "markdown",
   "metadata": {},
   "source": [
    "## Importing data"
   ]
  },
  {
   "cell_type": "markdown",
   "metadata": {},
   "source": [
    "Using data from the COVID19 Datahub, administrative level 1 in `.csv` format available at https://storage.covid19datahub.io/data-1.csv"
   ]
  },
  {
   "cell_type": "code",
   "execution_count": 2,
   "metadata": {},
   "outputs": [
    {
     "name": "stdout",
     "output_type": "stream",
     "text": [
      "(57721, 35)\n",
      "Index(['id', 'date', 'tests', 'confirmed', 'recovered', 'deaths', 'hosp',\n",
      "       'vent', 'icu', 'population', 'school_closing', 'workplace_closing',\n",
      "       'cancel_events', 'gatherings_restrictions', 'transport_closing',\n",
      "       'stay_home_restrictions', 'internal_movement_restrictions',\n",
      "       'international_movement_restrictions', 'information_campaigns',\n",
      "       'testing_policy', 'contact_tracing', 'stringency_index', 'iso_alpha_3',\n",
      "       'iso_alpha_2', 'iso_numeric', 'currency', 'administrative_area_level',\n",
      "       'administrative_area_level_1', 'administrative_area_level_2',\n",
      "       'administrative_area_level_3', 'latitude', 'longitude', 'key',\n",
      "       'key_apple_mobility', 'key_google_mobility'],\n",
      "      dtype='object')\n"
     ]
    },
    {
     "data": {
      "text/html": [
       "<div>\n",
       "<style scoped>\n",
       "    .dataframe tbody tr th:only-of-type {\n",
       "        vertical-align: middle;\n",
       "    }\n",
       "\n",
       "    .dataframe tbody tr th {\n",
       "        vertical-align: top;\n",
       "    }\n",
       "\n",
       "    .dataframe thead th {\n",
       "        text-align: right;\n",
       "    }\n",
       "</style>\n",
       "<table border=\"1\" class=\"dataframe\">\n",
       "  <thead>\n",
       "    <tr style=\"text-align: right;\">\n",
       "      <th></th>\n",
       "      <th>id</th>\n",
       "      <th>date</th>\n",
       "      <th>tests</th>\n",
       "      <th>confirmed</th>\n",
       "      <th>recovered</th>\n",
       "      <th>deaths</th>\n",
       "      <th>hosp</th>\n",
       "      <th>vent</th>\n",
       "      <th>icu</th>\n",
       "      <th>population</th>\n",
       "      <th>...</th>\n",
       "      <th>currency</th>\n",
       "      <th>administrative_area_level</th>\n",
       "      <th>administrative_area_level_1</th>\n",
       "      <th>administrative_area_level_2</th>\n",
       "      <th>administrative_area_level_3</th>\n",
       "      <th>latitude</th>\n",
       "      <th>longitude</th>\n",
       "      <th>key</th>\n",
       "      <th>key_apple_mobility</th>\n",
       "      <th>key_google_mobility</th>\n",
       "    </tr>\n",
       "  </thead>\n",
       "  <tbody>\n",
       "    <tr>\n",
       "      <th>0</th>\n",
       "      <td>AFG</td>\n",
       "      <td>2020-01-01</td>\n",
       "      <td>0</td>\n",
       "      <td>0</td>\n",
       "      <td>0</td>\n",
       "      <td>0</td>\n",
       "      <td>0</td>\n",
       "      <td>0</td>\n",
       "      <td>0</td>\n",
       "      <td>37172386</td>\n",
       "      <td>...</td>\n",
       "      <td>AFN</td>\n",
       "      <td>1</td>\n",
       "      <td>Afghanistan</td>\n",
       "      <td>NaN</td>\n",
       "      <td>NaN</td>\n",
       "      <td>33.0</td>\n",
       "      <td>65.0</td>\n",
       "      <td>NaN</td>\n",
       "      <td>NaN</td>\n",
       "      <td>AF</td>\n",
       "    </tr>\n",
       "    <tr>\n",
       "      <th>1</th>\n",
       "      <td>AFG</td>\n",
       "      <td>2020-01-02</td>\n",
       "      <td>0</td>\n",
       "      <td>0</td>\n",
       "      <td>0</td>\n",
       "      <td>0</td>\n",
       "      <td>0</td>\n",
       "      <td>0</td>\n",
       "      <td>0</td>\n",
       "      <td>37172386</td>\n",
       "      <td>...</td>\n",
       "      <td>AFN</td>\n",
       "      <td>1</td>\n",
       "      <td>Afghanistan</td>\n",
       "      <td>NaN</td>\n",
       "      <td>NaN</td>\n",
       "      <td>33.0</td>\n",
       "      <td>65.0</td>\n",
       "      <td>NaN</td>\n",
       "      <td>NaN</td>\n",
       "      <td>AF</td>\n",
       "    </tr>\n",
       "    <tr>\n",
       "      <th>2</th>\n",
       "      <td>AFG</td>\n",
       "      <td>2020-01-03</td>\n",
       "      <td>0</td>\n",
       "      <td>0</td>\n",
       "      <td>0</td>\n",
       "      <td>0</td>\n",
       "      <td>0</td>\n",
       "      <td>0</td>\n",
       "      <td>0</td>\n",
       "      <td>37172386</td>\n",
       "      <td>...</td>\n",
       "      <td>AFN</td>\n",
       "      <td>1</td>\n",
       "      <td>Afghanistan</td>\n",
       "      <td>NaN</td>\n",
       "      <td>NaN</td>\n",
       "      <td>33.0</td>\n",
       "      <td>65.0</td>\n",
       "      <td>NaN</td>\n",
       "      <td>NaN</td>\n",
       "      <td>AF</td>\n",
       "    </tr>\n",
       "    <tr>\n",
       "      <th>3</th>\n",
       "      <td>AFG</td>\n",
       "      <td>2020-01-04</td>\n",
       "      <td>0</td>\n",
       "      <td>0</td>\n",
       "      <td>0</td>\n",
       "      <td>0</td>\n",
       "      <td>0</td>\n",
       "      <td>0</td>\n",
       "      <td>0</td>\n",
       "      <td>37172386</td>\n",
       "      <td>...</td>\n",
       "      <td>AFN</td>\n",
       "      <td>1</td>\n",
       "      <td>Afghanistan</td>\n",
       "      <td>NaN</td>\n",
       "      <td>NaN</td>\n",
       "      <td>33.0</td>\n",
       "      <td>65.0</td>\n",
       "      <td>NaN</td>\n",
       "      <td>NaN</td>\n",
       "      <td>AF</td>\n",
       "    </tr>\n",
       "    <tr>\n",
       "      <th>4</th>\n",
       "      <td>AFG</td>\n",
       "      <td>2020-01-05</td>\n",
       "      <td>0</td>\n",
       "      <td>0</td>\n",
       "      <td>0</td>\n",
       "      <td>0</td>\n",
       "      <td>0</td>\n",
       "      <td>0</td>\n",
       "      <td>0</td>\n",
       "      <td>37172386</td>\n",
       "      <td>...</td>\n",
       "      <td>AFN</td>\n",
       "      <td>1</td>\n",
       "      <td>Afghanistan</td>\n",
       "      <td>NaN</td>\n",
       "      <td>NaN</td>\n",
       "      <td>33.0</td>\n",
       "      <td>65.0</td>\n",
       "      <td>NaN</td>\n",
       "      <td>NaN</td>\n",
       "      <td>AF</td>\n",
       "    </tr>\n",
       "  </tbody>\n",
       "</table>\n",
       "<p>5 rows × 35 columns</p>\n",
       "</div>"
      ],
      "text/plain": [
       "    id        date  tests  confirmed  recovered  deaths  hosp  vent  icu  \\\n",
       "0  AFG  2020-01-01      0          0          0       0     0     0    0   \n",
       "1  AFG  2020-01-02      0          0          0       0     0     0    0   \n",
       "2  AFG  2020-01-03      0          0          0       0     0     0    0   \n",
       "3  AFG  2020-01-04      0          0          0       0     0     0    0   \n",
       "4  AFG  2020-01-05      0          0          0       0     0     0    0   \n",
       "\n",
       "   population  ...  currency  administrative_area_level  \\\n",
       "0    37172386  ...       AFN                          1   \n",
       "1    37172386  ...       AFN                          1   \n",
       "2    37172386  ...       AFN                          1   \n",
       "3    37172386  ...       AFN                          1   \n",
       "4    37172386  ...       AFN                          1   \n",
       "\n",
       "   administrative_area_level_1  administrative_area_level_2  \\\n",
       "0                  Afghanistan                          NaN   \n",
       "1                  Afghanistan                          NaN   \n",
       "2                  Afghanistan                          NaN   \n",
       "3                  Afghanistan                          NaN   \n",
       "4                  Afghanistan                          NaN   \n",
       "\n",
       "   administrative_area_level_3  latitude  longitude  key  key_apple_mobility  \\\n",
       "0                          NaN      33.0       65.0  NaN                 NaN   \n",
       "1                          NaN      33.0       65.0  NaN                 NaN   \n",
       "2                          NaN      33.0       65.0  NaN                 NaN   \n",
       "3                          NaN      33.0       65.0  NaN                 NaN   \n",
       "4                          NaN      33.0       65.0  NaN                 NaN   \n",
       "\n",
       "   key_google_mobility  \n",
       "0                   AF  \n",
       "1                   AF  \n",
       "2                   AF  \n",
       "3                   AF  \n",
       "4                   AF  \n",
       "\n",
       "[5 rows x 35 columns]"
      ]
     },
     "execution_count": 2,
     "metadata": {},
     "output_type": "execute_result"
    }
   ],
   "source": [
    "data1 = pd.read_csv(\"./data/data-1.csv\")\n",
    "print(data1.shape)\n",
    "print(data1.columns)\n",
    "data1.head()"
   ]
  },
  {
   "cell_type": "markdown",
   "metadata": {},
   "source": [
    "Go to https://covid19datahub.io/articles/doc/data.html to get a description of what each variable in the dataset represents"
   ]
  },
  {
   "cell_type": "code",
   "execution_count": 3,
   "metadata": {},
   "outputs": [],
   "source": [
    "# Converting dates to datetime format\n",
    "data1['date'] = pd.to_datetime(data1['date'], format='%Y-%m-%d')"
   ]
  },
  {
   "cell_type": "markdown",
   "metadata": {},
   "source": [
    "## Example exploratory code"
   ]
  },
  {
   "cell_type": "markdown",
   "metadata": {},
   "source": [
    "### Visualizing data for a specific country\n",
    "\n",
    "Using Canada as an example"
   ]
  },
  {
   "cell_type": "code",
   "execution_count": 4,
   "metadata": {},
   "outputs": [
    {
     "name": "stdout",
     "output_type": "stream",
     "text": [
      "(293, 35)\n"
     ]
    },
    {
     "data": {
      "text/html": [
       "<div>\n",
       "<style scoped>\n",
       "    .dataframe tbody tr th:only-of-type {\n",
       "        vertical-align: middle;\n",
       "    }\n",
       "\n",
       "    .dataframe tbody tr th {\n",
       "        vertical-align: top;\n",
       "    }\n",
       "\n",
       "    .dataframe thead th {\n",
       "        text-align: right;\n",
       "    }\n",
       "</style>\n",
       "<table border=\"1\" class=\"dataframe\">\n",
       "  <thead>\n",
       "    <tr style=\"text-align: right;\">\n",
       "      <th></th>\n",
       "      <th>id</th>\n",
       "      <th>date</th>\n",
       "      <th>tests</th>\n",
       "      <th>confirmed</th>\n",
       "      <th>recovered</th>\n",
       "      <th>deaths</th>\n",
       "      <th>hosp</th>\n",
       "      <th>vent</th>\n",
       "      <th>icu</th>\n",
       "      <th>population</th>\n",
       "      <th>...</th>\n",
       "      <th>currency</th>\n",
       "      <th>administrative_area_level</th>\n",
       "      <th>administrative_area_level_1</th>\n",
       "      <th>administrative_area_level_2</th>\n",
       "      <th>administrative_area_level_3</th>\n",
       "      <th>latitude</th>\n",
       "      <th>longitude</th>\n",
       "      <th>key</th>\n",
       "      <th>key_apple_mobility</th>\n",
       "      <th>key_google_mobility</th>\n",
       "    </tr>\n",
       "  </thead>\n",
       "  <tbody>\n",
       "    <tr>\n",
       "      <th>9376</th>\n",
       "      <td>CAN</td>\n",
       "      <td>2020-01-01</td>\n",
       "      <td>0</td>\n",
       "      <td>0</td>\n",
       "      <td>0</td>\n",
       "      <td>0</td>\n",
       "      <td>0</td>\n",
       "      <td>0</td>\n",
       "      <td>0</td>\n",
       "      <td>37057765</td>\n",
       "      <td>...</td>\n",
       "      <td>CAD</td>\n",
       "      <td>1</td>\n",
       "      <td>Canada</td>\n",
       "      <td>NaN</td>\n",
       "      <td>NaN</td>\n",
       "      <td>44.784047</td>\n",
       "      <td>-82.508593</td>\n",
       "      <td>NaN</td>\n",
       "      <td>Canada</td>\n",
       "      <td>CA</td>\n",
       "    </tr>\n",
       "    <tr>\n",
       "      <th>9377</th>\n",
       "      <td>CAN</td>\n",
       "      <td>2020-01-02</td>\n",
       "      <td>0</td>\n",
       "      <td>0</td>\n",
       "      <td>0</td>\n",
       "      <td>0</td>\n",
       "      <td>0</td>\n",
       "      <td>0</td>\n",
       "      <td>0</td>\n",
       "      <td>37057765</td>\n",
       "      <td>...</td>\n",
       "      <td>CAD</td>\n",
       "      <td>1</td>\n",
       "      <td>Canada</td>\n",
       "      <td>NaN</td>\n",
       "      <td>NaN</td>\n",
       "      <td>44.784047</td>\n",
       "      <td>-82.508593</td>\n",
       "      <td>NaN</td>\n",
       "      <td>Canada</td>\n",
       "      <td>CA</td>\n",
       "    </tr>\n",
       "    <tr>\n",
       "      <th>9378</th>\n",
       "      <td>CAN</td>\n",
       "      <td>2020-01-03</td>\n",
       "      <td>0</td>\n",
       "      <td>0</td>\n",
       "      <td>0</td>\n",
       "      <td>0</td>\n",
       "      <td>0</td>\n",
       "      <td>0</td>\n",
       "      <td>0</td>\n",
       "      <td>37057765</td>\n",
       "      <td>...</td>\n",
       "      <td>CAD</td>\n",
       "      <td>1</td>\n",
       "      <td>Canada</td>\n",
       "      <td>NaN</td>\n",
       "      <td>NaN</td>\n",
       "      <td>44.784047</td>\n",
       "      <td>-82.508593</td>\n",
       "      <td>NaN</td>\n",
       "      <td>Canada</td>\n",
       "      <td>CA</td>\n",
       "    </tr>\n",
       "    <tr>\n",
       "      <th>9379</th>\n",
       "      <td>CAN</td>\n",
       "      <td>2020-01-04</td>\n",
       "      <td>0</td>\n",
       "      <td>0</td>\n",
       "      <td>0</td>\n",
       "      <td>0</td>\n",
       "      <td>0</td>\n",
       "      <td>0</td>\n",
       "      <td>0</td>\n",
       "      <td>37057765</td>\n",
       "      <td>...</td>\n",
       "      <td>CAD</td>\n",
       "      <td>1</td>\n",
       "      <td>Canada</td>\n",
       "      <td>NaN</td>\n",
       "      <td>NaN</td>\n",
       "      <td>44.784047</td>\n",
       "      <td>-82.508593</td>\n",
       "      <td>NaN</td>\n",
       "      <td>Canada</td>\n",
       "      <td>CA</td>\n",
       "    </tr>\n",
       "    <tr>\n",
       "      <th>9380</th>\n",
       "      <td>CAN</td>\n",
       "      <td>2020-01-05</td>\n",
       "      <td>0</td>\n",
       "      <td>0</td>\n",
       "      <td>0</td>\n",
       "      <td>0</td>\n",
       "      <td>0</td>\n",
       "      <td>0</td>\n",
       "      <td>0</td>\n",
       "      <td>37057765</td>\n",
       "      <td>...</td>\n",
       "      <td>CAD</td>\n",
       "      <td>1</td>\n",
       "      <td>Canada</td>\n",
       "      <td>NaN</td>\n",
       "      <td>NaN</td>\n",
       "      <td>44.784047</td>\n",
       "      <td>-82.508593</td>\n",
       "      <td>NaN</td>\n",
       "      <td>Canada</td>\n",
       "      <td>CA</td>\n",
       "    </tr>\n",
       "  </tbody>\n",
       "</table>\n",
       "<p>5 rows × 35 columns</p>\n",
       "</div>"
      ],
      "text/plain": [
       "       id       date  tests  confirmed  recovered  deaths  hosp  vent  icu  \\\n",
       "9376  CAN 2020-01-01      0          0          0       0     0     0    0   \n",
       "9377  CAN 2020-01-02      0          0          0       0     0     0    0   \n",
       "9378  CAN 2020-01-03      0          0          0       0     0     0    0   \n",
       "9379  CAN 2020-01-04      0          0          0       0     0     0    0   \n",
       "9380  CAN 2020-01-05      0          0          0       0     0     0    0   \n",
       "\n",
       "      population  ...  currency  administrative_area_level  \\\n",
       "9376    37057765  ...       CAD                          1   \n",
       "9377    37057765  ...       CAD                          1   \n",
       "9378    37057765  ...       CAD                          1   \n",
       "9379    37057765  ...       CAD                          1   \n",
       "9380    37057765  ...       CAD                          1   \n",
       "\n",
       "      administrative_area_level_1  administrative_area_level_2  \\\n",
       "9376                       Canada                          NaN   \n",
       "9377                       Canada                          NaN   \n",
       "9378                       Canada                          NaN   \n",
       "9379                       Canada                          NaN   \n",
       "9380                       Canada                          NaN   \n",
       "\n",
       "      administrative_area_level_3   latitude  longitude  key  \\\n",
       "9376                          NaN  44.784047 -82.508593  NaN   \n",
       "9377                          NaN  44.784047 -82.508593  NaN   \n",
       "9378                          NaN  44.784047 -82.508593  NaN   \n",
       "9379                          NaN  44.784047 -82.508593  NaN   \n",
       "9380                          NaN  44.784047 -82.508593  NaN   \n",
       "\n",
       "      key_apple_mobility  key_google_mobility  \n",
       "9376              Canada                   CA  \n",
       "9377              Canada                   CA  \n",
       "9378              Canada                   CA  \n",
       "9379              Canada                   CA  \n",
       "9380              Canada                   CA  \n",
       "\n",
       "[5 rows x 35 columns]"
      ]
     },
     "execution_count": 4,
     "metadata": {},
     "output_type": "execute_result"
    }
   ],
   "source": [
    "selected_country = \"Canada\"\n",
    "data_country = data1[data1.administrative_area_level_1 == selected_country]\n",
    "print(data_country.shape)\n",
    "data_country.head()"
   ]
  },
  {
   "cell_type": "markdown",
   "metadata": {},
   "source": [
    "Checking initial and final date of observations for a country"
   ]
  },
  {
   "cell_type": "code",
   "execution_count": 5,
   "metadata": {},
   "outputs": [
    {
     "name": "stdout",
     "output_type": "stream",
     "text": [
      "292 days 00:00:00\n",
      "2020-01-01 00:00:00\n",
      "2020-10-19 00:00:00\n"
     ]
    }
   ],
   "source": [
    "print(data_country.date.max() - data_country.date.min())\n",
    "print(data_country.date.min())\n",
    "print(data_country.date.max())"
   ]
  },
  {
   "cell_type": "markdown",
   "metadata": {},
   "source": [
    "Visualizing how `workplace_closing` policy has changed thoughout the pandemic, where:\n",
    "- 0: No measures \n",
    "- 1: Recommend closing (or work from home) \n",
    "- 2: require closing for some sectors or categories of workers \n",
    "- 3: require closing (or work from home) all-but-essential workplaces (eg grocery stores, doctors)."
   ]
  },
  {
   "cell_type": "code",
   "execution_count": 108,
   "metadata": {},
   "outputs": [
    {
     "data": {
      "image/png": "[encoded data removed]",
      "text/plain": [
       "<Figure size 432x288 with 1 Axes>"
      ]
     },
     "metadata": {
      "needs_background": "light"
     },
     "output_type": "display_data"
    }
   ],
   "source": [
    "fig, ax = plt.subplots()\n",
    "ax.plot(data_country['date'], data_country['workplace_closing'])\n",
    "ax.set_title('Workplace closing policy over time in ' + selected_country)\n",
    "\n",
    "# rotate and align the tick labels so they look better\n",
    "fig.autofmt_xdate()"
   ]
  },
  {
   "cell_type": "markdown",
   "metadata": {},
   "source": [
    "Visualizing the number of confirmed cases and deaths over time"
   ]
  },
  {
   "cell_type": "code",
   "execution_count": 14,
   "metadata": {},
   "outputs": [
    {
     "data": {
      "image/png": "[encoded data removed]",
      "text/plain": [
       "<Figure size 864x432 with 2 Axes>"
      ]
     },
     "metadata": {
      "needs_background": "light"
     },
     "output_type": "display_data"
    }
   ],
   "source": [
    "fig, (ax1, ax2) = plt.subplots(1, 2, figsize=(12, 6))\n",
    "\n",
    "ax1.plot(data_country['date'], data_country['confirmed'])\n",
    "ax1.set_title('Number of confirmed cases over time in ' + selected_country)\n",
    "ax2.plot(data_country['date'], data_country['deaths'])\n",
    "ax2.set_title('Number of deaths over time in ' + selected_country)\n",
    "fig.autofmt_xdate()"
   ]
  },
  {
   "cell_type": "markdown",
   "metadata": {},
   "source": [
    "Calculating number of daily NEW cases and deaths"
   ]
  },
  {
   "cell_type": "code",
   "execution_count": 38,
   "metadata": {},
   "outputs": [
    {
     "data": {
      "image/png": "[encoded data removed]",
      "text/plain": [
       "<Figure size 864x432 with 2 Axes>"
      ]
     },
     "metadata": {
      "needs_background": "light"
     },
     "output_type": "display_data"
    }
   ],
   "source": [
    "data_country.loc[:,'new_cases'] = data_country['confirmed'].diff()\n",
    "data_country.loc[:,'new_deaths'] = data_country['deaths'].diff()\n",
    "\n",
    "fig, (ax1, ax2) = plt.subplots(1, 2, figsize=(12, 6))\n",
    "\n",
    "ax1.plot(data_country['date'], data_country['new_cases'])\n",
    "ax1.set_title('Number of new cases over time in ' + selected_country)\n",
    "ax2.plot(data_country['date'], data_country['new_deaths'])\n",
    "ax2.set_title('Number of new deaths over time in ' + selected_country)\n",
    "fig.autofmt_xdate()"
   ]
  },
  {
   "cell_type": "markdown",
   "metadata": {},
   "source": [
    "Visualizing school closing policy in the selected country"
   ]
  },
  {
   "cell_type": "code",
   "execution_count": 110,
   "metadata": {},
   "outputs": [
    {
     "data": {
      "image/png": "[encoded data removed]",
      "text/plain": [
       "<Figure size 432x288 with 1 Axes>"
      ]
     },
     "metadata": {
      "needs_background": "light"
     },
     "output_type": "display_data"
    }
   ],
   "source": [
    "fig, ax = plt.subplots()\n",
    "ax.plot(data_country['date'], data_country['school_closing'])\n",
    "ax.set_title('School closing policy over time in ' + selected_country)\n",
    "\n",
    "# rotate and align the tick labels so they look better\n",
    "fig.autofmt_xdate()"
   ]
  },
  {
   "cell_type": "markdown",
   "metadata": {},
   "source": [
    "Visualizing the effects of school closing policies on the number of confirmed cases"
   ]
  },
  {
   "cell_type": "code",
   "execution_count": 117,
   "metadata": {},
   "outputs": [
    {
     "data": {
      "image/png": "[encoded data removed]",
      "text/plain": [
       "<Figure size 432x288 with 1 Axes>"
      ]
     },
     "metadata": {
      "needs_background": "light"
     },
     "output_type": "display_data"
    }
   ],
   "source": [
    "from matplotlib.patches import Patch\n",
    "ax = data_country.plot(x='date', y='confirmed')\n",
    "ax.pcolorfast(ax.get_xlim(), ax.get_ylim(),\n",
    "              data_country['school_closing'].values[np.newaxis],\n",
    "              cmap='RdYlGn', alpha=0.3)\n",
    "\n",
    "legend_elements = [Patch(facecolor='red', edgecolor=None, alpha=0.3, label='No measures'),\n",
    "                  Patch(facecolor='green', edgecolor=None, alpha=0.3, label='Require closing all levels'),\n",
    "                  Patch(facecolor='greenyellow', edgecolor=None, alpha=0.3, label='Require closing only some levels')]\n",
    "\n",
    "# Create the figure\n",
    "#fig, ax = plt.subplots()\n",
    "ax.legend(handles=legend_elements, loc='upper left');"
   ]
  },
  {
   "cell_type": "markdown",
   "metadata": {},
   "source": [
    "### Comparing two countries"
   ]
  },
  {
   "cell_type": "code",
   "execution_count": 39,
   "metadata": {},
   "outputs": [],
   "source": [
    "selected_countries = [\"Spain\", \"France\"]"
   ]
  },
  {
   "cell_type": "code",
   "execution_count": 40,
   "metadata": {},
   "outputs": [
    {
     "data": {
      "text/plain": [
       "<matplotlib.legend.Legend at 0x7fefeb774208>"
      ]
     },
     "execution_count": 40,
     "metadata": {},
     "output_type": "execute_result"
    },
    {
     "data": {
      "image/png": "[encoded data removed]",
      "text/plain": [
       "<Figure size 864x432 with 2 Axes>"
      ]
     },
     "metadata": {
      "needs_background": "light"
     },
     "output_type": "display_data"
    }
   ],
   "source": [
    "fig, (ax1, ax2) = plt.subplots(1, 2, figsize=(12, 6))\n",
    "for country in selected_countries:\n",
    "    data_country_it = data1[data1.administrative_area_level_1 == country]\n",
    "    ax1.plot(data_country_it['date'], data_country_it['confirmed'], label=country)\n",
    "    ax1.set_title('Number of Confirmed Cases Over Time in Different Countries')\n",
    "    ax2.plot(data_country_it['date'], data_country_it['deaths'], label=country)\n",
    "    ax2.set_title('Number of Deaths Over Time in Different Countries')\n",
    "fig.autofmt_xdate()\n",
    "ax1.legend()\n",
    "ax2.legend()"
   ]
  },
  {
   "cell_type": "code",
   "execution_count": 41,
   "metadata": {},
   "outputs": [
    {
     "name": "stderr",
     "output_type": "stream",
     "text": [
      "/usr/local/lib/python3.6/dist-packages/pandas/core/indexing.py:1596: SettingWithCopyWarning: \n",
      "A value is trying to be set on a copy of a slice from a DataFrame.\n",
      "Try using .loc[row_indexer,col_indexer] = value instead\n",
      "\n",
      "See the caveats in the documentation: https://pandas.pydata.org/pandas-docs/stable/user_guide/indexing.html#returning-a-view-versus-a-copy\n",
      "  self.obj[key] = _infer_fill_value(value)\n",
      "/usr/local/lib/python3.6/dist-packages/pandas/core/indexing.py:1745: SettingWithCopyWarning: \n",
      "A value is trying to be set on a copy of a slice from a DataFrame.\n",
      "Try using .loc[row_indexer,col_indexer] = value instead\n",
      "\n",
      "See the caveats in the documentation: https://pandas.pydata.org/pandas-docs/stable/user_guide/indexing.html#returning-a-view-versus-a-copy\n",
      "  isetter(ilocs[0], value)\n",
      "/usr/local/lib/python3.6/dist-packages/pandas/core/indexing.py:1596: SettingWithCopyWarning: \n",
      "A value is trying to be set on a copy of a slice from a DataFrame.\n",
      "Try using .loc[row_indexer,col_indexer] = value instead\n",
      "\n",
      "See the caveats in the documentation: https://pandas.pydata.org/pandas-docs/stable/user_guide/indexing.html#returning-a-view-versus-a-copy\n",
      "  self.obj[key] = _infer_fill_value(value)\n",
      "/usr/local/lib/python3.6/dist-packages/pandas/core/indexing.py:1745: SettingWithCopyWarning: \n",
      "A value is trying to be set on a copy of a slice from a DataFrame.\n",
      "Try using .loc[row_indexer,col_indexer] = value instead\n",
      "\n",
      "See the caveats in the documentation: https://pandas.pydata.org/pandas-docs/stable/user_guide/indexing.html#returning-a-view-versus-a-copy\n",
      "  isetter(ilocs[0], value)\n"
     ]
    },
    {
     "data": {
      "text/plain": [
       "<matplotlib.legend.Legend at 0x7fefeba91fd0>"
      ]
     },
     "execution_count": 41,
     "metadata": {},
     "output_type": "execute_result"
    },
    {
     "data": {
      "image/png": "[encoded data removed]",
      "text/plain": [
       "<Figure size 864x432 with 2 Axes>"
      ]
     },
     "metadata": {
      "needs_background": "light"
     },
     "output_type": "display_data"
    }
   ],
   "source": [
    "fig, (ax1, ax2) = plt.subplots(1, 2, figsize=(12, 6))\n",
    "for country in selected_countries:\n",
    "    data_country_it = data1[data1.administrative_area_level_1 == country]\n",
    "    data_country_it.loc[:,'new_cases'] = data_country_it['confirmed'].diff()\n",
    "    data_country_it.loc[:,'new_deaths'] = data_country_it['deaths'].diff()\n",
    "    ax1.plot(data_country_it['date'], data_country_it['new_cases'], label=country)\n",
    "    ax1.set_title('Number of New Cases Over Time in Different Countries')\n",
    "    ax2.plot(data_country_it['date'], data_country_it['new_deaths'], label=country)\n",
    "    ax2.set_title('Number of New Deaths Over Time in Different Countries')\n",
    "fig.autofmt_xdate()\n",
    "ax1.legend()\n",
    "ax2.legend()"
   ]
  },
  {
   "cell_type": "markdown",
   "metadata": {},
   "source": [
    "Calculating differences over every 7 days to filter the data"
   ]
  },
  {
   "cell_type": "code",
   "execution_count": 91,
   "metadata": {},
   "outputs": [],
   "source": [
    "data_country_it = data1[data1.administrative_area_level_1 == \"Spain\"]\n",
    "period = 7\n",
    "filtered_data = \n",
    "for np.arange(0, , period):\n",
    "    data_country_it.loc[:,'new_cases'] = data_country_it['confirmed'].diff()\n",
    "    data_country_it.loc[:,'new_deaths'] = data_country_it['deaths'].diff()\n",
    "    ax1.plot(data_country_it['date'], data_country_it['new_cases'], label=country)\n",
    "    ax1.set_title('Number of New Cases Over Time in Different Countries')"
   ]
  },
  {
   "cell_type": "code",
   "execution_count": 95,
   "metadata": {},
   "outputs": [
    {
     "name": "stderr",
     "output_type": "stream",
     "text": [
      "/usr/local/lib/python3.6/dist-packages/pandas/core/indexing.py:1596: SettingWithCopyWarning: \n",
      "A value is trying to be set on a copy of a slice from a DataFrame.\n",
      "Try using .loc[row_indexer,col_indexer] = value instead\n",
      "\n",
      "See the caveats in the documentation: https://pandas.pydata.org/pandas-docs/stable/user_guide/indexing.html#returning-a-view-versus-a-copy\n",
      "  self.obj[key] = _infer_fill_value(value)\n",
      "/usr/local/lib/python3.6/dist-packages/pandas/core/indexing.py:1745: SettingWithCopyWarning: \n",
      "A value is trying to be set on a copy of a slice from a DataFrame.\n",
      "Try using .loc[row_indexer,col_indexer] = value instead\n",
      "\n",
      "See the caveats in the documentation: https://pandas.pydata.org/pandas-docs/stable/user_guide/indexing.html#returning-a-view-versus-a-copy\n",
      "  isetter(ilocs[0], value)\n"
     ]
    },
    {
     "data": {
      "text/plain": [
       "Text(0.5, 1.0, 'Number of New Deaths Over Time in Different Countries')"
      ]
     },
     "execution_count": 95,
     "metadata": {},
     "output_type": "execute_result"
    }
   ],
   "source": [
    "data_country_it = data1[data1.administrative_area_level_1 == \"Spain\"]\n",
    "data_country_it.loc[:,'new_cases'] = data_country_it['confirmed'].diff(7)\n",
    "data_country_it.loc[:,'new_deaths'] = data_country_it['deaths'].diff(7)\n",
    "\n",
    "ax1.plot(data_country_it['date'], data_country_it['new_cases'], label=country)\n",
    "ax1.set_title('Number of New Cases Over Time in Different Countries')\n",
    "ax2.plot(data_country_it['date'], data_country_it['new_deaths'], label=country)\n",
    "ax2.set_title('Number of New Deaths Over Time in Different Countries')"
   ]
  },
  {
   "cell_type": "markdown",
   "metadata": {},
   "source": [
    "## Importing data for a different administrative level"
   ]
  },
  {
   "cell_type": "markdown",
   "metadata": {},
   "source": [
    "Using data from the COVID19 Datahub, administrative level 3 in `.csv` format available at https://storage.covid19datahub.io/data-3.csv"
   ]
  },
  {
   "cell_type": "code",
   "execution_count": 48,
   "metadata": {},
   "outputs": [
    {
     "name": "stderr",
     "output_type": "stream",
     "text": [
      "/usr/local/lib/python3.6/dist-packages/IPython/core/interactiveshell.py:3072: DtypeWarning: Columns (32,36) have mixed types.Specify dtype option on import or set low_memory=False.\n",
      "  interactivity=interactivity, compiler=compiler, result=result)\n"
     ]
    },
    {
     "name": "stdout",
     "output_type": "stream",
     "text": [
      "(1483482, 37)\n",
      "Index(['id', 'date', 'tests', 'confirmed', 'recovered', 'deaths', 'hosp',\n",
      "       'vent', 'icu', 'population', 'school_closing', 'workplace_closing',\n",
      "       'cancel_events', 'gatherings_restrictions', 'transport_closing',\n",
      "       'stay_home_restrictions', 'internal_movement_restrictions',\n",
      "       'international_movement_restrictions', 'information_campaigns',\n",
      "       'testing_policy', 'contact_tracing', 'stringency_index', 'iso_alpha_3',\n",
      "       'iso_alpha_2', 'iso_numeric', 'currency', 'administrative_area_level',\n",
      "       'administrative_area_level_1', 'administrative_area_level_2',\n",
      "       'administrative_area_level_3', 'latitude', 'longitude', 'key',\n",
      "       'key_numeric', 'key_google_mobility', 'key_apple_mobility',\n",
      "       'key_alpha_2'],\n",
      "      dtype='object')\n"
     ]
    },
    {
     "data": {
      "text/html": [
       "<div>\n",
       "<style scoped>\n",
       "    .dataframe tbody tr th:only-of-type {\n",
       "        vertical-align: middle;\n",
       "    }\n",
       "\n",
       "    .dataframe tbody tr th {\n",
       "        vertical-align: top;\n",
       "    }\n",
       "\n",
       "    .dataframe thead th {\n",
       "        text-align: right;\n",
       "    }\n",
       "</style>\n",
       "<table border=\"1\" class=\"dataframe\">\n",
       "  <thead>\n",
       "    <tr style=\"text-align: right;\">\n",
       "      <th></th>\n",
       "      <th>id</th>\n",
       "      <th>date</th>\n",
       "      <th>tests</th>\n",
       "      <th>confirmed</th>\n",
       "      <th>recovered</th>\n",
       "      <th>deaths</th>\n",
       "      <th>hosp</th>\n",
       "      <th>vent</th>\n",
       "      <th>icu</th>\n",
       "      <th>population</th>\n",
       "      <th>...</th>\n",
       "      <th>administrative_area_level_1</th>\n",
       "      <th>administrative_area_level_2</th>\n",
       "      <th>administrative_area_level_3</th>\n",
       "      <th>latitude</th>\n",
       "      <th>longitude</th>\n",
       "      <th>key</th>\n",
       "      <th>key_numeric</th>\n",
       "      <th>key_google_mobility</th>\n",
       "      <th>key_apple_mobility</th>\n",
       "      <th>key_alpha_2</th>\n",
       "    </tr>\n",
       "  </thead>\n",
       "  <tbody>\n",
       "    <tr>\n",
       "      <th>0</th>\n",
       "      <td>0007cb93</td>\n",
       "      <td>2020-01-21</td>\n",
       "      <td>0</td>\n",
       "      <td>0</td>\n",
       "      <td>0</td>\n",
       "      <td>0</td>\n",
       "      <td>0</td>\n",
       "      <td>0</td>\n",
       "      <td>0</td>\n",
       "      <td>5257.0</td>\n",
       "      <td>...</td>\n",
       "      <td>United States</td>\n",
       "      <td>Georgia</td>\n",
       "      <td>Schley</td>\n",
       "      <td>32.265402</td>\n",
       "      <td>-84.312589</td>\n",
       "      <td>NaN</td>\n",
       "      <td>13249.0</td>\n",
       "      <td>Georgia, Schley County</td>\n",
       "      <td>NaN</td>\n",
       "      <td>NaN</td>\n",
       "    </tr>\n",
       "    <tr>\n",
       "      <th>1</th>\n",
       "      <td>0007cb93</td>\n",
       "      <td>2020-01-22</td>\n",
       "      <td>0</td>\n",
       "      <td>0</td>\n",
       "      <td>0</td>\n",
       "      <td>0</td>\n",
       "      <td>0</td>\n",
       "      <td>0</td>\n",
       "      <td>0</td>\n",
       "      <td>5257.0</td>\n",
       "      <td>...</td>\n",
       "      <td>United States</td>\n",
       "      <td>Georgia</td>\n",
       "      <td>Schley</td>\n",
       "      <td>32.265402</td>\n",
       "      <td>-84.312589</td>\n",
       "      <td>NaN</td>\n",
       "      <td>13249.0</td>\n",
       "      <td>Georgia, Schley County</td>\n",
       "      <td>NaN</td>\n",
       "      <td>NaN</td>\n",
       "    </tr>\n",
       "    <tr>\n",
       "      <th>2</th>\n",
       "      <td>0007cb93</td>\n",
       "      <td>2020-01-23</td>\n",
       "      <td>0</td>\n",
       "      <td>0</td>\n",
       "      <td>0</td>\n",
       "      <td>0</td>\n",
       "      <td>0</td>\n",
       "      <td>0</td>\n",
       "      <td>0</td>\n",
       "      <td>5257.0</td>\n",
       "      <td>...</td>\n",
       "      <td>United States</td>\n",
       "      <td>Georgia</td>\n",
       "      <td>Schley</td>\n",
       "      <td>32.265402</td>\n",
       "      <td>-84.312589</td>\n",
       "      <td>NaN</td>\n",
       "      <td>13249.0</td>\n",
       "      <td>Georgia, Schley County</td>\n",
       "      <td>NaN</td>\n",
       "      <td>NaN</td>\n",
       "    </tr>\n",
       "    <tr>\n",
       "      <th>3</th>\n",
       "      <td>0007cb93</td>\n",
       "      <td>2020-01-24</td>\n",
       "      <td>0</td>\n",
       "      <td>0</td>\n",
       "      <td>0</td>\n",
       "      <td>0</td>\n",
       "      <td>0</td>\n",
       "      <td>0</td>\n",
       "      <td>0</td>\n",
       "      <td>5257.0</td>\n",
       "      <td>...</td>\n",
       "      <td>United States</td>\n",
       "      <td>Georgia</td>\n",
       "      <td>Schley</td>\n",
       "      <td>32.265402</td>\n",
       "      <td>-84.312589</td>\n",
       "      <td>NaN</td>\n",
       "      <td>13249.0</td>\n",
       "      <td>Georgia, Schley County</td>\n",
       "      <td>NaN</td>\n",
       "      <td>NaN</td>\n",
       "    </tr>\n",
       "    <tr>\n",
       "      <th>4</th>\n",
       "      <td>0007cb93</td>\n",
       "      <td>2020-01-25</td>\n",
       "      <td>0</td>\n",
       "      <td>0</td>\n",
       "      <td>0</td>\n",
       "      <td>0</td>\n",
       "      <td>0</td>\n",
       "      <td>0</td>\n",
       "      <td>0</td>\n",
       "      <td>5257.0</td>\n",
       "      <td>...</td>\n",
       "      <td>United States</td>\n",
       "      <td>Georgia</td>\n",
       "      <td>Schley</td>\n",
       "      <td>32.265402</td>\n",
       "      <td>-84.312589</td>\n",
       "      <td>NaN</td>\n",
       "      <td>13249.0</td>\n",
       "      <td>Georgia, Schley County</td>\n",
       "      <td>NaN</td>\n",
       "      <td>NaN</td>\n",
       "    </tr>\n",
       "  </tbody>\n",
       "</table>\n",
       "<p>5 rows × 37 columns</p>\n",
       "</div>"
      ],
      "text/plain": [
       "         id        date  tests  confirmed  recovered  deaths  hosp  vent  icu  \\\n",
       "0  0007cb93  2020-01-21      0          0          0       0     0     0    0   \n",
       "1  0007cb93  2020-01-22      0          0          0       0     0     0    0   \n",
       "2  0007cb93  2020-01-23      0          0          0       0     0     0    0   \n",
       "3  0007cb93  2020-01-24      0          0          0       0     0     0    0   \n",
       "4  0007cb93  2020-01-25      0          0          0       0     0     0    0   \n",
       "\n",
       "   population  ...  administrative_area_level_1  administrative_area_level_2  \\\n",
       "0      5257.0  ...                United States                      Georgia   \n",
       "1      5257.0  ...                United States                      Georgia   \n",
       "2      5257.0  ...                United States                      Georgia   \n",
       "3      5257.0  ...                United States                      Georgia   \n",
       "4      5257.0  ...                United States                      Georgia   \n",
       "\n",
       "   administrative_area_level_3   latitude  longitude  key  key_numeric  \\\n",
       "0                       Schley  32.265402 -84.312589  NaN      13249.0   \n",
       "1                       Schley  32.265402 -84.312589  NaN      13249.0   \n",
       "2                       Schley  32.265402 -84.312589  NaN      13249.0   \n",
       "3                       Schley  32.265402 -84.312589  NaN      13249.0   \n",
       "4                       Schley  32.265402 -84.312589  NaN      13249.0   \n",
       "\n",
       "      key_google_mobility  key_apple_mobility  key_alpha_2  \n",
       "0  Georgia, Schley County                 NaN          NaN  \n",
       "1  Georgia, Schley County                 NaN          NaN  \n",
       "2  Georgia, Schley County                 NaN          NaN  \n",
       "3  Georgia, Schley County                 NaN          NaN  \n",
       "4  Georgia, Schley County                 NaN          NaN  \n",
       "\n",
       "[5 rows x 37 columns]"
      ]
     },
     "execution_count": 48,
     "metadata": {},
     "output_type": "execute_result"
    }
   ],
   "source": [
    "data3 = pd.read_csv(\"./data/data-3.csv\")\n",
    "print(data3.shape)\n",
    "print(data3.columns)\n",
    "data3.head()"
   ]
  },
  {
   "cell_type": "code",
   "execution_count": 62,
   "metadata": {},
   "outputs": [],
   "source": [
    "# Converting dates to datetime format\n",
    "data3['date'] = pd.to_datetime(data3['date'], format='%Y-%m-%d')"
   ]
  },
  {
   "cell_type": "markdown",
   "metadata": {},
   "source": [
    "Viewing available administrative level 1"
   ]
  },
  {
   "cell_type": "code",
   "execution_count": 64,
   "metadata": {},
   "outputs": [
    {
     "data": {
      "text/plain": [
       "array(['United States', 'Colombia', 'United Kingdom', 'Poland', 'Germany',\n",
       "       'France', 'Italy', 'Czech Republic', 'Chile', 'Puerto Rico',\n",
       "       'Spain'], dtype=object)"
      ]
     },
     "execution_count": 64,
     "metadata": {},
     "output_type": "execute_result"
    }
   ],
   "source": [
    "data3.administrative_area_level_1.unique()"
   ]
  },
  {
   "cell_type": "markdown",
   "metadata": {},
   "source": [
    "Viewing example administrative level 3 for a specific country"
   ]
  },
  {
   "cell_type": "code",
   "execution_count": 128,
   "metadata": {},
   "outputs": [
    {
     "data": {
      "text/plain": [
       "array(['LK Freudenstadt', 'LK Waldshut', 'LK Nordwestmecklenburg',\n",
       "       'LK Rheingau-Taunus-Kreis', 'LK Soest', 'LK Sigmaringen',\n",
       "       'LK Siegen-Wittgenstein', 'LK Rheinisch-Bergischer Kreis',\n",
       "       'SK Suhl', 'LK Görlitz', 'LK Waldeck-Frankenberg', 'LK Paderborn',\n",
       "       'SK Berlin Steglitz-Zehlendorf', 'LK Heinsberg', 'LK Unna',\n",
       "       'LK Main-Kinzig-Kreis', 'LK Wesel', 'LK Vogelsbergkreis',\n",
       "       'SK Bremerhaven', 'LK Gießen', 'LK Mittelsachsen', 'LK Bergstraße',\n",
       "       'LK Warendorf', 'LK Oberbergischer Kreis',\n",
       "       'SK Berlin Friedrichshain-Kreuzberg', 'LK Fulda',\n",
       "       'LK Minden-Lübbecke', 'LK Heidekreis', 'SK Delmenhorst',\n",
       "       'LK Westerwaldkreis', 'LK Wolfenbüttel', 'LK Oldenburg',\n",
       "       'SK Wilhelmshaven', 'SK Frankfurt (Oder)',\n",
       "       'SK Berlin Reinickendorf', 'SK Braunschweig', 'LK Tuttlingen',\n",
       "       'SK Dessau-Roßlau', 'LK Hildesheim', 'LK Lüchow-Dannenberg',\n",
       "       'LK Helmstedt', 'SK Kaiserslautern', 'LK Schwäbisch Hall',\n",
       "       'LK Emsland', 'SK Neustadt a.d.Weinstraße', 'SK Hamm',\n",
       "       'SK Dresden', 'LK Uckermark', 'SK Kiel', 'LK Sömmerda',\n",
       "       'SK Oberhausen', 'SK Bochum', 'LK Plön', 'LK Bitburg-Prüm',\n",
       "       'SK Bamberg', 'LK Bad Dürkheim', 'SK Ansbach', 'LK Miesbach',\n",
       "       'LK Altenkirchen', 'SK Augsburg', 'SK Aschaffenburg',\n",
       "       'SK Düsseldorf', 'SK Münster', 'SK Landshut',\n",
       "       'LK Unstrut-Hainich-Kreis', 'SK Amberg', 'SK Ingolstadt',\n",
       "       'SK Schwabach', 'LK Kusel', 'LK Pfaffenhofen a.d.Ilm',\n",
       "       'SK Bielefeld', 'SK Köln', 'LK Herzogtum Lauenburg', 'LK Ansbach',\n",
       "       'LK Vechta', 'LK Ebersberg', 'LK Göppingen', 'LK Coesfeld',\n",
       "       'LK Ennepe-Ruhr-Kreis', 'LK Bamberg', 'LK Passau',\n",
       "       'LK Aschaffenburg', 'LK Herford', 'LK Ilm-Kreis',\n",
       "       'LK Ortenaukreis', 'LK Aichach-Friedberg', 'LK Regensburg',\n",
       "       'LK Amberg-Sulzbach', 'LK Neu-Ulm', 'LK Kitzingen', 'LK Uelzen',\n",
       "       'LK Deggendorf', 'LK Düren', 'LK Wetteraukreis',\n",
       "       'LK Saale-Holzland-Kreis', 'LK Mettmann', 'LK Zollernalbkreis',\n",
       "       'LK Hof', 'LK Altötting', 'LK Neustadt a.d.Aisch-Bad Windsheim',\n",
       "       'LK Hochsauerlandkreis', 'LK Borken', 'LK Fürstenfeldbruck',\n",
       "       'LK Mansfeld-Südharz', 'LK Oder-Spree', 'LK Gütersloh',\n",
       "       'LK Saarlouis', 'LK Dingolfing-Landau', 'SK Kassel', 'LK Würzburg',\n",
       "       'LK Donau-Ries', 'LK Havelland', 'LK Börde',\n",
       "       'LK Wunsiedel i.Fichtelgebirge', 'LK Kleve', 'SK Darmstadt',\n",
       "       'LK Nürnberger Land', 'LK Tübingen', 'LK Forchheim', 'LK Verden',\n",
       "       'LK Haßberge', 'SK Karlsruhe', 'LK Saale-Orla-Kreis',\n",
       "       'LK Günzburg', 'LK Emmendingen', 'LK Neustadt a.d.Waldnaab',\n",
       "       'LK Landshut', 'LK Weimarer Land', 'LK Rastatt', 'LK Dachau',\n",
       "       'LK Wesermarsch', 'LK Esslingen', 'LK Lichtenfels',\n",
       "       'LK Anhalt-Bitterfeld', 'LK Unterallgäu', 'LK Elbe-Elster',\n",
       "       'LK Schweinfurt', 'LK Stadtverband Saarbrücken',\n",
       "       'LK Saar-Pfalz-Kreis', 'LK Straubing-Bogen', 'SK Schwerin',\n",
       "       'LK Oberspreewald-Lausitz', 'LK Freising', 'LK Jerichower Land',\n",
       "       'SK Wiesbaden', 'SK Lübeck', 'LK Hildburghausen', 'SK Leipzig',\n",
       "       'LK Teltow-Fläming', 'SK Hagen', 'SK Bonn', 'SK Hof',\n",
       "       'SK Nürnberg', 'LK Südliche Weinstraße', 'LK Rosenheim',\n",
       "       'SK Memmingen', 'LK Mayen-Koblenz', 'LK Kyffhäuserkreis',\n",
       "       'SK Krefeld', 'LK Eichsfeld', 'LK Bad Kreuznach',\n",
       "       'LK Donnersbergkreis', 'LK Mühldorf a.Inn', 'LK Pinneberg',\n",
       "       'LK Vulkaneifel', 'LK Rhein-Sieg-Kreis', 'SK Osnabrück',\n",
       "       'SK Cottbus', 'LK Osnabrück', 'LK Göttingen', 'LK Stade',\n",
       "       'LK Diepholz', 'LK Celle', 'SK Mannheim', 'LK Biberach',\n",
       "       'StadtRegion Aachen', 'LK Gifhorn', 'LK Friesland', 'SK Pirmasens',\n",
       "       'SK Landau i.d.Pfalz', 'LK Ammerland', 'LK Hohenlohekreis',\n",
       "       'LK Northeim', 'LK Lüneburg', 'LK Rhein-Neckar-Kreis',\n",
       "       'LK Schwarzwald-Baar-Kreis', 'LK Holzminden', 'SK Wuppertal',\n",
       "       'SK Weimar', 'Region Hannover', 'LK Mecklenburgische Seenplatte',\n",
       "       'LK Stormarn', 'LK Ravensburg', 'LK Offenbach',\n",
       "       'LK Vorpommern-Greifswald', 'LK Ostalbkreis', 'LK Lörrach',\n",
       "       'SK Erfurt', 'SK Remscheid', 'LK Enzkreis', 'SK Berlin Pankow',\n",
       "       'LK Vogtlandkreis', 'LK Marburg-Biedenkopf', 'LK Hochtaunuskreis',\n",
       "       'LK Schwalm-Eder-Kreis', 'SK Berlin Tempelhof-Schöneberg',\n",
       "       'LK Meißen', 'LK Rotenburg (Wümme)', 'SK Halle', 'LK Schaumburg',\n",
       "       'SK Koblenz', 'SK Frankenthal', 'LK Cloppenburg', 'LK Peine',\n",
       "       'SK Trier', 'LK Goslar', 'LK Leer', 'SK Mainz', 'LK Harburg',\n",
       "       'SK Emden', 'LK Südwestpfalz', 'SK Potsdam',\n",
       "       'LK Main-Tauber-Kreis', 'LK Rhein-Hunsrück-Kreis', 'SK Worms',\n",
       "       'SK Berlin Lichtenberg', 'SK Salzgitter', 'LK Werra-Meißner-Kreis',\n",
       "       'SK Berlin Spandau', 'LK Bautzen', 'SK Bremen',\n",
       "       'LK Main-Taunus-Kreis', 'LK Erzgebirgskreis',\n",
       "       'LK Darmstadt-Dieburg', 'LK Lahn-Dill-Kreis', 'SK Berlin Mitte',\n",
       "       'LK Hersfeld-Rotenburg', 'LK Leipzig', 'SK Solingen', 'SK Jena',\n",
       "       'SK Berlin Treptow-Köpenick', 'LK Vorpommern-Rügen', 'LK Segeberg',\n",
       "       'LK Ludwigsburg', 'LK Burgenlandkreis', 'LK Märkisch-Oderland',\n",
       "       'LK Barnim', 'LK Neunkirchen', 'SK Frankfurt am Main',\n",
       "       'LK Bayreuth', 'LK Erlangen-Höchstadt', 'LK Eichstätt',\n",
       "       'LK Saalekreis', 'LK Ostprignitz-Ruppin', 'LK Augsburg',\n",
       "       'LK Schwandorf', 'LK Regen', 'LK Bad Kissingen',\n",
       "       'LK Saalfeld-Rudolstadt', 'LK Miltenberg', 'LK Freyung-Grafenau',\n",
       "       'LK Altenburger Land', 'LK Cham', 'LK Lindau',\n",
       "       'LK Berchtesgadener Land', 'LK Roth', 'LK Kronach',\n",
       "       'LK Alzey-Worms', 'SK Erlangen', 'LK Landsberg a.Lech',\n",
       "       'LK Nordfriesland', 'LK Bernkastel-Wittlich', 'SK Bayreuth',\n",
       "       'SK Schweinfurt', 'LK Wartburgkreis', 'SK Duisburg',\n",
       "       'LK Ahrweiler', 'SK Kaufbeuren', 'SK Regensburg', 'LK Cochem-Zell',\n",
       "       'SK Passau', 'SK Bottrop', 'SK Mönchengladbach', 'LK Gotha',\n",
       "       'SK Leverkusen', 'LK Trier-Saarburg', 'SK München',\n",
       "       'LK Kaiserslautern', 'LK Neuburg-Schrobenhausen',\n",
       "       'LK Rendsburg-Eckernförde', 'SK Herne', 'SK Flensburg',\n",
       "       'LK Prignitz', 'LK Traunstein', 'LK Stendal', 'LK Mainz-Bingen',\n",
       "       'SK Chemnitz', 'SK Rosenheim', 'LK Germersheim', 'LK München',\n",
       "       'LK Dithmarschen', 'SK Straubing', 'SK Gelsenkirchen',\n",
       "       'LK Schmalkalden-Meiningen', 'SK Mülheim a.d.Ruhr',\n",
       "       'LK Oberallgäu', 'SK Weiden i.d.OPf.', 'LK Birkenfeld',\n",
       "       'SK Kempten', 'SK Würzburg', 'SK Essen', 'LK Nordhausen',\n",
       "       'LK Ostholstein', 'SK Coburg', 'SK Fürth',\n",
       "       'LK Garmisch-Partenkirchen', 'LK Starnberg', 'LK Wittenberg',\n",
       "       'LK Rhein-Pfalz-Kreis', 'LK Neuwied', 'LK Spree-Neiße',\n",
       "       'SK Dortmund', 'SK Neumünster', 'LK Schleswig-Flensburg',\n",
       "       'LK Altmarkkreis Salzwedel', 'SK Offenbach', 'LK Merzig-Wadern',\n",
       "       'SK Rostock', 'LK Dahme-Spreewald', 'LK Oberhavel',\n",
       "       'LK Sankt Wendel', 'LK Rems-Murr-Kreis', 'LK Harz',\n",
       "       'LK Reutlingen', 'LK Kulmbach', 'LK Bad Tölz-Wolfratshausen',\n",
       "       'LK Weißenburg-Gunzenhausen', 'SK Hamburg', 'SK Stuttgart',\n",
       "       'SK Freiburg i.Breisgau', 'LK Neumarkt i.d.OPf.', 'LK Ostallgäu',\n",
       "       'LK Main-Spessart', 'LK Kelheim', 'SK Baden-Baden', 'LK Greiz',\n",
       "       'LK Rottal-Inn', 'LK Rhön-Grabfeld', 'LK Sonneberg',\n",
       "       'LK Karlsruhe', 'LK Potsdam-Mittelmark',\n",
       "       'LK Breisgau-Hochschwarzwald', 'LK Dillingen a.d.Donau',\n",
       "       'LK Tirschenreuth', 'SK Zweibrücken', 'LK Fürth', 'LK Erding',\n",
       "       'LK Salzlandkreis', 'LK Wittmund', 'LK Böblingen',\n",
       "       'LK Weilheim-Schongau', 'LK Coburg', 'LK Kassel',\n",
       "       'LK Limburg-Weilburg', 'LK Groß-Gerau', 'LK Zwickau',\n",
       "       'LK Odenwaldkreis', 'SK Berlin Charlottenburg-Wilmersdorf',\n",
       "       'SK Pforzheim', 'SK Eisenach', 'LK Steinburg', 'LK Bodenseekreis',\n",
       "       'LK Rostock', 'LK Ludwigslust-Parchim', 'LK Heidenheim', 'SK Gera',\n",
       "       'LK Calw', 'SK Berlin Neukölln', 'LK Konstanz',\n",
       "       'LK Sächsische Schweiz-Osterzgebirge', 'LK Cuxhaven',\n",
       "       'SK Heidelberg', 'LK Hameln-Pyrmont', 'LK Grafschaft Bentheim',\n",
       "       'SK Ludwigshafen', 'SK Heilbronn', 'LK Alb-Donau-Kreis',\n",
       "       'LK Märkischer Kreis', 'SK Ulm', 'LK Olpe', 'LK Aurich',\n",
       "       'LK Heilbronn', 'LK Rottweil', 'SK Magdeburg',\n",
       "       'LK Nienburg (Weser)', 'LK Osterholz', 'LK Neckar-Odenwald-Kreis',\n",
       "       'SK Brandenburg a.d.Havel', 'LK Euskirchen',\n",
       "       'SK Berlin Marzahn-Hellersdorf', 'LK Höxter', 'LK Nordsachsen',\n",
       "       'SK Wolfsburg', 'LK Viersen', 'LK Recklinghausen', 'SK Speyer',\n",
       "       'LK Rhein-Lahn-Kreis', 'LK Steinfurt', 'LK Rhein-Kreis Neuss',\n",
       "       'LK Lippe', 'LK Rhein-Erft-Kreis', 'SK Oldenburg'], dtype=object)"
      ]
     },
     "execution_count": 128,
     "metadata": {},
     "output_type": "execute_result"
    }
   ],
   "source": [
    "data3[data3.administrative_area_level_1 == \"Germany\"]['administrative_area_level_3'].unique()"
   ]
  },
  {
   "cell_type": "markdown",
   "metadata": {},
   "source": [
    "### Visualizing data for a specific city\n",
    "\n",
    "Using Paris as an example"
   ]
  },
  {
   "cell_type": "code",
   "execution_count": 68,
   "metadata": {},
   "outputs": [
    {
     "name": "stdout",
     "output_type": "stream",
     "text": [
      "(273, 37)\n"
     ]
    },
    {
     "data": {
      "text/html": [
       "<div>\n",
       "<style scoped>\n",
       "    .dataframe tbody tr th:only-of-type {\n",
       "        vertical-align: middle;\n",
       "    }\n",
       "\n",
       "    .dataframe tbody tr th {\n",
       "        vertical-align: top;\n",
       "    }\n",
       "\n",
       "    .dataframe thead th {\n",
       "        text-align: right;\n",
       "    }\n",
       "</style>\n",
       "<table border=\"1\" class=\"dataframe\">\n",
       "  <thead>\n",
       "    <tr style=\"text-align: right;\">\n",
       "      <th></th>\n",
       "      <th>id</th>\n",
       "      <th>date</th>\n",
       "      <th>tests</th>\n",
       "      <th>confirmed</th>\n",
       "      <th>recovered</th>\n",
       "      <th>deaths</th>\n",
       "      <th>hosp</th>\n",
       "      <th>vent</th>\n",
       "      <th>icu</th>\n",
       "      <th>population</th>\n",
       "      <th>...</th>\n",
       "      <th>administrative_area_level_1</th>\n",
       "      <th>administrative_area_level_2</th>\n",
       "      <th>administrative_area_level_3</th>\n",
       "      <th>latitude</th>\n",
       "      <th>longitude</th>\n",
       "      <th>key</th>\n",
       "      <th>key_numeric</th>\n",
       "      <th>key_google_mobility</th>\n",
       "      <th>key_apple_mobility</th>\n",
       "      <th>key_alpha_2</th>\n",
       "    </tr>\n",
       "  </thead>\n",
       "  <tbody>\n",
       "    <tr>\n",
       "      <th>117117</th>\n",
       "      <td>1568931f</td>\n",
       "      <td>2020-01-21</td>\n",
       "      <td>0</td>\n",
       "      <td>0</td>\n",
       "      <td>0</td>\n",
       "      <td>0</td>\n",
       "      <td>0</td>\n",
       "      <td>0</td>\n",
       "      <td>0</td>\n",
       "      <td>NaN</td>\n",
       "      <td>...</td>\n",
       "      <td>France</td>\n",
       "      <td>NaN</td>\n",
       "      <td>Paris</td>\n",
       "      <td>NaN</td>\n",
       "      <td>NaN</td>\n",
       "      <td>DEP-75</td>\n",
       "      <td>NaN</td>\n",
       "      <td>NaN</td>\n",
       "      <td>NaN</td>\n",
       "      <td>NaN</td>\n",
       "    </tr>\n",
       "    <tr>\n",
       "      <th>117118</th>\n",
       "      <td>1568931f</td>\n",
       "      <td>2020-01-22</td>\n",
       "      <td>0</td>\n",
       "      <td>0</td>\n",
       "      <td>0</td>\n",
       "      <td>0</td>\n",
       "      <td>0</td>\n",
       "      <td>0</td>\n",
       "      <td>0</td>\n",
       "      <td>NaN</td>\n",
       "      <td>...</td>\n",
       "      <td>France</td>\n",
       "      <td>NaN</td>\n",
       "      <td>Paris</td>\n",
       "      <td>NaN</td>\n",
       "      <td>NaN</td>\n",
       "      <td>DEP-75</td>\n",
       "      <td>NaN</td>\n",
       "      <td>NaN</td>\n",
       "      <td>NaN</td>\n",
       "      <td>NaN</td>\n",
       "    </tr>\n",
       "    <tr>\n",
       "      <th>117119</th>\n",
       "      <td>1568931f</td>\n",
       "      <td>2020-01-23</td>\n",
       "      <td>0</td>\n",
       "      <td>0</td>\n",
       "      <td>0</td>\n",
       "      <td>0</td>\n",
       "      <td>0</td>\n",
       "      <td>0</td>\n",
       "      <td>0</td>\n",
       "      <td>NaN</td>\n",
       "      <td>...</td>\n",
       "      <td>France</td>\n",
       "      <td>NaN</td>\n",
       "      <td>Paris</td>\n",
       "      <td>NaN</td>\n",
       "      <td>NaN</td>\n",
       "      <td>DEP-75</td>\n",
       "      <td>NaN</td>\n",
       "      <td>NaN</td>\n",
       "      <td>NaN</td>\n",
       "      <td>NaN</td>\n",
       "    </tr>\n",
       "    <tr>\n",
       "      <th>117120</th>\n",
       "      <td>1568931f</td>\n",
       "      <td>2020-01-24</td>\n",
       "      <td>0</td>\n",
       "      <td>0</td>\n",
       "      <td>0</td>\n",
       "      <td>0</td>\n",
       "      <td>0</td>\n",
       "      <td>0</td>\n",
       "      <td>0</td>\n",
       "      <td>NaN</td>\n",
       "      <td>...</td>\n",
       "      <td>France</td>\n",
       "      <td>NaN</td>\n",
       "      <td>Paris</td>\n",
       "      <td>NaN</td>\n",
       "      <td>NaN</td>\n",
       "      <td>DEP-75</td>\n",
       "      <td>NaN</td>\n",
       "      <td>NaN</td>\n",
       "      <td>NaN</td>\n",
       "      <td>NaN</td>\n",
       "    </tr>\n",
       "    <tr>\n",
       "      <th>117121</th>\n",
       "      <td>1568931f</td>\n",
       "      <td>2020-01-25</td>\n",
       "      <td>0</td>\n",
       "      <td>0</td>\n",
       "      <td>0</td>\n",
       "      <td>0</td>\n",
       "      <td>0</td>\n",
       "      <td>0</td>\n",
       "      <td>0</td>\n",
       "      <td>NaN</td>\n",
       "      <td>...</td>\n",
       "      <td>France</td>\n",
       "      <td>NaN</td>\n",
       "      <td>Paris</td>\n",
       "      <td>NaN</td>\n",
       "      <td>NaN</td>\n",
       "      <td>DEP-75</td>\n",
       "      <td>NaN</td>\n",
       "      <td>NaN</td>\n",
       "      <td>NaN</td>\n",
       "      <td>NaN</td>\n",
       "    </tr>\n",
       "  </tbody>\n",
       "</table>\n",
       "<p>5 rows × 37 columns</p>\n",
       "</div>"
      ],
      "text/plain": [
       "              id       date  tests  confirmed  recovered  deaths  hosp  vent  \\\n",
       "117117  1568931f 2020-01-21      0          0          0       0     0     0   \n",
       "117118  1568931f 2020-01-22      0          0          0       0     0     0   \n",
       "117119  1568931f 2020-01-23      0          0          0       0     0     0   \n",
       "117120  1568931f 2020-01-24      0          0          0       0     0     0   \n",
       "117121  1568931f 2020-01-25      0          0          0       0     0     0   \n",
       "\n",
       "        icu  population  ...  administrative_area_level_1  \\\n",
       "117117    0         NaN  ...                       France   \n",
       "117118    0         NaN  ...                       France   \n",
       "117119    0         NaN  ...                       France   \n",
       "117120    0         NaN  ...                       France   \n",
       "117121    0         NaN  ...                       France   \n",
       "\n",
       "        administrative_area_level_2  administrative_area_level_3  latitude  \\\n",
       "117117                          NaN                        Paris       NaN   \n",
       "117118                          NaN                        Paris       NaN   \n",
       "117119                          NaN                        Paris       NaN   \n",
       "117120                          NaN                        Paris       NaN   \n",
       "117121                          NaN                        Paris       NaN   \n",
       "\n",
       "        longitude     key  key_numeric  key_google_mobility  \\\n",
       "117117        NaN  DEP-75          NaN                  NaN   \n",
       "117118        NaN  DEP-75          NaN                  NaN   \n",
       "117119        NaN  DEP-75          NaN                  NaN   \n",
       "117120        NaN  DEP-75          NaN                  NaN   \n",
       "117121        NaN  DEP-75          NaN                  NaN   \n",
       "\n",
       "        key_apple_mobility  key_alpha_2  \n",
       "117117                 NaN          NaN  \n",
       "117118                 NaN          NaN  \n",
       "117119                 NaN          NaN  \n",
       "117120                 NaN          NaN  \n",
       "117121                 NaN          NaN  \n",
       "\n",
       "[5 rows x 37 columns]"
      ]
     },
     "execution_count": 68,
     "metadata": {},
     "output_type": "execute_result"
    }
   ],
   "source": [
    "selected_city = \"Paris\"\n",
    "data_city = data3[data3.administrative_area_level_3 == selected_city]\n",
    "print(data_city.shape)\n",
    "data_city.head()"
   ]
  },
  {
   "cell_type": "markdown",
   "metadata": {},
   "source": [
    "Checking initial and final date of observations for a country"
   ]
  },
  {
   "cell_type": "code",
   "execution_count": 69,
   "metadata": {},
   "outputs": [
    {
     "name": "stdout",
     "output_type": "stream",
     "text": [
      "272 days 00:00:00\n",
      "2020-01-21 00:00:00\n",
      "2020-10-19 00:00:00\n"
     ]
    }
   ],
   "source": [
    "print(data_city.date.max() - data_city.date.min())\n",
    "print(data_city.date.min())\n",
    "print(data_city.date.max())"
   ]
  },
  {
   "cell_type": "markdown",
   "metadata": {},
   "source": [
    "Visualizing how `school_closing` policy has changed thoughout the pandemic, where:\n",
    "- 0: No measures \n",
    "- 1: Recommend closing (or work from home) \n",
    "- 2: require closing for some sectors or categories of workers \n",
    "- 3: require closing (or work from home) all-but-essential workplaces (eg grocery stores, doctors)."
   ]
  },
  {
   "cell_type": "markdown",
   "metadata": {},
   "source": [
    "Visualizing school closing policy"
   ]
  },
  {
   "cell_type": "code",
   "execution_count": 71,
   "metadata": {},
   "outputs": [
    {
     "data": {
      "image/png": "[encoded data removed]",
      "text/plain": [
       "<Figure size 432x288 with 1 Axes>"
      ]
     },
     "metadata": {
      "needs_background": "light"
     },
     "output_type": "display_data"
    }
   ],
   "source": [
    "fig, ax = plt.subplots()\n",
    "ax.plot(data_city['date'], data_city['school_closing'])\n",
    "ax.set_title('Workplace closing policy over time in ' + selected_city)\n",
    "\n",
    "# rotate and align the tick labels so they look better\n",
    "fig.autofmt_xdate()"
   ]
  },
  {
   "cell_type": "markdown",
   "metadata": {},
   "source": [
    "visualizing number of new cases and deaths"
   ]
  },
  {
   "cell_type": "code",
   "execution_count": 72,
   "metadata": {},
   "outputs": [
    {
     "name": "stderr",
     "output_type": "stream",
     "text": [
      "/usr/local/lib/python3.6/dist-packages/pandas/core/indexing.py:1596: SettingWithCopyWarning: \n",
      "A value is trying to be set on a copy of a slice from a DataFrame.\n",
      "Try using .loc[row_indexer,col_indexer] = value instead\n",
      "\n",
      "See the caveats in the documentation: https://pandas.pydata.org/pandas-docs/stable/user_guide/indexing.html#returning-a-view-versus-a-copy\n",
      "  self.obj[key] = _infer_fill_value(value)\n",
      "/usr/local/lib/python3.6/dist-packages/pandas/core/indexing.py:1745: SettingWithCopyWarning: \n",
      "A value is trying to be set on a copy of a slice from a DataFrame.\n",
      "Try using .loc[row_indexer,col_indexer] = value instead\n",
      "\n",
      "See the caveats in the documentation: https://pandas.pydata.org/pandas-docs/stable/user_guide/indexing.html#returning-a-view-versus-a-copy\n",
      "  isetter(ilocs[0], value)\n"
     ]
    },
    {
     "data": {
      "image/png": "[encoded data removed]",
      "text/plain": [
       "<Figure size 864x432 with 2 Axes>"
      ]
     },
     "metadata": {
      "needs_background": "light"
     },
     "output_type": "display_data"
    }
   ],
   "source": [
    "data_city.loc[:,'new_cases'] = data_city['confirmed'].diff()\n",
    "data_city.loc[:,'new_deaths'] = data_city['deaths'].diff()\n",
    "\n",
    "fig, (ax1, ax2) = plt.subplots(1, 2, figsize=(12, 6))\n",
    "\n",
    "ax1.plot(data_city['date'], data_city['new_cases'])\n",
    "ax1.set_title('Number of new cases over time in ' + selected_city)\n",
    "ax2.plot(data_city['date'], data_city['new_deaths'])\n",
    "ax2.set_title('Number of new deaths over time in ' + selected_city)\n",
    "fig.autofmt_xdate()"
   ]
  },
  {
   "cell_type": "markdown",
   "metadata": {},
   "source": [
    "### Selecting a different city "
   ]
  },
  {
   "cell_type": "code",
   "execution_count": 132,
   "metadata": {},
   "outputs": [
    {
     "data": {
      "text/plain": [
       "True"
      ]
     },
     "execution_count": 132,
     "metadata": {},
     "output_type": "execute_result"
    }
   ],
   "source": [
    "selected_city = \"Firenze\"\n",
    "selected_country = \"Italy\"\n",
    "selected_city in data3.administrative_area_level_3.unique()"
   ]
  },
  {
   "cell_type": "code",
   "execution_count": 133,
   "metadata": {},
   "outputs": [
    {
     "data": {
      "text/plain": [
       "array(['Toscana'], dtype=object)"
      ]
     },
     "execution_count": 133,
     "metadata": {},
     "output_type": "execute_result"
    }
   ],
   "source": [
    "data_city = data3[np.logical_and(data3.administrative_area_level_3 == selected_city, data3.administrative_area_level_1 == selected_country)]\n",
    "data_city[\"administrative_area_level_2\"].unique()"
   ]
  },
  {
   "cell_type": "code",
   "execution_count": 135,
   "metadata": {},
   "outputs": [
    {
     "name": "stdout",
     "output_type": "stream",
     "text": [
      "(273, 37)\n"
     ]
    },
    {
     "data": {
      "image/png": "[encoded data removed]",
      "text/plain": [
       "<Figure size 432x288 with 1 Axes>"
      ]
     },
     "metadata": {
      "needs_background": "light"
     },
     "output_type": "display_data"
    }
   ],
   "source": [
    "data_city.set_index('date')\n",
    "data_city = data_city.sort_index()\n",
    "\n",
    "print(data_city.shape)\n",
    "fig, ax = plt.subplots()\n",
    "ax.plot(data_city['date'], data_city['school_closing'])\n",
    "ax.set_title('School closing policy over time in ' + selected_city)\n",
    "\n",
    "# rotate and align the tick labels so they look better\n",
    "fig.autofmt_xdate()"
   ]
  },
  {
   "cell_type": "markdown",
   "metadata": {},
   "source": [
    "# Meeting\n",
    "\n",
    "TODO\n",
    "- Find place where school_closing policy changes ( 0-...-3 and then 3-0) \n",
    "\n",
    "DONE\n",
    "- X axis date\n",
    "- Number of cases / day (new cases)\n",
    "- City level data\n",
    "\n",
    "## REMEMBER\n",
    "\n",
    "Country-level data seems more robust than city-level data. This should point towards using a country as a baseline instead of a city."
   ]
  },
  {
   "cell_type": "code",
   "execution_count": null,
   "metadata": {},
   "outputs": [],
   "source": []
  }
 ],
 "metadata": {
  "kernelspec": {
   "display_name": "Python 3",
   "language": "python",
   "name": "python3"
  },
  "language_info": {
   "codemirror_mode": {
    "name": "ipython",
    "version": 3
   },
   "file_extension": ".py",
   "mimetype": "text/x-python",
   "name": "python",
   "nbconvert_exporter": "python",
   "pygments_lexer": "ipython3",
   "version": "3.6.9"
  }
 },
 "nbformat": 4,
 "nbformat_minor": 4
}
