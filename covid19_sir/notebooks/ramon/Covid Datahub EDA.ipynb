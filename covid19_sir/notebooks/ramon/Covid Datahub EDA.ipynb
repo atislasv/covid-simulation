{
 "cells": [
  {
   "cell_type": "markdown",
   "metadata": {},
   "source": [
    "# COVID Datahub - Exploratory Data Analysis"
   ]
  },
  {
   "cell_type": "markdown",
   "metadata": {},
   "source": [
    "## Libraries"
   ]
  },
  {
   "cell_type": "code",
   "execution_count": null,
   "metadata": {},
   "outputs": [],
   "source": [
    "import pandas as pd\n",
    "import matplotlib.pyplot as plt\n",
    "import numpy as np\n",
    "from matplotlib.patches import Patch"
   ]
  },
  {
   "cell_type": "markdown",
   "metadata": {},
   "source": [
    "## Importing data"
   ]
  },
  {
   "cell_type": "markdown",
   "metadata": {},
   "source": [
    "Using data from the COVID19 Datahub, administrative level 1 in `.csv` format available at https://storage.covid19datahub.io/data-1.csv"
   ]
  },
  {
   "cell_type": "code",
   "execution_count": null,
   "metadata": {},
   "outputs": [],
   "source": [
    "data1 = pd.read_csv(\"./data/data-1.csv\")\n",
    "print(data1.shape)\n",
    "print(data1.columns)\n",
    "data1.head()"
   ]
  },
  {
   "cell_type": "markdown",
   "metadata": {},
   "source": [
    "Go to https://covid19datahub.io/articles/doc/data.html to get a description of what each variable in the dataset represents"
   ]
  },
  {
   "cell_type": "code",
   "execution_count": null,
   "metadata": {},
   "outputs": [],
   "source": [
    "# Converting dates to datetime format\n",
    "data1['date'] = pd.to_datetime(data1['date'], format='%Y-%m-%d')"
   ]
  },
  {
   "cell_type": "markdown",
   "metadata": {},
   "source": [
    "## Example exploratory code"
   ]
  },
  {
   "cell_type": "markdown",
   "metadata": {},
   "source": [
    "### Visualizing data for a specific country\n",
    "\n",
    "Using Canada as an example"
   ]
  },
  {
   "cell_type": "code",
   "execution_count": null,
   "metadata": {},
   "outputs": [],
   "source": [
    "selected_country = \"Canada\"\n",
    "data_country = data1[data1.administrative_area_level_1 == selected_country]\n",
    "print(data_country.shape)\n",
    "data_country.head()"
   ]
  },
  {
   "cell_type": "markdown",
   "metadata": {},
   "source": [
    "Checking initial and final date of observations for a country"
   ]
  },
  {
   "cell_type": "code",
   "execution_count": null,
   "metadata": {},
   "outputs": [],
   "source": [
    "print(data_country.date.max() - data_country.date.min())\n",
    "print(data_country.date.min())\n",
    "print(data_country.date.max())"
   ]
  },
  {
   "cell_type": "markdown",
   "metadata": {},
   "source": [
    "Visualizing how `workplace_closing` policy has changed thoughout the pandemic, where:\n",
    "- 0: No measures \n",
    "- 1: Recommend closing (or work from home) \n",
    "- 2: require closing for some sectors or categories of workers \n",
    "- 3: require closing (or work from home) all-but-essential workplaces (eg grocery stores, doctors)."
   ]
  },
  {
   "cell_type": "code",
   "execution_count": null,
   "metadata": {},
   "outputs": [],
   "source": [
    "fig, ax = plt.subplots()\n",
    "ax.plot(data_country['date'], data_country['workplace_closing'])\n",
    "ax.set_title('Workplace closing policy over time in ' + selected_country)\n",
    "\n",
    "# rotate and align the tick labels so they look better\n",
    "fig.autofmt_xdate()"
   ]
  },
  {
   "cell_type": "markdown",
   "metadata": {},
   "source": [
    "Visualizing the number of confirmed cases and deaths over time"
   ]
  },
  {
   "cell_type": "code",
   "execution_count": null,
   "metadata": {},
   "outputs": [],
   "source": [
    "fig, (ax1, ax2) = plt.subplots(1, 2, figsize=(12, 6))\n",
    "\n",
    "ax1.plot(data_country['date'], data_country['confirmed'])\n",
    "ax1.set_title('Number of confirmed cases over time in ' + selected_country)\n",
    "ax2.plot(data_country['date'], data_country['deaths'])\n",
    "ax2.set_title('Number of deaths over time in ' + selected_country)\n",
    "fig.autofmt_xdate()"
   ]
  },
  {
   "cell_type": "markdown",
   "metadata": {},
   "source": [
    "Calculating number of daily NEW cases and deaths"
   ]
  },
  {
   "cell_type": "code",
   "execution_count": null,
   "metadata": {},
   "outputs": [],
   "source": [
    "data_country.loc[:,'new_cases'] = data_country.loc[:, 'confirmed'].diff()\n",
    "data_country.loc[:,'new_deaths'] = data_country['deaths'].diff()\n",
    "\n",
    "fig, (ax1, ax2) = plt.subplots(1, 2, figsize=(12, 6))\n",
    "\n",
    "ax1.plot(data_country['date'], data_country['new_cases'])\n",
    "ax1.set_title('Number of new cases over time in ' + selected_country)\n",
    "ax2.plot(data_country['date'], data_country['new_deaths'])\n",
    "ax2.set_title('Number of new deaths over time in ' + selected_country)\n",
    "fig.autofmt_xdate()"
   ]
  },
  {
   "cell_type": "markdown",
   "metadata": {},
   "source": [
    "Visualizing school closing policy in the selected country"
   ]
  },
  {
   "cell_type": "code",
   "execution_count": null,
   "metadata": {},
   "outputs": [],
   "source": [
    "fig, ax = plt.subplots()\n",
    "ax.plot(data_country['date'], data_country['school_closing'])\n",
    "ax.set_title('School closing policy over time in ' + selected_country)\n",
    "\n",
    "# rotate and align the tick labels so they look better\n",
    "fig.autofmt_xdate()"
   ]
  },
  {
   "cell_type": "markdown",
   "metadata": {},
   "source": [
    "Visualizing the effects of school closing policies on the number of confirmed cases"
   ]
  },
  {
   "cell_type": "code",
   "execution_count": null,
   "metadata": {},
   "outputs": [],
   "source": [
    "ax = data_country.plot(x='date', y='confirmed', title=\"Number of Cases and School Closing Policy in Canada\")\n",
    "ax.pcolorfast(ax.get_xlim(), ax.get_ylim(),\n",
    "              data_country['school_closing'].values[np.newaxis],\n",
    "              cmap='RdYlGn', alpha=0.3)\n",
    "\n",
    "legend_elements = [Patch(facecolor='red', edgecolor=None, alpha=0.3, label='No measures'),\n",
    "                  Patch(facecolor='green', edgecolor=None, alpha=0.3, label='Require closing all levels'),\n",
    "                  Patch(facecolor='greenyellow', edgecolor=None, alpha=0.3, label='Require closing only some levels')]\n",
    "ax.legend(handles=legend_elements, loc='upper left');"
   ]
  },
  {
   "cell_type": "markdown",
   "metadata": {},
   "source": [
    "## Comparing two countries"
   ]
  },
  {
   "cell_type": "code",
   "execution_count": null,
   "metadata": {},
   "outputs": [],
   "source": [
    "selected_countries = [\"Spain\", \"France\"]"
   ]
  },
  {
   "cell_type": "markdown",
   "metadata": {},
   "source": [
    "Visualizing confirmed cases and deaths over time:"
   ]
  },
  {
   "cell_type": "code",
   "execution_count": null,
   "metadata": {},
   "outputs": [],
   "source": [
    "fig, (ax1, ax2) = plt.subplots(1, 2, figsize=(12, 6))\n",
    "for country in selected_countries:\n",
    "    data_country_it = data1[data1.administrative_area_level_1 == country]\n",
    "    ax1.plot(data_country_it['date'], data_country_it['confirmed'], label=country)\n",
    "    ax1.set_title('Number of Confirmed Cases Over Time in Different Countries')\n",
    "    ax2.plot(data_country_it['date'], data_country_it['deaths'], label=country)\n",
    "    ax2.set_title('Number of Deaths Over Time in Different Countries')\n",
    "fig.autofmt_xdate()\n",
    "ax1.legend()\n",
    "ax2.legend()"
   ]
  },
  {
   "cell_type": "markdown",
   "metadata": {},
   "source": [
    "Visualizing new cases and deaths over time:"
   ]
  },
  {
   "cell_type": "code",
   "execution_count": null,
   "metadata": {},
   "outputs": [],
   "source": [
    "fig, (ax1, ax2) = plt.subplots(1, 2, figsize=(12, 6))\n",
    "for country in selected_countries:\n",
    "    data_country_it = data1[data1.administrative_area_level_1 == country]\n",
    "    data_country_it.loc[:,'new_cases'] = data_country_it['confirmed'].diff()\n",
    "    data_country_it.loc[:,'new_deaths'] = data_country_it['deaths'].diff()\n",
    "    ax1.plot(data_country_it['date'], data_country_it['new_cases'], label=country)\n",
    "    ax1.set_title('Number of New Cases Over Time in Different Countries')\n",
    "    ax2.plot(data_country_it['date'], data_country_it['new_deaths'], label=country)\n",
    "    ax2.set_title('Number of New Deaths Over Time in Different Countries')\n",
    "fig.autofmt_xdate()\n",
    "ax1.legend()\n",
    "ax2.legend()"
   ]
  },
  {
   "cell_type": "markdown",
   "metadata": {},
   "source": [
    "## Importing data for a different administrative level"
   ]
  },
  {
   "cell_type": "markdown",
   "metadata": {},
   "source": [
    "Using data from the COVID19 Datahub, administrative level 3 in `.csv` format available at https://storage.covid19datahub.io/data-3.csv"
   ]
  },
  {
   "cell_type": "code",
   "execution_count": null,
   "metadata": {},
   "outputs": [],
   "source": [
    "data3 = pd.read_csv(\"./data/data-3.csv\")\n",
    "print(data3.shape)\n",
    "print(data3.columns)\n",
    "data3.head()"
   ]
  },
  {
   "cell_type": "code",
   "execution_count": null,
   "metadata": {},
   "outputs": [],
   "source": [
    "# Converting dates to datetime format\n",
    "data3['date'] = pd.to_datetime(data3['date'], format='%Y-%m-%d')"
   ]
  },
  {
   "cell_type": "markdown",
   "metadata": {},
   "source": [
    "Viewing available administrative level 1"
   ]
  },
  {
   "cell_type": "code",
   "execution_count": null,
   "metadata": {},
   "outputs": [],
   "source": [
    "data3.administrative_area_level_1.unique()"
   ]
  },
  {
   "cell_type": "markdown",
   "metadata": {},
   "source": [
    "Viewing example administrative level 3 for a specific country"
   ]
  },
  {
   "cell_type": "code",
   "execution_count": null,
   "metadata": {},
   "outputs": [],
   "source": [
    "data3[data3.administrative_area_level_1 == \"France\"]['administrative_area_level_3'].unique()"
   ]
  },
  {
   "cell_type": "markdown",
   "metadata": {},
   "source": [
    "### Visualizing data for a specific city\n",
    "\n",
    "Using Paris as an example"
   ]
  },
  {
   "cell_type": "code",
   "execution_count": null,
   "metadata": {},
   "outputs": [],
   "source": [
    "selected_city = \"Paris\"\n",
    "data_city = data3[data3.administrative_area_level_3 == selected_city]\n",
    "print(data_city.shape)\n",
    "data_city.head()"
   ]
  },
  {
   "cell_type": "markdown",
   "metadata": {},
   "source": [
    "Checking initial and final date of observations for a country"
   ]
  },
  {
   "cell_type": "code",
   "execution_count": null,
   "metadata": {},
   "outputs": [],
   "source": [
    "print(data_city.date.max() - data_city.date.min())\n",
    "print(data_city.date.min())\n",
    "print(data_city.date.max())"
   ]
  },
  {
   "cell_type": "markdown",
   "metadata": {},
   "source": [
    "Visualizing how `school_closing` policy has changed thoughout the pandemic, where:\n",
    "- 0: No measures \n",
    "- 1: Recommend closing (or work from home) \n",
    "- 2: require closing for some sectors or categories of workers \n",
    "- 3: require closing (or work from home) all-but-essential workplaces (eg grocery stores, doctors)."
   ]
  },
  {
   "cell_type": "markdown",
   "metadata": {},
   "source": [
    "Visualizing school closing policy"
   ]
  },
  {
   "cell_type": "code",
   "execution_count": null,
   "metadata": {},
   "outputs": [],
   "source": [
    "fig, ax = plt.subplots()\n",
    "ax.plot(data_city['date'], data_city['school_closing'])\n",
    "ax.set_title('School closing policy over time in ' + selected_city)\n",
    "\n",
    "# rotate and align the tick labels so they look better\n",
    "fig.autofmt_xdate()"
   ]
  },
  {
   "cell_type": "markdown",
   "metadata": {},
   "source": [
    "Visualizing number of new cases and deaths"
   ]
  },
  {
   "cell_type": "code",
   "execution_count": null,
   "metadata": {},
   "outputs": [],
   "source": [
    "data_city.loc[:,'new_cases'] = data_city['confirmed'].diff()\n",
    "data_city.loc[:,'new_deaths'] = data_city['deaths'].diff()\n",
    "\n",
    "fig, (ax1, ax2) = plt.subplots(1, 2, figsize=(12, 6))\n",
    "\n",
    "ax1.plot(data_city['date'], data_city['new_cases'])\n",
    "ax1.set_title('Number of new cases over time in ' + selected_city)\n",
    "ax2.plot(data_city['date'], data_city['new_deaths'])\n",
    "ax2.set_title('Number of new deaths over time in ' + selected_city)\n",
    "fig.autofmt_xdate()"
   ]
  },
  {
   "cell_type": "markdown",
   "metadata": {},
   "source": [
    "# Validating Simulation Data"
   ]
  },
  {
   "cell_type": "markdown",
   "metadata": {},
   "source": [
    "**Observations:**\n",
    "\n",
    "> On smaller areas (administrative_area_level_3) the quality of the data does not seem to be very good. We have decided to use country-level (level 1) data instead to build a baseline case around.\n",
    "\n",
    "> Simply getting the daily difference of the number of confirmed cases and deaths to get the number of daily new cases and deaths is noisy and even generates large negative numbers. We're using a moving average instead."
   ]
  },
  {
   "cell_type": "markdown",
   "metadata": {},
   "source": [
    "### Back to Canada's Data"
   ]
  },
  {
   "cell_type": "code",
   "execution_count": null,
   "metadata": {},
   "outputs": [],
   "source": [
    "selected_country = \"Canada\"\n",
    "data_country = data1[data1.administrative_area_level_1 == selected_country]\n",
    "data_country.loc[:,'new_cases'] = data_country.loc[:, 'confirmed'].diff()\n",
    "data_country.loc[:,'new_deaths'] = data_country['deaths'].diff()\n",
    "\n",
    "# Calculating moving average of new cases\n",
    "mean = data_country['new_cases']\n",
    "window = 7\n",
    "smooth_series = np.convolve(mean, np.ones((window,))/window, mode='valid')\n",
    "data_country['smooth_new_cases'] = np.append([0,0,0,0,0,0], smooth_series)\n",
    "\n",
    "# Plotting new cases and school closing policy\n",
    "fig, (ax1, ax2) = plt.subplots(1, 2, figsize=(12, 6))\n",
    "ax1.plot(data_country['date'], data_country['smooth_new_cases']);\n",
    "ax1.set_title(\"Smoothed new cases over time in Canada\")\n",
    "ax2.plot(data_country['date'], data_country['school_closing']);\n",
    "ax2.set_title(\"School Closing Policy in Canada\")\n",
    "fig.autofmt_xdate()"
   ]
  },
  {
   "cell_type": "code",
   "execution_count": null,
   "metadata": {},
   "outputs": [],
   "source": [
    "ax = data_country.plot(x='date', y='smooth_new_cases',\n",
    "                       title=\"Number of New Cases Over Time\",\n",
    "                      figsize=(10,6))\n",
    "ax.pcolorfast(ax.get_xlim(), ax.get_ylim(),\n",
    "              data_country['school_closing'].values[np.newaxis],\n",
    "              cmap='RdYlGn', alpha=0.3)\n",
    "\n",
    "legend_elements = [Patch(facecolor='red', edgecolor=None, alpha=0.3, label='No measures'),\n",
    "                  Patch(facecolor='green', edgecolor=None, alpha=0.3, label='Require closing all levels'),\n",
    "                  Patch(facecolor='greenyellow', edgecolor=None, alpha=0.3, label='Require closing only some levels')]\n",
    "\n",
    "# Create the figure\n",
    "#fig, ax = plt.subplots()\n",
    "ax.legend(handles=legend_elements, loc='upper left');"
   ]
  },
  {
   "cell_type": "code",
   "execution_count": null,
   "metadata": {},
   "outputs": [],
   "source": [
    "print(\"Number of cases just before reopening schools: \\n\" + str(data_country.smooth_new_cases.iloc[-42]))\n",
    "print(\"Number of cases 30 days after reopening schools: \\n\" + str(data_country.smooth_new_cases.iloc[-12]))\n",
    "print(\"Ratio: \\n\" + str(data_country.smooth_new_cases.iloc[-12]/data_country.smooth_new_cases.iloc[-42]))"
   ]
  },
  {
   "cell_type": "markdown",
   "metadata": {},
   "source": [
    "### Simulation Data"
   ]
  },
  {
   "cell_type": "code",
   "execution_count": null,
   "metadata": {},
   "outputs": [],
   "source": [
    "sim_data = [[0, 0, 1, 0, 2, 1, 1, 1, 0, 2], [0, 1, 1, 1, 3, 3, 1, 2, 2, 0], [4, 1, 6, 5, 7, 0, 7, 2, 5, 2], [3, 2, 4, 3, 3, 0, 2, 7, 4, 3], [10, 4, 2, 9, 7, 5, 5, 7, 8, 7], [6, 4, 9, 6, 9, 6, 9, 8, 10, 13], [7, 7, 15, 15, 9, 7, 12, 14, 16, 11], [10, 5, 21, 11, 15, 11, 13, 6, 11, 10], [15, 9, 17, 18, 11, 16, 10, 7, 23, 8], [12, 13, 23, 3, 19, 10, 12, 8, 19, 14], [16, 12, 23, 13, 19, 13, 14, 12, 25, 23], [20, 12, 25, 15, 22, 10, 14, 11, 13, 19], [16, 14, 20, 7, 20, 16, 24, 11, 16, 20], [12, 6, 22, 12, 11, 14, 18, 9, 15, 13], [10, 9, 34, 12, 18, 12, 14, 12, 26, 23], [23, 8, 28, 7, 28, 17, 14, 10, 21, 17], [19, 6, 35, 13, 21, 16, 11, 12, 23, 24], [19, 10, 38, 12, 16, 16, 11, 11, 17, 17], [23, 9, 31, 8, 23, 15, 22, 14, 15, 22], [27, 14, 34, 7, 21, 6, 21, 14, 18, 20], [14, 8, 21, 14, 17, 10, 14, 10, 21, 17], [25, 12, 33, 11, 21, 11, 17, 12, 13, 18], [18, 7, 28, 8, 34, 12, 13, 6, 18, 16], [18, 7, 35, 9, 16, 7, 19, 8, 20, 18], [22, 7, 31, 12, 17, 11, 16, 9, 17, 23], [20, 6, 32, 7, 21, 14, 15, 8, 25, 22], [17, 4, 46, 5, 19, 12, 19, 8, 16, 19], [18, 7, 37, 7, 16, 9, 18, 3, 18, 18], [19, 7, 30, 3, 22, 8, 25, 11, 18, 20], [16, 10, 36, 8, 28, 9, 28, 9, 23, 15], [13, 9, 47, 2, 25, 14, 20, 9, 11, 22], [46, 12, 62, 8, 33, 17, 26, 17, 27, 31], [40, 9, 72, 11, 38, 23, 35, 19, 24, 40], [41, 9, 67, 10, 38, 22, 34, 18, 24, 37], [26, 2, 66, 14, 39, 21, 23, 26, 25, 52], [52, 10, 77, 16, 35, 26, 35, 27, 25, 64], [42, 11, 89, 16, 48, 33, 37, 31, 23, 48], [42, 18, 83, 9, 56, 25, 40, 28, 38, 51], [43, 16, 90, 14, 56, 19, 56, 28, 39, 68], [54, 15, 97, 14, 52, 29, 44, 27, 31, 65], [54, 10, 112, 12, 66, 33, 53, 27, 41, 69], [57, 13, 88, 17, 60, 26, 36, 31, 31, 52], [82, 8, 97, 18, 67, 32, 61, 39, 37, 73], [72, 10, 115, 11, 63, 37, 60, 21, 38, 78], [64, 12, 88, 18, 69, 33, 70, 38, 36, 66], [86, 7, 130, 15, 75, 36, 65, 38, 51, 71], [75, 14, 112, 18, 76, 29, 45, 39, 48, 81], [77, 15, 104, 18, 83, 35, 71, 47, 50, 98], [72, 13, 95, 19, 82, 27, 61, 35, 48, 82], [83, 18, 137, 19, 95, 38, 78, 44, 51, 82], [82, 20, 113, 16, 70, 33, 76, 56, 44, 94], [86, 11, 126, 17, 85, 31, 67, 49, 61, 93], [97, 13, 133, 12, 77, 37, 70, 42, 54, 110], [91, 11, 146, 21, 79, 43, 69, 39, 63, 108], [82, 21, 133, 24, 95, 51, 88, 52, 55, 106], [95, 16, 119, 17, 79, 21, 78, 38, 76, 77], [101, 13, 131, 16, 97, 44, 88, 58, 74, 117], [83, 12, 138, 18, 90, 47, 92, 50, 77, 105], [94, 16, 124, 24, 93, 35, 84, 54, 69, 103], [103, 16, 121, 18, 77, 44, 78, 40, 79, 102], [120, 9, 126, 22, 95, 40, 93, 52, 84, 105], [155, 30, 166, 39, 125, 81, 135, 123, 85, 202], [140, 17, 129, 23, 129, 65, 109, 97, 88, 151], [142, 27, 155, 27, 129, 70, 123, 107, 101, 152], [130, 19, 146, 17, 121, 78, 144, 89, 100, 151], [148, 25, 163, 27, 111, 81, 140, 99, 102, 142], [142, 17, 170, 30, 130, 73, 131, 99, 113, 159], [153, 26, 124, 32, 123, 65, 141, 82, 104, 139], [134, 24, 111, 30, 122, 77, 137, 80, 119, 175], [131, 20, 116, 28, 102, 69, 115, 99, 91, 143], [137, 18, 122, 34, 131, 58, 140, 92, 119, 135], [146, 25, 122, 33, 116, 73, 154, 109, 113, 127], [140, 24, 101, 35, 146, 68, 124, 104, 123, 127], [125, 40, 127, 38, 114, 75, 136, 109, 107, 146], [127, 32, 99, 24, 109, 77, 125, 99, 115, 125], [135, 31, 111, 32, 124, 80, 137, 82, 114, 112], [111, 19, 78, 46, 74, 69, 89, 82, 111, 107], [127, 29, 105, 33, 98, 87, 105, 112, 115, 123], [120, 27, 95, 50, 100, 80, 123, 103, 124, 105], [117, 35, 85, 42, 94, 92, 104, 102, 101, 91], [108, 33, 76, 41, 109, 64, 111, 85, 116, 87], [110, 28, 84, 35, 88, 75, 116, 96, 122, 94], [93, 38, 79, 41, 91, 80, 92, 73, 122, 84], [81, 28, 54, 36, 92, 72, 91, 99, 117, 81], [92, 31, 65, 43, 86, 84, 96, 95, 110, 58], [82, 35, 53, 51, 65, 73, 98, 98, 115, 80], [84, 30, 65, 45, 57, 79, 93, 82, 106, 79], [91, 30, 52, 46, 82, 80, 89, 59, 100, 78], [74, 35, 46, 30, 73, 92, 92, 78, 112, 59], [75, 36, 43, 44, 67, 90, 88, 85, 98, 63]]\n",
    "sim_data_mean = np.mean(sim_data, axis=1)\n",
    "plt.plot(sim_data_mean)\n",
    "plt.title(\"Simulation's Cases Per Day\")\n",
    "plt.vlines(x=30, ymin=0, ymax=120, color=\"black\", linestyles=\"dashed\", alpha=0.5, label=\"Reopening Schools\");\n",
    "plt.legend();"
   ]
  },
  {
   "cell_type": "code",
   "execution_count": null,
   "metadata": {},
   "outputs": [],
   "source": [
    "print(\"Number of cases just before reopening schools: \\n\" + str(sim_data_mean[30]))\n",
    "print(\"Number of cases 30 days after reopening schools: \\n\" + str(sim_data_mean[60]))\n",
    "print(\"Ratio: \\n\" + str(sim_data_mean[60]/sim_data_mean[30]))"
   ]
  }
 ],
 "metadata": {
  "kernelspec": {
   "display_name": "Python 3",
   "language": "python",
   "name": "python3"
  },
  "language_info": {
   "codemirror_mode": {
    "name": "ipython",
    "version": 3
   },
   "file_extension": ".py",
   "mimetype": "text/x-python",
   "name": "python",
   "nbconvert_exporter": "python",
   "pygments_lexer": "ipython3",
   "version": "3.6.9"
  }
 },
 "nbformat": 4,
 "nbformat_minor": 4
}
