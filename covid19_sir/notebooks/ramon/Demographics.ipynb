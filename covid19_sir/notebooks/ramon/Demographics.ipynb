{
 "cells": [
  {
   "cell_type": "code",
   "execution_count": 1,
   "id": "pointed-kuwait",
   "metadata": {},
   "outputs": [],
   "source": [
    "import pandas as pd\n",
    "import matplotlib.pyplot as plt\n",
    "import numpy as np"
   ]
  },
  {
   "cell_type": "markdown",
   "id": "canadian-hampshire",
   "metadata": {},
   "source": [
    "# Current Age Generation Function"
   ]
  },
  {
   "cell_type": "code",
   "execution_count": 2,
   "id": "empirical-compiler",
   "metadata": {},
   "outputs": [
    {
     "data": {
      "text/plain": [
       "(array([1184., 2046., 2132., 1985., 1227.,  772.,  458.,  139.,   46.,\n",
       "          11.]),\n",
       " array([ 0. ,  9.3, 18.6, 27.9, 37.2, 46.5, 55.8, 65.1, 74.4, 83.7, 93. ]),\n",
       " <BarContainer object of 10 artists>)"
      ]
     },
     "execution_count": 2,
     "metadata": {},
     "output_type": "execute_result"
    },
    {
     "data": {
      "image/png": "[encoded data removed]",
      "text/plain": [
       "<Figure size 432x288 with 1 Axes>"
      ]
     },
     "metadata": {
      "needs_background": "light"
     },
     "output_type": "display_data"
    }
   ],
   "source": [
    "age_list = []\n",
    "for n in np.arange(10000):\n",
    "    age = int(np.random.beta(2, 5, 1) * 100)\n",
    "    age_list.append(age)\n",
    "plt.hist(age_list)"
   ]
  },
  {
   "cell_type": "markdown",
   "id": "deluxe-crest",
   "metadata": {},
   "source": [
    "## New Roulette Age Selection"
   ]
  },
  {
   "cell_type": "code",
   "execution_count": 3,
   "id": "varied-release",
   "metadata": {},
   "outputs": [],
   "source": [
    "# percent of people with age <= key\n",
    "greene_demographics = {\n",
    "    'age_distribution':{\n",
    "        4: 6.0,\n",
    "        9: 5.7,\n",
    "        14: 5.8,\n",
    "        19: 6.5,\n",
    "        24: 10.6,\n",
    "        34: 14.1,\n",
    "        44: 11.7,\n",
    "        54: 11.5,\n",
    "        59: 6.0,\n",
    "        64: 6.0,\n",
    "        74: 8.9,\n",
    "        84: 5.0,\n",
    "        100: 2.1\n",
    "    },\n",
    "    #'work_classes':{\n",
    "    #    'Retail': 12.7,\n",
    "    #}\n",
    "}\n",
    "\n",
    "# # percent of people with age <= key\n",
    "# greene_demographics = {\n",
    "#     'age':{\n",
    "#         54: 50.0,\n",
    "#         100: 50.0\n",
    "#     },\n",
    "#     #'work_classes':{\n",
    "#     #    'Retail': 12.7,\n",
    "#     #}\n",
    "# }\n",
    "\n",
    "\n",
    "greene_population = 293086"
   ]
  },
  {
   "cell_type": "code",
   "execution_count": 4,
   "id": "further-nicholas",
   "metadata": {},
   "outputs": [],
   "source": [
    "class Demographics:\n",
    "    def __init__(self, demographics_dict):\n",
    "        allowed_keys = ['age_distribution']\n",
    "        assert all([key in allowed_keys for key in demographics_dict.keys()]), \"Demographics dictionary keys ({}) should be contained in {}.\".format(list(demographics_dict.keys()), allowed_keys)\n",
    "        \n",
    "        self.age_roulette = None\n",
    "        if 'age_distribution' in demographics_dict.keys():\n",
    "            self.age_distribution = demographics_dict['age_distribution']\n",
    "            self.age_roulette = self.convert_age_dict(self.age_distribution)\n",
    "    \n",
    "    def convert_age_dict(self, age_dict):\n",
    "        MAXIMUM_ALLOWED_AGE = 100\n",
    "        ages = list(age_dict.keys())\n",
    "        weights = list(age_dict.values())\n",
    "        assert min(ages) >= 1, \"Minimum expected age is 1\"\n",
    "        assert max(ages) <= MAXIMUM_ALLOWED_AGE, \"Maximum expected age is {}\".format(MAXIMUM_ALLOWED_AGE)\n",
    "\n",
    "        all_ages = []\n",
    "        all_weights = []\n",
    "        for i, age in enumerate(ages):\n",
    "            if i == 0:\n",
    "                repeated_age = list(range(1,age+1))\n",
    "                repeated_weight = [weights[i]]*len(repeated_age)\n",
    "                all_ages += repeated_age\n",
    "                all_weights += repeated_weight\n",
    "            else:\n",
    "                repeated_age = list(range(ages[i-1]+1,age+1))\n",
    "                repeated_weight = [weights[i]]*len(repeated_age)\n",
    "                all_ages += repeated_age\n",
    "                all_weights += repeated_weight\n",
    "        assert len(all_weights) == MAXIMUM_ALLOWED_AGE\n",
    "        return all_ages, all_weights"
   ]
  },
  {
   "cell_type": "code",
   "execution_count": 5,
   "id": "retained-wonder",
   "metadata": {},
   "outputs": [],
   "source": [
    "demo = Demographics(greene_demographics)"
   ]
  },
  {
   "cell_type": "markdown",
   "id": "saved-presence",
   "metadata": {},
   "source": [
    "#### Testing roulette selection"
   ]
  },
  {
   "cell_type": "code",
   "execution_count": 6,
   "id": "cultural-membership",
   "metadata": {},
   "outputs": [],
   "source": [
    "from model.base import roulette_selection"
   ]
  },
  {
   "cell_type": "code",
   "execution_count": 7,
   "id": "vital-justice",
   "metadata": {},
   "outputs": [
    {
     "data": {
      "image/png": "[encoded data removed]",
      "text/plain": [
       "<Figure size 432x288 with 1 Axes>"
      ]
     },
     "metadata": {
      "needs_background": "light"
     },
     "output_type": "display_data"
    }
   ],
   "source": [
    "all_ages = []\n",
    "for n in range(greene_population):\n",
    "    all_ages.append(roulette_selection(demo.age_roulette[0], demo.age_roulette[1]))\n",
    "\n",
    "plt.hist(all_ages, bins=20);\n",
    "plt.title('Resulting age histogram');"
   ]
  },
  {
   "cell_type": "code",
   "execution_count": 8,
   "id": "beginning-duplicate",
   "metadata": {},
   "outputs": [],
   "source": [
    "age_range_array = np.array([0] + list(greene_demographics['age_distribution'].keys()))\n",
    "age_percents = {}\n",
    "for i, age in enumerate(age_range_array):\n",
    "    if i == 0:\n",
    "        continue\n",
    "    age_percents[age] = 100 * np.sum(np.logical_and(all_ages > age_range_array[i-1], all_ages <= age_range_array[i])) / greene_population"
   ]
  },
  {
   "cell_type": "code",
   "execution_count": 9,
   "id": "technological-france",
   "metadata": {},
   "outputs": [
    {
     "data": {
      "text/plain": [
       "{4: 3.0806657431607105,\n",
       " 9: 3.6497819752564093,\n",
       " 14: 3.7726128167159128,\n",
       " 19: 4.167377493295483,\n",
       " 24: 6.8645380536770775,\n",
       " 34: 18.320561200466756,\n",
       " 44: 15.09898118640945,\n",
       " 54: 14.876862081436848,\n",
       " 59: 3.866100734937868,\n",
       " 64: 3.844946534464287,\n",
       " 74: 11.563158936284912,\n",
       " 84: 6.556778556464655,\n",
       " 100: 4.337634687429628}"
      ]
     },
     "execution_count": 9,
     "metadata": {},
     "output_type": "execute_result"
    }
   ],
   "source": [
    "age_percents"
   ]
  },
  {
   "cell_type": "code",
   "execution_count": 10,
   "id": "coral-outside",
   "metadata": {},
   "outputs": [
    {
     "data": {
      "text/plain": [
       "{4: 6.0,\n",
       " 9: 5.7,\n",
       " 14: 5.8,\n",
       " 19: 6.5,\n",
       " 24: 10.6,\n",
       " 34: 14.1,\n",
       " 44: 11.7,\n",
       " 54: 11.5,\n",
       " 59: 6.0,\n",
       " 64: 6.0,\n",
       " 74: 8.9,\n",
       " 84: 5.0,\n",
       " 100: 2.1}"
      ]
     },
     "execution_count": 10,
     "metadata": {},
     "output_type": "execute_result"
    }
   ],
   "source": [
    "greene_demographics['age_distribution']"
   ]
  },
  {
   "cell_type": "code",
   "execution_count": 11,
   "id": "impressive-laugh",
   "metadata": {},
   "outputs": [
    {
     "data": {
      "text/plain": [
       "100.0"
      ]
     },
     "execution_count": 11,
     "metadata": {},
     "output_type": "execute_result"
    }
   ],
   "source": [
    "sum(age_percents.values())"
   ]
  },
  {
   "cell_type": "code",
   "execution_count": 12,
   "id": "southwest-vanilla",
   "metadata": {},
   "outputs": [
    {
     "data": {
      "text/plain": [
       "array([-2.91933426, -2.05021802, -2.02738718, -2.33262251, -3.73546195,\n",
       "        4.2205612 ,  3.39898119,  3.37686208, -2.13389927, -2.15505347,\n",
       "        2.66315894,  1.55677856,  2.23763469])"
      ]
     },
     "execution_count": 12,
     "metadata": {},
     "output_type": "execute_result"
    }
   ],
   "source": [
    "np.array(list(age_percents.values())) - np.array(list(greene_demographics['age_distribution'].values()))"
   ]
  },
  {
   "cell_type": "markdown",
   "id": "distant-light",
   "metadata": {},
   "source": [
    "#### Creating roulette"
   ]
  },
  {
   "cell_type": "code",
   "execution_count": 13,
   "id": "structured-ensemble",
   "metadata": {},
   "outputs": [
    {
     "data": {
      "text/plain": [
       "array([ 6. , 11.7, 17.5, 24. , 34.6, 48.7, 60.4, 71.9, 77.9, 83.9, 92.8,\n",
       "       97.8, 99.9])"
      ]
     },
     "execution_count": 13,
     "metadata": {},
     "output_type": "execute_result"
    }
   ],
   "source": [
    "#def demographics_roulette(values, weights, total_population):\n",
    "\n",
    "values = np.array(list(greene_demographics['age_distribution'].keys()))\n",
    "weights = list(greene_demographics['age_distribution'].values())\n",
    "\n",
    "total_value = sum(weights)\n",
    "cumsum_weights = np.cumsum(weights)\n",
    "cumsum_weights\n"
   ]
  },
  {
   "cell_type": "code",
   "execution_count": 14,
   "id": "threaded-karaoke",
   "metadata": {},
   "outputs": [
    {
     "name": "stdout",
     "output_type": "stream",
     "text": [
      "94.6515905675024\n",
      "[  4   9  14  19  24  34  44  54  59  64  74  84 100]\n",
      "[ 6.  11.7 17.5 24.  34.6 48.7 60.4 71.9 77.9 83.9 92.8 97.8 99.9]\n",
      "[ True  True  True  True  True  True  True  True  True  True  True False\n",
      " False]\n",
      "[ 4  9 14 19 24 34 44 54 59 64 74]\n",
      "74\n"
     ]
    }
   ],
   "source": [
    "random_number = np.random.random() * total_value\n",
    "\n",
    "print(random_number)\n",
    "print(values)\n",
    "print(cumsum_weights)\n",
    "print(cumsum_weights <= random_number)\n",
    "print(values[cumsum_weights <= random_number])\n",
    "\n",
    "lower_age_range = values[cumsum_weights <= random_number][-1]\n",
    "print(lower_age_range)"
   ]
  },
  {
   "cell_type": "code",
   "execution_count": 15,
   "id": "incredible-inspiration",
   "metadata": {},
   "outputs": [
    {
     "name": "stdout",
     "output_type": "stream",
     "text": [
      "84\n"
     ]
    }
   ],
   "source": [
    "lower_idx = list(values).index(lower_age_range)\n",
    "higher_age_range = values[lower_idx + 1]\n",
    "print(higher_age_range)"
   ]
  },
  {
   "cell_type": "markdown",
   "id": "wooden-terrace",
   "metadata": {},
   "source": [
    "## New Approach"
   ]
  },
  {
   "cell_type": "code",
   "execution_count": 16,
   "id": "united-authorization",
   "metadata": {},
   "outputs": [
    {
     "data": {
      "text/plain": [
       "293086"
      ]
     },
     "execution_count": 16,
     "metadata": {},
     "output_type": "execute_result"
    }
   ],
   "source": [
    "greene_population"
   ]
  },
  {
   "cell_type": "code",
   "execution_count": 17,
   "id": "hundred-cancer",
   "metadata": {},
   "outputs": [
    {
     "data": {
      "text/plain": [
       "{4: 6.0,\n",
       " 9: 5.7,\n",
       " 14: 5.8,\n",
       " 19: 6.5,\n",
       " 24: 10.6,\n",
       " 34: 14.1,\n",
       " 44: 11.7,\n",
       " 54: 11.5,\n",
       " 59: 6.0,\n",
       " 64: 6.0,\n",
       " 74: 8.9,\n",
       " 84: 5.0,\n",
       " 100: 2.1}"
      ]
     },
     "execution_count": 17,
     "metadata": {},
     "output_type": "execute_result"
    }
   ],
   "source": [
    "greene_demographics['age_distribution']"
   ]
  },
  {
   "cell_type": "code",
   "execution_count": 18,
   "id": "opposite-controversy",
   "metadata": {},
   "outputs": [],
   "source": [
    "total_population = greene_population\n",
    "age_dict = greene_demographics['age_distribution']\n",
    "# -----------\n",
    "# Calculates the number of agents in each age range using given weights\n",
    "weight_array = np.array(list(age_dict.values())) \n",
    "percent_array = weight_array / np.sum(weight_array)\n",
    "agents_by_age_range = []\n",
    "for p in percent_array:\n",
    "    agents_by_age_range.append(int(p * total_population))\n",
    "population = sum(agents_by_age_range)\n",
    "\n",
    "# Fixes rounding errors by changing the highest number only\n",
    "agents_by_age_range[agents_by_age_range.index(max(agents_by_age_range))] += total_population - population \n",
    "population = sum(agents_by_age_range)\n",
    "assert population == total_population\n",
    "\n",
    "# Gets random ages for each age range according to their respective number of agents\n",
    "age_range_array = np.array([0] + list(age_dict.keys()))\n",
    "agent_ages_by_range = []\n",
    "for i, age in enumerate(age_range_array):\n",
    "    if i == 0:\n",
    "        continue\n",
    "    agent_ages_by_range.append(np.random.randint(low = age_range_array[i-1]+1,\n",
    "                                                  high = age_range_array[i]+1,\n",
    "                                                  size = agents_by_age_range[i-1]))\n",
    "all_agent_ages = np.concatenate(agent_ages_by_range)\n",
    "assert len(all_agent_ages) == total_population"
   ]
  },
  {
   "cell_type": "markdown",
   "id": "figured-priority",
   "metadata": {},
   "source": [
    "### Testing proportions"
   ]
  },
  {
   "cell_type": "code",
   "execution_count": 19,
   "id": "competitive-sixth",
   "metadata": {},
   "outputs": [
    {
     "data": {
      "text/plain": [
       "{4: 6.0,\n",
       " 9: 5.7,\n",
       " 14: 5.8,\n",
       " 19: 6.5,\n",
       " 24: 10.6,\n",
       " 34: 14.1,\n",
       " 44: 11.7,\n",
       " 54: 11.5,\n",
       " 59: 6.0,\n",
       " 64: 6.0,\n",
       " 74: 8.9,\n",
       " 84: 5.0,\n",
       " 100: 2.1}"
      ]
     },
     "execution_count": 19,
     "metadata": {},
     "output_type": "execute_result"
    }
   ],
   "source": [
    "age_range_array = np.array([0] + list(greene_demographics['age_distribution'].keys()))\n",
    "age_percents = {}\n",
    "for i, age in enumerate(age_range_array):\n",
    "    if i == 0:\n",
    "        continue\n",
    "    age_percents[age] = np.round(100 * np.sum(np.logical_and(all_agent_ages > age_range_array[i-1], all_agent_ages <= age_range_array[i])) / total_population, 1)\n",
    "age_percents"
   ]
  },
  {
   "cell_type": "code",
   "execution_count": 20,
   "id": "minute-schema",
   "metadata": {},
   "outputs": [
    {
     "data": {
      "text/plain": [
       "{4: 6.0,\n",
       " 9: 5.7,\n",
       " 14: 5.8,\n",
       " 19: 6.5,\n",
       " 24: 10.6,\n",
       " 34: 14.1,\n",
       " 44: 11.7,\n",
       " 54: 11.5,\n",
       " 59: 6.0,\n",
       " 64: 6.0,\n",
       " 74: 8.9,\n",
       " 84: 5.0,\n",
       " 100: 2.1}"
      ]
     },
     "execution_count": 20,
     "metadata": {},
     "output_type": "execute_result"
    }
   ],
   "source": [
    "greene_demographics['age_distribution']"
   ]
  },
  {
   "cell_type": "markdown",
   "id": "interesting-pakistan",
   "metadata": {},
   "source": [
    "### Assembling class"
   ]
  },
  {
   "cell_type": "code",
   "execution_count": 21,
   "id": "approximate-pixel",
   "metadata": {},
   "outputs": [],
   "source": [
    "class Demographics:\n",
    "    def __init__(self, demographics_dict):\n",
    "        allowed_keys = ['total_population', 'age_distribution']\n",
    "        assert all([key in allowed_keys for key in demographics_dict.keys()]), \"Demographics dictionary keys ({}) should be contained in {}.\".format(list(demographics_dict.keys()), allowed_keys)\n",
    "        \n",
    "        self.demographics_dict = demographics_dict\n",
    "        self.agent_ages = None\n",
    "        self.total_population = None\n",
    "        if 'age_distribution' in demographics_dict.keys():\n",
    "            assert 'total_population' in demographics_dict.keys(), \"Total population is necessary to do age calculations\"\n",
    "            self.total_population = demographics_dict['total_population']\n",
    "            self.agent_ages = self.convert_age_dict(demographics_dict['age_distribution'])\n",
    "    \n",
    "    def convert_age_dict(self, age_dict):\n",
    "        \n",
    "        # Calculates the number of agents in each age range using given weights\n",
    "        weight_array = np.array(list(age_dict.values())) \n",
    "        percent_array = weight_array / np.sum(weight_array)\n",
    "        agents_by_age_range = []\n",
    "        for p in percent_array:\n",
    "            agents_by_age_range.append(int(p * self.total_population))\n",
    "        population = sum(agents_by_age_range)\n",
    "\n",
    "        # Fixes rounding errors by changing the highest number only\n",
    "        agents_by_age_range[agents_by_age_range.index(max(agents_by_age_range))] += self.total_population - population \n",
    "        population = sum(agents_by_age_range)\n",
    "        assert population == self.total_population\n",
    "\n",
    "        # Gets random ages for each age range according to their respective number of agents\n",
    "        age_range_array = np.array([0] + list(age_dict.keys()))\n",
    "        agent_ages_by_range = []\n",
    "        for i, age in enumerate(age_range_array):\n",
    "            if i == 0:\n",
    "                continue\n",
    "            agent_ages_by_range.append(np.random.randint(low = age_range_array[i-1]+1,\n",
    "                                                          high = age_range_array[i]+1,\n",
    "                                                          size = agents_by_age_range[i-1]))\n",
    "        all_agent_ages = np.concatenate(agent_ages_by_range)\n",
    "        assert len(all_agent_ages) == self.total_population\n",
    "        return all_agent_ages"
   ]
  },
  {
   "cell_type": "code",
   "execution_count": 22,
   "id": "found-scotland",
   "metadata": {},
   "outputs": [],
   "source": [
    "# percent of people with age <= key\n",
    "greene_demographics = {\n",
    "    'total_population': 293086,\n",
    "    'age_distribution':{\n",
    "        4: 6.0,\n",
    "        9: 5.7,\n",
    "        14: 5.8,\n",
    "        19: 6.5,\n",
    "        24: 10.6,\n",
    "        34: 14.1,\n",
    "        44: 11.7,\n",
    "        54: 11.5,\n",
    "        59: 6.0,\n",
    "        64: 6.0,\n",
    "        74: 8.9,\n",
    "        84: 5.0,\n",
    "        100: 2.1\n",
    "    },\n",
    "    #'work_classes':{\n",
    "    #    'Retail': 12.7,\n",
    "    #}\n",
    "}\n",
    "\n",
    "demo = Demographics(greene_demographics)"
   ]
  },
  {
   "cell_type": "code",
   "execution_count": 23,
   "id": "suited-elder",
   "metadata": {},
   "outputs": [
    {
     "data": {
      "image/png": "[encoded data removed]",
      "text/plain": [
       "<Figure size 432x288 with 1 Axes>"
      ]
     },
     "metadata": {
      "needs_background": "light"
     },
     "output_type": "display_data"
    }
   ],
   "source": [
    "plt.hist(demo.agent_ages, bins=100);"
   ]
  },
  {
   "cell_type": "markdown",
   "id": "starting-gasoline",
   "metadata": {},
   "source": [
    "### Shuffling agent ages"
   ]
  },
  {
   "cell_type": "code",
   "execution_count": 33,
   "id": "subsequent-snake",
   "metadata": {},
   "outputs": [
    {
     "data": {
      "text/plain": [
       "array([55, 40, 16, 74, 74,  9, 65, 46, 28, 33, 21, 50, 53, 15, 40, 18, 29,\n",
       "       44, 48, 20, 70, 70,  4, 49, 13,  3, 28, 44, 80, 43, 27, 83, 52, 59,\n",
       "        8,  7, 12, 70, 35, 65, 30, 70, 74, 66, 61, 51, 12, 23, 32, 13, 81,\n",
       "       31, 72, 53, 35, 27, 36, 71, 52, 28, 18, 61, 33, 28, 69, 10, 57, 79,\n",
       "       86, 17, 63, 63, 64, 38, 23, 11, 41, 25,  3, 70, 65, 14, 53, 19, 66,\n",
       "       21, 27, 55, 27,  2, 18, 21, 61, 23, 23, 53,  2, 41, 95, 19])"
      ]
     },
     "execution_count": 33,
     "metadata": {},
     "output_type": "execute_result"
    }
   ],
   "source": [
    "import random\n",
    "\n",
    "random.shuffle(demo.agent_ages)\n",
    "demo.agent_ages[0:100]"
   ]
  },
  {
   "cell_type": "code",
   "execution_count": null,
   "id": "palestinian-platform",
   "metadata": {},
   "outputs": [],
   "source": []
  }
 ],
 "metadata": {
  "kernelspec": {
   "display_name": "Python 3",
   "language": "python",
   "name": "python3"
  },
  "language_info": {
   "codemirror_mode": {
    "name": "ipython",
    "version": 3
   },
   "file_extension": ".py",
   "mimetype": "text/x-python",
   "name": "python",
   "nbconvert_exporter": "python",
   "pygments_lexer": "ipython3",
   "version": "3.6.9"
  }
 },
 "nbformat": 4,
 "nbformat_minor": 5
}
