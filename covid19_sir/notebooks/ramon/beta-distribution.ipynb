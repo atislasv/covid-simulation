{
 "cells": [
  {
   "cell_type": "code",
   "execution_count": 1,
   "metadata": {},
   "outputs": [],
   "source": [
    "import numpy as np\n",
    "from model.base import normal_cap, normal_ci\n",
    "import matplotlib.pyplot as plt"
   ]
  },
  {
   "cell_type": "markdown",
   "metadata": {},
   "source": [
    "Example parameters"
   ]
  },
  {
   "cell_type": "code",
   "execution_count": 2,
   "metadata": {},
   "outputs": [],
   "source": [
    "risk_tolerance_mean=0.7\n",
    "risk_tolerance_stdev=0.2\n",
    "\n",
    "herding_behavior_mean=0.7\n",
    "herding_behavior_stdev=0.2\n",
    "\n",
    "# spreading_rate=normal_ci(2.41, 3.90, 20)"
   ]
  },
  {
   "cell_type": "markdown",
   "metadata": {},
   "source": [
    "## Converting parameters from mean and var (normal distribution) to alpha and beta (beta distribution)"
   ]
  },
  {
   "cell_type": "code",
   "execution_count": 4,
   "metadata": {},
   "outputs": [],
   "source": [
    "def check_var(mean, var):\n",
    "    assert var < mean*(1 - mean), \"Variance assertion failed.\"\n",
    "\n",
    "def convert(mean, var):\n",
    "    check_var(mean, var)\n",
    "    alpha = mean*(mean*(1-mean)/var - 1)\n",
    "    beta = (1-mean)*(mean*(1-mean)/var - 1)\n",
    "    return alpha, beta\n",
    "\n",
    "alpha, beta = convert(risk_tolerance_mean, risk_tolerance_stdev**2)"
   ]
  },
  {
   "cell_type": "markdown",
   "metadata": {},
   "source": [
    "Drawing random numbers"
   ]
  },
  {
   "cell_type": "code",
   "execution_count": 5,
   "metadata": {},
   "outputs": [],
   "source": [
    "n = 100000\n",
    "normal_list = []\n",
    "beta_list = []\n",
    "\n",
    "for i in range(n):\n",
    "    normal_list.append(normal_cap(risk_tolerance_mean, risk_tolerance_stdev))\n",
    "    beta_list.append(np.random.beta(alpha,beta))"
   ]
  },
  {
   "cell_type": "markdown",
   "metadata": {},
   "source": [
    "Plotting results"
   ]
  },
  {
   "cell_type": "code",
   "execution_count": 8,
   "metadata": {},
   "outputs": [
    {
     "data": {
      "image/png": "[encoded data removed]",
      "text/plain": [
       "<Figure size 432x288 with 1 Axes>"
      ]
     },
     "metadata": {
      "needs_background": "light"
     },
     "output_type": "display_data"
    }
   ],
   "source": [
    "bins = 30\n",
    "plt.hist(normal_list, bins = bins, alpha=0.5, label='normal');\n",
    "plt.hist(beta_list, bins = bins, alpha=0.5, label='beta');\n",
    "plt.legend(loc='upper left')\n",
    "plt.show()"
   ]
  },
  {
   "cell_type": "markdown",
   "metadata": {},
   "source": [
    "## Using sample size\n",
    "Trying to convert from `mean` and `sample_size` to `alpha` and `beta` using the equations provided in the slack channel."
   ]
  },
  {
   "cell_type": "code",
   "execution_count": 6,
   "metadata": {},
   "outputs": [],
   "source": [
    "def convert_sample_size(mean, sample_size=10):\n",
    "    alpha = mean * sample_size\n",
    "    beta = sample_size - alpha\n",
    "    return alpha, beta"
   ]
  },
  {
   "cell_type": "code",
   "execution_count": 13,
   "metadata": {},
   "outputs": [],
   "source": [
    "n = 100000\n",
    "alpha, beta = convert_sample_size(0.5, 10)\n",
    "normal_list = []\n",
    "beta_list = []\n",
    "\n",
    "for i in range(n):\n",
    "    normal_list.append(normal_cap(risk_tolerance_mean, risk_tolerance_stdev))\n",
    "    beta_list.append(np.random.beta(alpha,beta))"
   ]
  },
  {
   "cell_type": "code",
   "execution_count": 14,
   "metadata": {},
   "outputs": [
    {
     "data": {
      "image/png": "[encoded data removed]",
      "text/plain": [
       "<Figure size 432x288 with 1 Axes>"
      ]
     },
     "metadata": {
      "needs_background": "light"
     },
     "output_type": "display_data"
    }
   ],
   "source": [
    "bins = 30\n",
    "plt.hist(normal_list, bins = bins, alpha=0.5, label='normal');\n",
    "plt.hist(beta_list, bins = bins, alpha=0.5, label='beta');"
   ]
  },
  {
   "cell_type": "markdown",
   "metadata": {},
   "source": [
    "Doesn't seem to make sense for large values of `sample_size`... "
   ]
  },
  {
   "cell_type": "markdown",
   "metadata": {},
   "source": [
    "## Evaluating numbers generated by normal_ci"
   ]
  },
  {
   "cell_type": "code",
   "execution_count": 34,
   "metadata": {},
   "outputs": [
    {
     "data": {
      "image/png": "[encoded data removed]",
      "text/plain": [
       "<Figure size 432x288 with 1 Axes>"
      ]
     },
     "metadata": {
      "needs_background": "light"
     },
     "output_type": "display_data"
    }
   ],
   "source": [
    "n = 100000\n",
    "normal_ci_list = []\n",
    "\n",
    "for i in range(n):\n",
    "    #normal_ci_list.append(normal_ci(0, 0.5, 1))\n",
    "    #normal_ci_list.append(normal_ci(0.174, 0.796, 10))\n",
    "    normal_ci_list.append(normal_ci(0.07, 0.2, 0.4))\n",
    "\n",
    "\n",
    "bins = 30\n",
    "plt.hist(normal_ci_list, bins = bins, alpha=0.5, label='normal');"
   ]
  },
  {
   "cell_type": "markdown",
   "metadata": {},
   "source": [
    "Results are strange... best results are obtained when `0<n<1` which is unexpected if `n` represents sample size."
   ]
  },
  {
   "cell_type": "markdown",
   "metadata": {},
   "source": [
    "# New beta functions\n",
    "-- in progress -- "
   ]
  },
  {
   "cell_type": "code",
   "execution_count": 35,
   "metadata": {},
   "outputs": [],
   "source": [
    "def convert(mean, stdev):\n",
    "    \"\"\"Converts mean and standard deviation parameters into alpha and beta to be used in the beta distribution.\"\"\"\n",
    "    var = stdev ** 2\n",
    "    assert var < mean * (1 - mean), \"Variance assertion failed.\"\n",
    "    alpha = mean * (mean * (1-mean)/var - 1)\n",
    "    beta = (1-mean) * (mean * (1-mean)/var - 1)\n",
    "    return alpha, beta\n",
    "\n",
    "\n",
    "def beta_distribution(mean, stdev):\n",
    "    \"\"\"Draws random values from a beta distribution using alpha and beta parameters derived from mean and standard\n",
    "    deviation.\"\"\"\n",
    "    alpha, beta = convert(mean, stdev)\n",
    "    return np.random.beta(alpha, beta)\n",
    "\n",
    "def beta_range(lower_bound, upper_bound):\n",
    "    \"\"\"Draws a random number from a beta distribution with parameters alpha = 2 and beta = 2 (this assures that the values will stay in the range [0, 1]. Then rescales the values to the desired range.\"\"\"\n",
    "    assert lower_bound < upper_bound, \"Parameter lower_bound must be smaller than upper_bound.\"\n",
    "    return (np.random.beta(2, 2) * (upper_bound - lower_bound)) + lower_bound"
   ]
  },
  {
   "cell_type": "code",
   "execution_count": 37,
   "metadata": {},
   "outputs": [
    {
     "data": {
      "image/png": "[encoded data removed]",
      "text/plain": [
       "<Figure size 432x288 with 1 Axes>"
      ]
     },
     "metadata": {
      "needs_background": "light"
     },
     "output_type": "display_data"
    }
   ],
   "source": [
    "n = 100000\n",
    "beta_list = []\n",
    "\n",
    "for i in range(n):\n",
    "    beta_list.append(beta_range(-0.07, 0.02))\n",
    "\n",
    "\n",
    "bins = 30\n",
    "plt.hist(beta_list, bins = bins, alpha=0.5, label='beta');"
   ]
  },
  {
   "cell_type": "code",
   "execution_count": null,
   "metadata": {},
   "outputs": [],
   "source": []
  }
 ],
 "metadata": {
  "kernelspec": {
   "display_name": "Python 3",
   "language": "python",
   "name": "python3"
  },
  "language_info": {
   "codemirror_mode": {
    "name": "ipython",
    "version": 3
   },
   "file_extension": ".py",
   "mimetype": "text/x-python",
   "name": "python",
   "nbconvert_exporter": "python",
   "pygments_lexer": "ipython3",
   "version": "3.6.9"
  }
 },
 "nbformat": 4,
 "nbformat_minor": 4
}
