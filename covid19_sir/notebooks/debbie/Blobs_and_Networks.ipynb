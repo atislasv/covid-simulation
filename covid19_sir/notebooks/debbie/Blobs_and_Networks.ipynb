{
 "cells": [
  {
   "cell_type": "code",
   "execution_count": 1,
   "metadata": {},
   "outputs": [],
   "source": [
    "import sys\n",
    "sys.path.insert(0, '../..')\n",
    "import copy\n",
    "import numpy as np\n",
    "from model.base import CovidModel, SimulationParameters, set_parameters, normal_ci\n",
    "from utils import BasicStatistics, RemovePolicy, Propaganda, setup_city_layout, AddPolicyInfectedRate, confidence_interval, multiple_runs\n",
    "from model.utils import SocialPolicy"
   ]
  },
  {
   "cell_type": "code",
   "execution_count": 2,
   "metadata": {},
   "outputs": [],
   "source": [
    "listeners = [\n",
    "[\"AddPolicyInfectedRateWindow\", SocialPolicy.LOCKDOWN_ELEMENTARY_SCHOOL,0.00025 ,1],\n",
    "[\"AddPolicyInfectedRateWindow\", SocialPolicy.LOCKDOWN_MIDDLE_SCHOOL, 0.00025 ,1],\n",
    "[\"AddPolicyInfectedRateWindow\", SocialPolicy.LOCKDOWN_HIGH_SCHOOL, 0.00025 ,1],\n",
    "[\"AddPolicyInfectedRateWindow\", SocialPolicy.LOCKDOWN_RETAIL,0.00025 ,1],\n",
    "[\"AddPolicyInfectedRateWindow\", SocialPolicy.LOCKDOWN_FACTORY, 0.00025 ,1],\n",
    "[\"AddPolicyInfectedRateWindow\", SocialPolicy.LOCKDOWN_OFFICE, 0.00025 ,1],\n",
    "[\"RemovePolicyInfectedRateWindow\", SocialPolicy.LOCKDOWN_ELEMENTARY_SCHOOL, 0.00025 ,21],\n",
    "[\"RemovePolicyInfectedRateWindow\", SocialPolicy.LOCKDOWN_MIDDLE_SCHOOL, 0.00025 ,21],\n",
    "[\"RemovePolicyInfectedRateWindow\", SocialPolicy.LOCKDOWN_HIGH_SCHOOL,0.00025 ,21],\n",
    "[\"RemovePolicyInfectedRateWindow\", SocialPolicy.LOCKDOWN_RETAIL, 0.00025 ,21],\n",
    "[\"RemovePolicyInfectedRateWindow\", SocialPolicy.LOCKDOWN_FACTORY, 0.00025 ,21],\n",
    "[\"RemovePolicyInfectedRateWindow\", SocialPolicy.LOCKDOWN_OFFICE,0.00025 ,21]\n",
    "]"
   ]
  },
  {
   "cell_type": "code",
   "execution_count": 3,
   "metadata": {},
   "outputs": [],
   "source": [
    "common_parameters = SimulationParameters(\n",
    "    mask_user_rate = 0.9, # 0.0,\n",
    "    mask_efficacy = 0.6, #0.0,\n",
    "    imune_rate = 0.01,\n",
    "    initial_infection_rate = 0.01,\n",
    "    hospitalization_capacity = 0.05,\n",
    "    latency_period_shape = 3,\n",
    "    latency_period_scale = 1, \n",
    "    incubation_period_shape = 6,\n",
    "    incubation_period_scale = 1, \n",
    "    mild_period_duration_shape = 14,\n",
    "    mild_period_duration_scale = 1,\n",
    "    hospitalization_period_duration_shape = 12,\n",
    "    hospitalization_period_duration_scale = 1,\n",
    "    symptomatic_isolation_rate = 0.0,\n",
    "    asymptomatic_contagion_probability = 0.1,\n",
    "#    asymptomatic_contagion_probability = 0.05,\n",
    "    risk_tolerance_mean = 0.7,\n",
    "    risk_tolerance_stdev = 0.2,\n",
    "    herding_behavior_mean = 0.7,\n",
    "#    herding_behavior_mean = 0.1,\n",
    "    herding_behavior_stdev = 0.2,\n",
    "    allowed_restaurant_capacity = 0.25, #1.0, # valid values: {1.0, 0.50, 0.25}\n",
    "    spreading_rate = normal_ci(2.41, 3.90, 20)\n",
    "#    spreading_rate = normal_ci(0.5, 1.5, 20)\n",
    ")\n",
    "\n",
    "sc = 10\n",
    "\n",
    "population_size = 1000\n",
    "simulation_cycles = 360 # days\n",
    "seed = 31415\n",
    "np.random.seed(seed)\n",
    "\n",
    "params = copy.deepcopy(common_parameters)"
   ]
  },
  {
   "cell_type": "markdown",
   "metadata": {},
   "source": [
    "\n",
    "By changing the coverage of school and work districts over the home districts we can make the disease spread faster or slower as desired .  \n",
    "def setup_grid_layout(model, population_size,\n",
    "        home_grid_height, home_grid_width,work_height,work_width, school_height, school_width):\n",
    "    \n",
    "\n",
    "Makes a grid of homogeneous home districts, overlaid by school and work districts.\n",
    "    \n",
    "\n",
    "home_grid_height is the number of home districts high the grid is, and\n",
    "    \n",
    "\n",
    "home_grid_width is the nmber of home districts wide the grid is\n",
    "    \n",
    "\n",
    "school height and work height are how many home districts high a school\n",
    "    \n",
    "\n",
    "district and work are respectively, and the same for their length.\n",
    "    \n",
    "\n",
    "each begins in grid 0,0 and cover the orignal home district grid.\n",
    "    \n",
    "\n",
    "Persons assigned to the home districts are also assigned to the school\n",
    "    \n",
    "\n",
    "and work districts that cover them. The parameters determine the amount\n",
    "    \n",
    "\n",
    "of leakage across groups of people.  With parameters (10,10,1,1,1,1), you get 100\n",
    "    \n",
    "\n",
    "completely separated districts with no leakage.  With parameters (6,6,2,2,3,3), illustrated below, you\n",
    "    \n",
    "\n",
    "get a grid where every one is connected to everyone else, but there is a\n",
    "    \n",
    "\n",
    "degree of separation.  For example, a person in home district (0,0) can be infected\n",
    "    \n",
    "\n",
    "by a person in (5,5) but it would be bridged by three infections, slowing the\n",
    "    \n",
    "\n",
    "virus down.  Larger sizes for work and school districts enable faster spread. Fastest\n",
    "    \n",
    "\n",
    "spread occurs with parameters (1,1,1,1,1,1) or equivalently (10,10, 10,10,10,10)\n",
    "    \n",
    "\n",
    "or any of the same number\n",
    "    \n",
    "\n",
    "Since this is just a way to allocate human interactions, no label is needed and\n",
    "    \n",
    "\n",
    "the grid need not be saved, for interactions to occur, although this informamtion\n",
    "    \n",
    "\n",
    "may be useful for visualizations. \n",
    "\n",
    "\n",
    " \n"
   ]
  },
  {
   "cell_type": "markdown",
   "metadata": {},
   "source": [
    "<img src=\"grids.jpg\">"
   ]
  },
  {
   "cell_type": "markdown",
   "metadata": {},
   "source": [
    " Without locality, the defaults to multiple_run are :  home_grid_height = 1, home_grid_width = 1,work_height = 1, work_width =1, school_height=1, school_width=1.  \n"
   ]
  },
  {
   "cell_type": "code",
   "execution_count": 4,
   "metadata": {},
   "outputs": [
    {
     "name": "stdout",
     "output_type": "stream",
     "text": [
      "Save these seeds if you want to rerun a scenario\n",
      "[9675, 7590, 802, 3752, 4216, 394, 7618, 6823, 155, 3025, 8816, 2520, 9015, 5373, 6450, 7800, 1660, 9188, 1483, 2526, 8201, 679, 1291, 6494, 909, 3893, 8248, 2433, 2843, 8253]\n"
     ]
    },
    {
     "ename": "AttributeError",
     "evalue": "'FamilyFactory' object has no attribute '_is_compatable'",
     "output_type": "error",
     "traceback": [
      "\u001b[0;31m---------------------------------------------------------------------------\u001b[0m",
      "\u001b[0;31mAttributeError\u001b[0m                            Traceback (most recent call last)",
      "\u001b[0;32m<ipython-input-4-7a0e657c0d12>\u001b[0m in \u001b[0;36m<module>\u001b[0;34m\u001b[0m\n\u001b[1;32m      6\u001b[0m \u001b[0mseeds\u001b[0m \u001b[0;34m=\u001b[0m \u001b[0;34m[\u001b[0m\u001b[0;36m9675\u001b[0m\u001b[0;34m,\u001b[0m \u001b[0;36m7590\u001b[0m\u001b[0;34m,\u001b[0m \u001b[0;36m802\u001b[0m\u001b[0;34m,\u001b[0m \u001b[0;36m3752\u001b[0m\u001b[0;34m,\u001b[0m \u001b[0;36m4216\u001b[0m\u001b[0;34m,\u001b[0m \u001b[0;36m394\u001b[0m\u001b[0;34m,\u001b[0m \u001b[0;36m7618\u001b[0m\u001b[0;34m,\u001b[0m \u001b[0;36m6823\u001b[0m\u001b[0;34m,\u001b[0m \u001b[0;36m155\u001b[0m\u001b[0;34m,\u001b[0m \u001b[0;36m3025\u001b[0m\u001b[0;34m,\u001b[0m \u001b[0;36m8816\u001b[0m\u001b[0;34m,\u001b[0m \u001b[0;36m2520\u001b[0m\u001b[0;34m,\u001b[0m \u001b[0;36m9015\u001b[0m\u001b[0;34m,\u001b[0m \u001b[0;36m5373\u001b[0m\u001b[0;34m,\u001b[0m \u001b[0;36m6450\u001b[0m\u001b[0;34m,\u001b[0m \u001b[0;36m7800\u001b[0m\u001b[0;34m,\u001b[0m \u001b[0;36m1660\u001b[0m\u001b[0;34m,\u001b[0m \u001b[0;36m9188\u001b[0m\u001b[0;34m,\u001b[0m \u001b[0;36m1483\u001b[0m\u001b[0;34m,\u001b[0m \u001b[0;36m2526\u001b[0m\u001b[0;34m,\u001b[0m \u001b[0;36m8201\u001b[0m\u001b[0;34m,\u001b[0m \u001b[0;36m679\u001b[0m\u001b[0;34m,\u001b[0m \u001b[0;36m1291\u001b[0m\u001b[0;34m,\u001b[0m \u001b[0;36m6494\u001b[0m\u001b[0;34m,\u001b[0m \u001b[0;36m909\u001b[0m\u001b[0;34m,\u001b[0m \u001b[0;36m3893\u001b[0m\u001b[0;34m,\u001b[0m \u001b[0;36m8248\u001b[0m\u001b[0;34m,\u001b[0m \u001b[0;36m2433\u001b[0m\u001b[0;34m,\u001b[0m \u001b[0;36m2843\u001b[0m\u001b[0;34m,\u001b[0m \u001b[0;36m8253\u001b[0m\u001b[0;34m]\u001b[0m\u001b[0;34m\u001b[0m\u001b[0;34m\u001b[0m\u001b[0m\n\u001b[1;32m      7\u001b[0m \u001b[0msetLevel\u001b[0m\u001b[0;34m(\u001b[0m\u001b[0mlogging\u001b[0m\u001b[0;34m.\u001b[0m\u001b[0mCRITICAL\u001b[0m\u001b[0;34m)\u001b[0m\u001b[0;34m\u001b[0m\u001b[0;34m\u001b[0m\u001b[0m\n\u001b[0;32m----> 8\u001b[0;31m \u001b[0mmultiple_runs\u001b[0m\u001b[0;34m(\u001b[0m\u001b[0mparams\u001b[0m\u001b[0;34m,\u001b[0m\u001b[0mpopulation_size\u001b[0m\u001b[0;34m,\u001b[0m\u001b[0msimulation_cycles\u001b[0m\u001b[0;34m,\u001b[0m\u001b[0mseeds\u001b[0m \u001b[0;34m=\u001b[0m \u001b[0mseeds\u001b[0m\u001b[0;34m,\u001b[0m\u001b[0mfname\u001b[0m \u001b[0;34m=\u001b[0m \u001b[0;34m\"duong10000-1\"\u001b[0m\u001b[0;34m,\u001b[0m \u001b[0mdo_print\u001b[0m \u001b[0;34m=\u001b[0m \u001b[0;32mTrue\u001b[0m\u001b[0;34m,\u001b[0m \u001b[0mlisteners\u001b[0m \u001b[0;34m=\u001b[0m \u001b[0mlisteners\u001b[0m\u001b[0;34m)\u001b[0m\u001b[0;34m\u001b[0m\u001b[0;34m\u001b[0m\u001b[0m\n\u001b[0m",
      "\u001b[0;32m/home/opencog/covid-simulation/covid19_sir/utils.py\u001b[0m in \u001b[0;36mmultiple_runs\u001b[0;34m(params, population_size, simulation_cycles, num_runs, seeds, debug, desired_stats, fname, listeners, do_print, home_grid_height, home_grid_width, work_home_list, school_home_list, temperature, zoomed_plot, zoomed_plot_ylim)\u001b[0m\n\u001b[1;32m     82\u001b[0m         \u001b[0mrandom\u001b[0m\u001b[0;34m.\u001b[0m\u001b[0mseed\u001b[0m\u001b[0;34m(\u001b[0m\u001b[0ms\u001b[0m \u001b[0;34m+\u001b[0m \u001b[0;36m2\u001b[0m\u001b[0;34m)\u001b[0m\u001b[0;34m\u001b[0m\u001b[0;34m\u001b[0m\u001b[0m\n\u001b[1;32m     83\u001b[0m         \u001b[0mmodel\u001b[0m\u001b[0;34m.\u001b[0m\u001b[0mreset_randomizer\u001b[0m\u001b[0;34m(\u001b[0m\u001b[0ms\u001b[0m\u001b[0;34m)\u001b[0m\u001b[0;34m\u001b[0m\u001b[0;34m\u001b[0m\u001b[0m\n\u001b[0;32m---> 84\u001b[0;31m         \u001b[0msetup_homophilic_layout\u001b[0m\u001b[0;34m(\u001b[0m\u001b[0mmodel\u001b[0m\u001b[0;34m,\u001b[0m\u001b[0mpopulation_size\u001b[0m\u001b[0;34m,\u001b[0m\u001b[0mhome_grid_height\u001b[0m\u001b[0;34m,\u001b[0m\u001b[0mhome_grid_width\u001b[0m\u001b[0;34m,\u001b[0m\u001b[0mwork_home_list\u001b[0m\u001b[0;34m,\u001b[0m\u001b[0mschool_home_list\u001b[0m\u001b[0;34m)\u001b[0m\u001b[0;34m\u001b[0m\u001b[0;34m\u001b[0m\u001b[0m\n\u001b[0m\u001b[1;32m     85\u001b[0m         \u001b[0;31m#setup_grid_layout(model, population_size, home_grid_height,\u001b[0m\u001b[0;34m\u001b[0m\u001b[0;34m\u001b[0m\u001b[0;34m\u001b[0m\u001b[0m\n\u001b[1;32m     86\u001b[0m         \u001b[0;31m#home_grid_width,work_height,work_width, school_height, school_width)\u001b[0m\u001b[0;34m\u001b[0m\u001b[0;34m\u001b[0m\u001b[0;34m\u001b[0m\u001b[0m\n",
      "\u001b[0;32m/home/opencog/covid-simulation/covid19_sir/utils.py\u001b[0m in \u001b[0;36msetup_homophilic_layout\u001b[0;34m(model, population_size, home_grid_height, home_grid_width, work_home_list, school_home_list, temperature)\u001b[0m\n\u001b[1;32m    992\u001b[0m \u001b[0;34m\u001b[0m\u001b[0m\n\u001b[1;32m    993\u001b[0m     \u001b[0mfamily_factory\u001b[0m \u001b[0;34m=\u001b[0m \u001b[0mFamilyFactory\u001b[0m\u001b[0;34m(\u001b[0m\u001b[0mmodel\u001b[0m\u001b[0;34m)\u001b[0m\u001b[0;34m\u001b[0m\u001b[0;34m\u001b[0m\u001b[0m\n\u001b[0;32m--> 994\u001b[0;31m     \u001b[0mfamily_factory\u001b[0m\u001b[0;34m.\u001b[0m\u001b[0mfactory\u001b[0m\u001b[0;34m(\u001b[0m\u001b[0mpopulation_size\u001b[0m\u001b[0;34m)\u001b[0m\u001b[0;34m\u001b[0m\u001b[0;34m\u001b[0m\u001b[0m\n\u001b[0m\u001b[1;32m    995\u001b[0m     \u001b[0mmodel\u001b[0m\u001b[0;34m.\u001b[0m\u001b[0mglobal_count\u001b[0m\u001b[0;34m.\u001b[0m\u001b[0mtotal_population\u001b[0m \u001b[0;34m=\u001b[0m \u001b[0mfamily_factory\u001b[0m\u001b[0;34m.\u001b[0m\u001b[0mhuman_count\u001b[0m\u001b[0;34m\u001b[0m\u001b[0;34m\u001b[0m\u001b[0m\n\u001b[1;32m    996\u001b[0m \u001b[0;34m\u001b[0m\u001b[0m\n",
      "\u001b[0;32m/home/opencog/covid-simulation/covid19_sir/model/instantiation.py\u001b[0m in \u001b[0;36mfactory\u001b[0;34m(self, population_size)\u001b[0m\n\u001b[1;32m     67\u001b[0m     \u001b[0;32mdef\u001b[0m \u001b[0mfactory\u001b[0m\u001b[0;34m(\u001b[0m\u001b[0mself\u001b[0m\u001b[0;34m,\u001b[0m \u001b[0mpopulation_size\u001b[0m\u001b[0;34m)\u001b[0m\u001b[0;34m:\u001b[0m\u001b[0;34m\u001b[0m\u001b[0;34m\u001b[0m\u001b[0m\n\u001b[1;32m     68\u001b[0m         \u001b[0;32mfor\u001b[0m \u001b[0mi\u001b[0m \u001b[0;32min\u001b[0m \u001b[0mrange\u001b[0m\u001b[0;34m(\u001b[0m\u001b[0mpopulation_size\u001b[0m\u001b[0;34m)\u001b[0m\u001b[0;34m:\u001b[0m\u001b[0;34m\u001b[0m\u001b[0;34m\u001b[0m\u001b[0m\n\u001b[0;32m---> 69\u001b[0;31m             \u001b[0mself\u001b[0m\u001b[0;34m.\u001b[0m\u001b[0m_push\u001b[0m\u001b[0;34m(\u001b[0m\u001b[0mHuman\u001b[0m\u001b[0;34m.\u001b[0m\u001b[0mfactory\u001b[0m\u001b[0;34m(\u001b[0m\u001b[0mself\u001b[0m\u001b[0;34m.\u001b[0m\u001b[0mcovid_model\u001b[0m\u001b[0;34m,\u001b[0m \u001b[0;32mNone\u001b[0m\u001b[0;34m)\u001b[0m\u001b[0;34m)\u001b[0m\u001b[0;34m\u001b[0m\u001b[0;34m\u001b[0m\u001b[0m\n\u001b[0m\u001b[1;32m     70\u001b[0m         \u001b[0mself\u001b[0m\u001b[0;34m.\u001b[0m\u001b[0m_flush_pending_families\u001b[0m\u001b[0;34m(\u001b[0m\u001b[0;34m)\u001b[0m\u001b[0;34m\u001b[0m\u001b[0;34m\u001b[0m\u001b[0m\n\u001b[1;32m     71\u001b[0m \u001b[0;34m\u001b[0m\u001b[0m\n",
      "\u001b[0;32m/home/opencog/covid-simulation/covid19_sir/model/instantiation.py\u001b[0m in \u001b[0;36m_push\u001b[0;34m(self, human)\u001b[0m\n\u001b[1;32m     93\u001b[0m         \u001b[0;32mif\u001b[0m \u001b[0;32mnot\u001b[0m \u001b[0mflag\u001b[0m\u001b[0;34m:\u001b[0m\u001b[0;34m\u001b[0m\u001b[0;34m\u001b[0m\u001b[0m\n\u001b[1;32m     94\u001b[0m             \u001b[0;32mwhile\u001b[0m \u001b[0;32mnot\u001b[0m \u001b[0mflag\u001b[0m\u001b[0;34m:\u001b[0m\u001b[0;34m\u001b[0m\u001b[0;34m\u001b[0m\u001b[0m\n\u001b[0;32m---> 95\u001b[0;31m                 \u001b[0mschema\u001b[0m \u001b[0;34m=\u001b[0m \u001b[0mself\u001b[0m\u001b[0;34m.\u001b[0m\u001b[0m_select_family_schema\u001b[0m\u001b[0;34m(\u001b[0m\u001b[0mhuman\u001b[0m\u001b[0;34m)\u001b[0m\u001b[0;34m\u001b[0m\u001b[0;34m\u001b[0m\u001b[0m\n\u001b[0m\u001b[1;32m     96\u001b[0m                 \u001b[0mfamily\u001b[0m \u001b[0;34m=\u001b[0m \u001b[0;34m[\u001b[0m\u001b[0;34m]\u001b[0m\u001b[0;34m\u001b[0m\u001b[0;34m\u001b[0m\u001b[0m\n\u001b[1;32m     97\u001b[0m                 \u001b[0mself\u001b[0m\u001b[0;34m.\u001b[0m\u001b[0mpending\u001b[0m\u001b[0;34m.\u001b[0m\u001b[0mappend\u001b[0m\u001b[0;34m(\u001b[0m\u001b[0;34m(\u001b[0m\u001b[0mschema\u001b[0m\u001b[0;34m,\u001b[0m \u001b[0mfamily\u001b[0m\u001b[0;34m)\u001b[0m\u001b[0;34m)\u001b[0m\u001b[0;34m\u001b[0m\u001b[0;34m\u001b[0m\u001b[0m\n",
      "\u001b[0;32m/home/opencog/covid-simulation/covid19_sir/model/instantiation.py\u001b[0m in \u001b[0;36m_select_family_schema\u001b[0;34m(self, human)\u001b[0m\n\u001b[1;32m     45\u001b[0m         \u001b[0;31m#first filter out compatables, then assign\u001b[0m\u001b[0;34m\u001b[0m\u001b[0;34m\u001b[0m\u001b[0;34m\u001b[0m\u001b[0m\n\u001b[1;32m     46\u001b[0m         \u001b[0;31m#else this would take longer than necessary\u001b[0m\u001b[0;34m\u001b[0m\u001b[0;34m\u001b[0m\u001b[0;34m\u001b[0m\u001b[0m\n\u001b[0;32m---> 47\u001b[0;31m         \u001b[0mcompatable\u001b[0m \u001b[0;34m=\u001b[0m \u001b[0;34m[\u001b[0m\u001b[0mclist\u001b[0m \u001b[0;32mfor\u001b[0m \u001b[0mclist\u001b[0m \u001b[0;32min\u001b[0m \u001b[0mself\u001b[0m\u001b[0;34m.\u001b[0m\u001b[0m_schema_collection\u001b[0m \u001b[0;32mif\u001b[0m \u001b[0mself\u001b[0m\u001b[0;34m.\u001b[0m\u001b[0m_is_compatable\u001b[0m\u001b[0;34m(\u001b[0m\u001b[0mhuman\u001b[0m\u001b[0;34m,\u001b[0m\u001b[0mclist\u001b[0m\u001b[0;34m)\u001b[0m\u001b[0;34m]\u001b[0m\u001b[0;34m\u001b[0m\u001b[0;34m\u001b[0m\u001b[0m\n\u001b[0m\u001b[1;32m     48\u001b[0m         \u001b[0;31m#compatable = [clist for clist in self._schema_collection ]#fixme\u001b[0m\u001b[0;34m\u001b[0m\u001b[0;34m\u001b[0m\u001b[0;34m\u001b[0m\u001b[0m\n\u001b[1;32m     49\u001b[0m         \u001b[0mschema\u001b[0m \u001b[0;34m=\u001b[0m \u001b[0mrandom_selection\u001b[0m\u001b[0;34m(\u001b[0m\u001b[0mcompatable\u001b[0m\u001b[0;34m)\u001b[0m\u001b[0;34m\u001b[0m\u001b[0;34m\u001b[0m\u001b[0m\n",
      "\u001b[0;32m/home/opencog/covid-simulation/covid19_sir/model/instantiation.py\u001b[0m in \u001b[0;36m<listcomp>\u001b[0;34m(.0)\u001b[0m\n\u001b[1;32m     45\u001b[0m         \u001b[0;31m#first filter out compatables, then assign\u001b[0m\u001b[0;34m\u001b[0m\u001b[0;34m\u001b[0m\u001b[0;34m\u001b[0m\u001b[0m\n\u001b[1;32m     46\u001b[0m         \u001b[0;31m#else this would take longer than necessary\u001b[0m\u001b[0;34m\u001b[0m\u001b[0;34m\u001b[0m\u001b[0;34m\u001b[0m\u001b[0m\n\u001b[0;32m---> 47\u001b[0;31m         \u001b[0mcompatable\u001b[0m \u001b[0;34m=\u001b[0m \u001b[0;34m[\u001b[0m\u001b[0mclist\u001b[0m \u001b[0;32mfor\u001b[0m \u001b[0mclist\u001b[0m \u001b[0;32min\u001b[0m \u001b[0mself\u001b[0m\u001b[0;34m.\u001b[0m\u001b[0m_schema_collection\u001b[0m \u001b[0;32mif\u001b[0m \u001b[0mself\u001b[0m\u001b[0;34m.\u001b[0m\u001b[0m_is_compatable\u001b[0m\u001b[0;34m(\u001b[0m\u001b[0mhuman\u001b[0m\u001b[0;34m,\u001b[0m\u001b[0mclist\u001b[0m\u001b[0;34m)\u001b[0m\u001b[0;34m]\u001b[0m\u001b[0;34m\u001b[0m\u001b[0;34m\u001b[0m\u001b[0m\n\u001b[0m\u001b[1;32m     48\u001b[0m         \u001b[0;31m#compatable = [clist for clist in self._schema_collection ]#fixme\u001b[0m\u001b[0;34m\u001b[0m\u001b[0;34m\u001b[0m\u001b[0;34m\u001b[0m\u001b[0m\n\u001b[1;32m     49\u001b[0m         \u001b[0mschema\u001b[0m \u001b[0;34m=\u001b[0m \u001b[0mrandom_selection\u001b[0m\u001b[0;34m(\u001b[0m\u001b[0mcompatable\u001b[0m\u001b[0;34m)\u001b[0m\u001b[0;34m\u001b[0m\u001b[0;34m\u001b[0m\u001b[0m\n",
      "\u001b[0;31mAttributeError\u001b[0m: 'FamilyFactory' object has no attribute '_is_compatable'"
     ]
    }
   ],
   "source": [
    "import logging\n",
    "def setLevel(level):\n",
    "    logger1 = logging.getLogger()\n",
    "    logger1.setLevel(level)\n",
    "\n",
    "seeds = [9675, 7590, 802, 3752, 4216, 394, 7618, 6823, 155, 3025, 8816, 2520, 9015, 5373, 6450, 7800, 1660, 9188, 1483, 2526, 8201, 679, 1291, 6494, 909, 3893, 8248, 2433, 2843, 8253]\n",
    "setLevel(logging.CRITICAL)\n",
    "multiple_runs(params,population_size,simulation_cycles,seeds = seeds,fname = \"duong10000-1\", do_print = True, listeners = listeners)"
   ]
  },
  {
   "cell_type": "markdown",
   "metadata": {},
   "source": [
    " Locality slows down the spread, with parameters home_grid_height = 6, home_grid_width = 6,\n",
    "                  work_height = 2, work_width =2, school_height=3, school_width=3"
   ]
  },
  {
   "cell_type": "code",
   "execution_count": null,
   "metadata": {},
   "outputs": [],
   "source": [
    "import logging\n",
    "def setLevel(level):\n",
    "    logger1 = logging.getLogger()\n",
    "    logger1.setLevel(level)\n",
    "\n",
    "\n",
    "setLevel(logging.CRITICAL)\n",
    "seeds =[9675, 7590, 802, 3752, 4216, 394, 7618, 6823, 155, 3025, 8816, 2520, 9015, 5373, 6450, 7800, 1660, 9188, 1483, 2526, 8201, 679, 1291, 6494, 909, 3893, 8248, 2433, 2843, 8253]\n",
    "multiple_runs(params,population_size,simulation_cycles,seeds = seeds,fname = \"duong10000--7-2\", do_print = True, \n",
    "              listeners = listeners, home_grid_height = 6, home_grid_width = 6,\n",
    "                  work_height = 2, work_width =2, school_height=3, school_width=3)"
   ]
  },
  {
   "cell_type": "code",
   "execution_count": null,
   "metadata": {},
   "outputs": [],
   "source": [
    "import logging\n",
    "def setLevel(level):\n",
    "    logger1 = logging.getLogger()\n",
    "    logger1.setLevel(level)\n",
    "\n",
    "\n",
    "setLevel(logging.CRITICAL)\n",
    "seeds = [9675, 7590, 802, 3752, 4216, 394, 7618, 6823, 155, 3025, 8816, 2520, 9015, 5373, 6450, 7800, 1660, 9188, 1483, 2526, 8201, 679, 1291, 6494, 909, 3893, 8248, 2433, 2843, 8253]\n",
    "multiple_runs(params,population_size,simulation_cycles,seeds = seeds,fname = \"duong2\", do_print = True, \n",
    "              listeners = listeners, home_grid_height = 4, home_grid_width = 4,\n",
    "                  work_height = 1, work_width =2, school_height=2, school_width=1)"
   ]
  },
  {
   "cell_type": "code",
   "execution_count": null,
   "metadata": {},
   "outputs": [],
   "source": [
    "import logging\n",
    "def setLevel(level):\n",
    "    logger1 = logging.getLogger()\n",
    "    logger1.setLevel(level)\n",
    "\n",
    "\n",
    "setLevel(logging.CRITICAL)\n",
    "seeds = [9675, 7590, 802, 3752, 4216, 394, 7618, 6823, 155, 3025, 8816, 2520, 9015, 5373, 6450, 7800, 1660, 9188, 1483, 2526, 8201, 679, 1291, 6494, 909, 3893, 8248, 2433, 2843, 8253]\n",
    "multiple_runs(params,population_size,simulation_cycles,seeds = seeds,fname = \"duong4\", do_print = True, \n",
    "              listeners = listeners, home_grid_height = 6, home_grid_width = 6,\n",
    "                  work_height = 2, work_width =1, school_height=1, school_width=2)"
   ]
  },
  {
   "cell_type": "code",
   "execution_count": null,
   "metadata": {},
   "outputs": [],
   "source": []
  }
 ],
 "metadata": {
  "kernelspec": {
   "display_name": "Python 3",
   "language": "python",
   "name": "python3"
  },
  "language_info": {
   "codemirror_mode": {
    "name": "ipython",
    "version": 3
   },
   "file_extension": ".py",
   "mimetype": "text/x-python",
   "name": "python",
   "nbconvert_exporter": "python",
   "pygments_lexer": "ipython3",
   "version": "3.6.8"
  }
 },
 "nbformat": 4,
 "nbformat_minor": 4
}
