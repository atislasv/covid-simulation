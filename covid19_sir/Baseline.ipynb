{
 "cells": [
  {
   "cell_type": "markdown",
   "metadata": {},
   "source": [
    "# Imports"
   ]
  },
  {
   "cell_type": "code",
   "execution_count": null,
   "metadata": {},
   "outputs": [],
   "source": [
    "import sys\n",
    "import copy\n",
    "import numpy as np\n",
    "from model.base import CovidModel, SimulationParameters, set_parameters, normal_ci\n",
    "from utils import BasicStatistics, RemovePolicy, Propaganda, setup_city_layout\n",
    "from model.utils import SocialPolicy"
   ]
  },
  {
   "cell_type": "markdown",
   "metadata": {},
   "source": [
    "# Parameters settings"
   ]
  },
  {
   "cell_type": "markdown",
   "metadata": {},
   "source": [
    "Default parameters. Unless explicitly overriden, these values are used in all scenarios"
   ]
  },
  {
   "cell_type": "code",
   "execution_count": null,
   "metadata": {},
   "outputs": [],
   "source": [
    "common_parameters = SimulationParameters(\n",
    "    mask_user_rate = 0.0,\n",
    "    mask_efficacy = 0.0,\n",
    "    imune_rate = 0.01,\n",
    "    initial_infection_rate = 0.01,\n",
    "    hospitalization_capacity = 0.5,\n",
    "    latency_period_shape = 2,\n",
    "    latency_period_scale = 1, \n",
    "    incubation_period_shape = 6,\n",
    "    incubation_period_scale = 1, \n",
    "    mild_period_duration_shape = 14,\n",
    "    mild_period_duration_scale = 1,\n",
    "    hospitalization_period_duration_shape = 12,\n",
    "    hospitalization_period_duration_scale = 1,\n",
    "    symptomatic_isolation_rate = 0.9,\n",
    "    asymptomatic_contagion_probability = 0.1,\n",
    "    risk_tolerance_mean = 0.7,\n",
    "    risk_tolerance_stdev = 0.2,\n",
    "    herding_behavior_mean = 0.7,\n",
    "    herding_behavior_stdev = 0.2,\n",
    "    allowed_restaurant_capacity = 1.0, # valid values: {1.0, 0.50, 0.25}\n",
    "    spreading_rate = normal_ci(2.41, 3.90, 20)\n",
    ")\n"
   ]
  },
  {
   "cell_type": "markdown",
   "metadata": {},
   "source": [
    "# Simulation setup"
   ]
  },
  {
   "cell_type": "code",
   "execution_count": null,
   "metadata": {},
   "outputs": [],
   "source": [
    "population_size = 1000\n",
    "simulation_cycles = 90 # days"
   ]
  },
  {
   "cell_type": "code",
   "execution_count": null,
   "metadata": {},
   "outputs": [],
   "source": [
    "seed = 314153"
   ]
  },
  {
   "cell_type": "code",
   "execution_count": null,
   "metadata": {},
   "outputs": [],
   "source": [
    "np.random.seed(seed)\n",
    "scenario = {}"
   ]
  },
  {
   "cell_type": "markdown",
   "metadata": {},
   "source": [
    "# Scenarios"
   ]
  },
  {
   "cell_type": "markdown",
   "metadata": {},
   "source": [
    "## Scenario 1"
   ]
  },
  {
   "cell_type": "markdown",
   "metadata": {},
   "source": [
    "Do nothing"
   ]
  },
  {
   "cell_type": "code",
   "execution_count": null,
   "metadata": {},
   "outputs": [],
   "source": [
    "sc = 1\n",
    "params = copy.deepcopy(common_parameters)\n",
    "set_parameters(params)\n",
    "model = CovidModel()\n",
    "np.random.seed(seed)\n",
    "setup_city_layout(model, population_size)"
   ]
  },
  {
   "cell_type": "code",
   "execution_count": null,
   "metadata": {
    "scrolled": true
   },
   "outputs": [],
   "source": [
    "model.reset_randomizer(seed)\n",
    "statistics = BasicStatistics(model)\n",
    "model.add_listener(statistics)\n",
    "for i in range(simulation_cycles):\n",
    "    model.step()\n",
    "statistics.export_chart(\"scenario\" + str(sc) + \".png\")\n",
    "statistics.export_csv(\"scenario\" + str(sc) + \".csv\")"
   ]
  },
  {
   "cell_type": "markdown",
   "metadata": {},
   "source": [
    "## Scenario 2"
   ]
  },
  {
   "cell_type": "markdown",
   "metadata": {},
   "source": [
    "Complete lockdown"
   ]
  },
  {
   "cell_type": "code",
   "execution_count": null,
   "metadata": {},
   "outputs": [],
   "source": [
    "sc = 2\n",
    "params = copy.deepcopy(common_parameters)\n",
    "params.params['social_policies'] = [\n",
    "    SocialPolicy.LOCKDOWN_ALL\n",
    "]\n",
    "set_parameters(params)\n",
    "model = CovidModel()\n",
    "np.random.seed(seed)\n",
    "setup_city_layout(model, population_size)"
   ]
  },
  {
   "cell_type": "code",
   "execution_count": null,
   "metadata": {
    "scrolled": true
   },
   "outputs": [],
   "source": [
    "model.reset_randomizer(seed)\n",
    "statistics = BasicStatistics(model)\n",
    "model.add_listener(statistics)\n",
    "for i in range(simulation_cycles):\n",
    "    model.step()\n",
    "statistics.export_chart(\"scenario\" + str(sc) + \".png\")\n",
    "statistics.export_csv(\"scenario\" + str(sc) + \".csv\")"
   ]
  },
  {
   "cell_type": "markdown",
   "metadata": {},
   "source": [
    "## Scenario 3"
   ]
  },
  {
   "cell_type": "markdown",
   "metadata": {},
   "source": [
    "Start with partial lockdown (essential workers continue working) then gradually unlock schools on simulation day 30, 60 and 90"
   ]
  },
  {
   "cell_type": "code",
   "execution_count": null,
   "metadata": {},
   "outputs": [],
   "source": [
    "sc = 3\n",
    "params = copy.deepcopy(common_parameters)\n",
    "params.params['social_policies'] = [\n",
    "    SocialPolicy.LOCKDOWN_OFFICE,\n",
    "    SocialPolicy.LOCKDOWN_FACTORY,\n",
    "    SocialPolicy.LOCKDOWN_RETAIL,\n",
    "    SocialPolicy.LOCKDOWN_ELEMENTARY_SCHOOL,\n",
    "    SocialPolicy.LOCKDOWN_MIDDLE_SCHOOL,\n",
    "    SocialPolicy.LOCKDOWN_HIGH_SCHOOL,\n",
    "    SocialPolicy.SOCIAL_DISTANCING\n",
    "]\n",
    "\n",
    "set_parameters(params)\n",
    "model = CovidModel()\n",
    "np.random.seed(seed)\n",
    "setup_city_layout(model, population_size)\n",
    "model.add_listener(RemovePolicy(model, SocialPolicy.LOCKDOWN_ELEMENTARY_SCHOOL, 30))\n",
    "model.add_listener(RemovePolicy(model, SocialPolicy.LOCKDOWN_MIDDLE_SCHOOL, 60))\n",
    "model.add_listener(RemovePolicy(model, SocialPolicy.LOCKDOWN_HIGH_SCHOOL, 90))"
   ]
  },
  {
   "cell_type": "code",
   "execution_count": null,
   "metadata": {},
   "outputs": [],
   "source": [
    "model.reset_randomizer(seed)\n",
    "statistics = BasicStatistics(model)\n",
    "model.add_listener(statistics)\n",
    "for i in range(simulation_cycles):\n",
    "    model.step()\n",
    "statistics.export_chart(\"scenario\" + str(sc) + \".png\")\n",
    "statistics.export_csv(\"scenario\" + str(sc) + \".csv\")"
   ]
  },
  {
   "cell_type": "markdown",
   "metadata": {},
   "source": [
    "## Scenario 4"
   ]
  },
  {
   "cell_type": "markdown",
   "metadata": {},
   "source": [
    "Like scenario 4 but simulate the start of a public campaing in day 1 to reinforce the importance of social distancing and consequently reduce the overall risk tolerance of the population"
   ]
  },
  {
   "cell_type": "code",
   "execution_count": null,
   "metadata": {},
   "outputs": [],
   "source": [
    "sc = 4\n",
    "params = copy.deepcopy(common_parameters)\n",
    "params.params['social_policies'] = [\n",
    "    SocialPolicy.LOCKDOWN_OFFICE,\n",
    "    SocialPolicy.LOCKDOWN_FACTORY,\n",
    "    SocialPolicy.LOCKDOWN_RETAIL,\n",
    "    SocialPolicy.LOCKDOWN_ELEMENTARY_SCHOOL,\n",
    "    SocialPolicy.LOCKDOWN_MIDDLE_SCHOOL,\n",
    "    SocialPolicy.LOCKDOWN_HIGH_SCHOOL,\n",
    "    SocialPolicy.SOCIAL_DISTANCING\n",
    "]\n",
    "\n",
    "set_parameters(params)\n",
    "model = CovidModel()\n",
    "np.random.seed(seed)\n",
    "setup_city_layout(model, population_size)\n",
    "model.add_listener(Propaganda(model, 1))\n",
    "model.add_listener(RemovePolicy(model, SocialPolicy.LOCKDOWN_ELEMENTARY_SCHOOL, 30))\n",
    "model.add_listener(RemovePolicy(model, SocialPolicy.LOCKDOWN_MIDDLE_SCHOOL, 60))\n",
    "model.add_listener(RemovePolicy(model, SocialPolicy.LOCKDOWN_HIGH_SCHOOL, 90))"
   ]
  },
  {
   "cell_type": "code",
   "execution_count": null,
   "metadata": {
    "scrolled": true
   },
   "outputs": [],
   "source": [
    "model.reset_randomizer(seed)\n",
    "statistics = BasicStatistics(model)\n",
    "model.add_listener(statistics)\n",
    "for i in range(simulation_cycles):\n",
    "    model.step()\n",
    "statistics.export_chart(\"scenario\" + str(sc) + \".png\")\n",
    "statistics.export_csv(\"scenario\" + str(sc) + \".csv\")"
   ]
  },
  {
   "cell_type": "code",
   "execution_count": null,
   "metadata": {},
   "outputs": [],
   "source": []
  },
  {
   "cell_type": "code",
   "execution_count": null,
   "metadata": {},
   "outputs": [],
   "source": []
  },
  {
   "cell_type": "code",
   "execution_count": null,
   "metadata": {},
   "outputs": [],
   "source": []
  }
 ],
 "metadata": {
  "kernelspec": {
   "display_name": "Python 3",
   "language": "python",
   "name": "python3"
  },
  "language_info": {
   "codemirror_mode": {
    "name": "ipython",
    "version": 3
   },
   "file_extension": ".py",
   "mimetype": "text/x-python",
   "name": "python",
   "nbconvert_exporter": "python",
   "pygments_lexer": "ipython3",
   "version": "3.6.9"
  }
 },
 "nbformat": 4,
 "nbformat_minor": 4
}
