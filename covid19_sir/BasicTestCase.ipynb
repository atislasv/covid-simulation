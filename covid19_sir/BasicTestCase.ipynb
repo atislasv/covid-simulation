{
 "cells": [
  {
   "cell_type": "markdown",
   "metadata": {},
   "source": [
    "# Imports"
   ]
  },
  {
   "cell_type": "code",
   "execution_count": null,
   "metadata": {},
   "outputs": [],
   "source": [
    "import sys\n",
    "import copy\n",
    "import numpy as np\n",
    "from model.base import CovidModel, SimulationParameters, set_parameters, normal_ci, logger\n",
    "from utils import BasicStatistics, RemovePolicy, Propaganda, setup_city_layout\n",
    "from model.utils import SocialPolicy\n",
    "from model.debugutils import DebugUtils"
   ]
  },
  {
   "cell_type": "markdown",
   "metadata": {},
   "source": [
    "# Parameters settings"
   ]
  },
  {
   "cell_type": "markdown",
   "metadata": {},
   "source": [
    "Default parameters. Unless explicitly overriden, these values are used in all scenarios"
   ]
  },
  {
   "cell_type": "code",
   "execution_count": null,
   "metadata": {},
   "outputs": [],
   "source": [
    "basic_parameters = SimulationParameters(\n",
    "    mask_user_rate = 0.0,\n",
    "    mask_efficacy = 0.0,\n",
    "    imune_rate = 0.01,\n",
    "    initial_infection_rate = 0.01,\n",
    "    hospitalization_capacity = 0.5,\n",
    "    latency_period_shape = 3,\n",
    "    latency_period_scale = 1,\n",
    "    incubation_period_shape = 6,\n",
    "    incubation_period_scale = 1,\n",
    "    mild_period_duration_shape = 14,\n",
    "    mild_period_duration_scale = 1,\n",
    "    hospitalization_period_duration_shape = 12,\n",
    "    hospitalization_period_duration_scale = 1,\n",
    "    symptomatic_isolation_rate = 0.0,\n",
    "    asymptomatic_contagion_probability = 0.1,\n",
    "    risk_tolerance_mean = 0.7,\n",
    "    risk_tolerance_stdev = 0.2,\n",
    "    herding_behavior_mean = 0.7,\n",
    "    herding_behavior_stdev = 0.2,\n",
    "    allowed_restaurant_capacity = 1.0, # valid values: {1.0, 0.50, 0.25}\n",
    "    spreading_rate = normal_ci(2.41, 3.90, 20),\n",
    "    social_policies = [\n",
    "        SocialPolicy.LOCKDOWN_OFFICE,\n",
    "        SocialPolicy.LOCKDOWN_FACTORY,\n",
    "        SocialPolicy.LOCKDOWN_RETAIL,\n",
    "        SocialPolicy.LOCKDOWN_ELEMENTARY_SCHOOL,\n",
    "        SocialPolicy.LOCKDOWN_MIDDLE_SCHOOL,\n",
    "        SocialPolicy.LOCKDOWN_HIGH_SCHOOL,\n",
    "        SocialPolicy.SOCIAL_DISTANCING\n",
    "    ]\n",
    ")\n",
    "single_var = None"
   ]
  },
  {
   "cell_type": "markdown",
   "metadata": {},
   "source": [
    "# Simulation setup"
   ]
  },
  {
   "cell_type": "code",
   "execution_count": null,
   "metadata": {},
   "outputs": [],
   "source": [
    "population_size = 1000\n",
    "simulation_cycles = 90 # days\n",
    "multiple_runs = 5"
   ]
  },
  {
   "cell_type": "markdown",
   "metadata": {},
   "source": [
    "## Parameter to vary"
   ]
  },
  {
   "cell_type": "code",
   "execution_count": null,
   "metadata": {},
   "outputs": [],
   "source": [
    "single_var = ('risk_tolerance_mean', [0.1, 0.5, 0.9])"
   ]
  },
  {
   "cell_type": "markdown",
   "metadata": {},
   "source": [
    "## Setup of monitored variables"
   ]
  },
  {
   "cell_type": "code",
   "execution_count": null,
   "metadata": {},
   "outputs": [],
   "source": [
    "infections_in_restaurants = {}"
   ]
  },
  {
   "cell_type": "markdown",
   "metadata": {},
   "source": [
    "# Run simulation multiple times for each parameter value"
   ]
  },
  {
   "cell_type": "code",
   "execution_count": null,
   "metadata": {},
   "outputs": [],
   "source": [
    "var_name, var_values = single_var\n",
    "for value in var_values:\n",
    "\n",
    "    infections_in_restaurants[value] = []\n",
    "\n",
    "    for k in range(multiple_runs):\n",
    "        params = copy.deepcopy(basic_parameters)\n",
    "        params.params[var_name] = value\n",
    "        set_parameters(params)\n",
    "        model = CovidModel()\n",
    "        setup_city_layout(model, population_size)\n",
    "        model.add_listener(Propaganda(model, 30))\n",
    "        model.add_listener(RemovePolicy(model, SocialPolicy.LOCKDOWN_ELEMENTARY_SCHOOL, 30))\n",
    "        model.add_listener(RemovePolicy(model, SocialPolicy.LOCKDOWN_MIDDLE_SCHOOL, 60))\n",
    "        model.add_listener(RemovePolicy(model, SocialPolicy.LOCKDOWN_HIGH_SCHOOL, 90))\n",
    "        statistics = BasicStatistics(model)\n",
    "        model.add_listener(statistics)\n",
    "        debug = DebugUtils(model)\n",
    "        logger().model = model\n",
    "        for i in range(simulation_cycles):\n",
    "            model.step()\n",
    "        #statistics.export_chart(f'scenario_{var_name}_{value}_{k}.png')\n",
    "        #statistics.export_csv(f'scenario_{var_name}_{value}_{k}.csv')\n",
    "        debug.update_infection_status()\n",
    "\n",
    "        infections_in_restaurants[value].append(debug.count_restaurant)"
   ]
  },
  {
   "cell_type": "markdown",
   "metadata": {},
   "source": [
    "# Print results"
   ]
  },
  {
   "cell_type": "code",
   "execution_count": null,
   "metadata": {},
   "outputs": [],
   "source": [
    "print(infections_in_restaurants)"
   ]
  },
  {
   "cell_type": "code",
   "execution_count": null,
   "metadata": {},
   "outputs": [],
   "source": []
  }
 ],
 "metadata": {
  "kernelspec": {
   "display_name": "Python 3",
   "language": "python",
   "name": "python3"
  },
  "language_info": {
   "codemirror_mode": {
    "name": "ipython",
    "version": 3
   },
   "file_extension": ".py",
   "mimetype": "text/x-python",
   "name": "python",
   "nbconvert_exporter": "python",
   "pygments_lexer": "ipython3",
   "version": "3.6.9"
  }
 },
 "nbformat": 4,
 "nbformat_minor": 4
}
