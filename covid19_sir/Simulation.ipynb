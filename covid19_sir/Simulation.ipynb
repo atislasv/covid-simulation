{
 "cells": [
  {
   "cell_type": "markdown",
   "metadata": {},
   "source": [
    "# Imports"
   ]
  },
  {
   "cell_type": "code",
   "execution_count": 1,
   "metadata": {},
   "outputs": [],
   "source": [
    "import sys\n",
    "import copy\n",
    "import numpy as np\n",
    "from model.base import CovidModel, SimulationParameters, set_parameters, normal_ci\n",
    "from utils import BasicStatistics, RemovePolicy, Propaganda, setup_city_layout,confidence_interval,multiple_runs\n",
    "from model.utils import SocialPolicy"
   ]
  },
  {
   "cell_type": "markdown",
   "metadata": {},
   "source": [
    "# Parameters settings"
   ]
  },
  {
   "cell_type": "markdown",
   "metadata": {},
   "source": [
    "Default parameters. Unless explicitly overriden, these values are used in all scenarios"
   ]
  },
  {
   "cell_type": "code",
   "execution_count": 2,
   "metadata": {},
   "outputs": [],
   "source": [
    "common_parameters = SimulationParameters(\n",
    "    mask_user_rate = 0.0,\n",
    "    mask_efficacy = 0.0,\n",
    "    imune_rate = 0.01,\n",
    "    initial_infection_rate = 0.01,\n",
    "    hospitalization_capacity = 0.05,\n",
    "    latency_period_shape = 3,\n",
    "    latency_period_scale = 1, \n",
    "    incubation_period_shape = 6,\n",
    "    incubation_period_scale = 1, \n",
    "    mild_period_duration_shape = 14,\n",
    "    mild_period_duration_scale = 1,\n",
    "    hospitalization_period_duration_shape = 12,\n",
    "    hospitalization_period_duration_scale = 1,\n",
    "    symptomatic_isolation_rate = 0.0,\n",
    "    asymptomatic_contagion_probability =   1.0,# 0.1,\n",
    "    risk_tolerance_mean = 1.0,\n",
    "    risk_tolerance_stdev = 0.0,\n",
    "    herding_behavior_mean = 1.0,\n",
    "    herding_behavior_stdev = 0.0,\n",
    "    allowed_restaurant_capacity = 1.0, # valid values: {1.0, 0.50, 0.25}\n",
    "    spreading_rate = normal_ci(2.41, 3.90, 20),\n",
    "    extroversion_mean = 0.5,\n",
    "    extroversion_stdev = 0.2,\n",
    "    min_behaviors_to_copy = 1\n",
    ")\n"
   ]
  },
  {
   "cell_type": "markdown",
   "metadata": {},
   "source": [
    "# Simulation setup"
   ]
  },
  {
   "cell_type": "code",
   "execution_count": 3,
   "metadata": {},
   "outputs": [],
   "source": [
    "population_size = 1000\n",
    "simulation_cycles = 180 # days"
   ]
  },
  {
   "cell_type": "code",
   "execution_count": 4,
   "metadata": {},
   "outputs": [],
   "source": [
    "seed = 31415"
   ]
  },
  {
   "cell_type": "code",
   "execution_count": 5,
   "metadata": {},
   "outputs": [],
   "source": [
    "np.random.seed(seed)\n",
    "scenario = {}"
   ]
  },
  {
   "cell_type": "markdown",
   "metadata": {},
   "source": [
    "# Scenarios"
   ]
  },
  {
   "cell_type": "markdown",
   "metadata": {},
   "source": [
    "## Scenario 1"
   ]
  },
  {
   "cell_type": "markdown",
   "metadata": {},
   "source": [
    "Do nothing"
   ]
  },
  {
   "cell_type": "code",
   "execution_count": 6,
   "metadata": {},
   "outputs": [],
   "source": [
    "sc = 1\n",
    "params = copy.deepcopy(common_parameters)\n",
    "set_parameters(params)\n",
    "model = CovidModel()\n",
    "seed = 24\n",
    "np.random.seed(seed)\n",
    "setup_city_layout(model, population_size)"
   ]
  },
  {
   "cell_type": "code",
   "execution_count": 7,
   "metadata": {
    "scrolled": true
   },
   "outputs": [
    {
     "data": {
      "image/png": "[encoded data removed]",
      "text/plain": [
       "<Figure size 432x288 with 1 Axes>"
      ]
     },
     "metadata": {
      "needs_background": "light"
     },
     "output_type": "display_data"
    }
   ],
   "source": [
    "model.reset_randomizer(seed)\n",
    "statistics = BasicStatistics(model)\n",
    "model.add_listener(statistics)\n",
    "for i in range(simulation_cycles):\n",
    "    model.step()\n",
    "statistics.export_chart(\"scenario\" + str(sc) + \".png\")\n",
    "statistics.export_csv(\"scenario\" + str(sc) + \".csv\")"
   ]
  },
  {
   "cell_type": "markdown",
   "metadata": {},
   "source": [
    "To save time these samples were run with 3 runs, but significant results often require 30 runs, so these numbers should be changed during debugging."
   ]
  },
  {
   "cell_type": "code",
   "execution_count": 8,
   "metadata": {},
   "outputs": [
    {
     "name": "stdout",
     "output_type": "stream",
     "text": [
      "Save these seeds if you want to rerun a scenario, and as keys to the output\n",
      "[2039, 4332, 5474]\n",
      "run with seed 2039:\n",
      "run with seed 4332:\n",
      "run with seed 5474:\n",
      "stats on susceptible:\n",
      "data: [0.28350000000000003, 0.4375, 0.21464444444444447]\n",
      "min:\n",
      "0.21464444444444447\n",
      "max:\n",
      "0.4375\n",
      "std:\n",
      "0.0931675230567912\n",
      "mean:\n",
      "0.3118814814814815\n",
      "median:\n",
      "0.28350000000000003\n",
      "95% confidence interval for the mean:\n",
      "(0.028425355698961097,0.5953376072640019)\n",
      "stats on infected:\n",
      "data: [0.15337222222222222, 0.10011620185922974, 0.1600777777777778]\n",
      "min:\n",
      "0.10011620185922974\n",
      "max:\n",
      "0.1600777777777778\n",
      "std:\n",
      "0.02682568994007198\n",
      "mean:\n",
      "0.13785540061974325\n",
      "median:\n",
      "0.15337222222222222\n",
      "95% confidence interval for the mean:\n",
      "(0.056239984728296846,0.21947081651118966)\n",
      "stats on recovered:\n",
      "data: [0.5467277777777778, 0.45740371845949546, 0.6020833333333333]\n",
      "min:\n",
      "0.45740371845949546\n",
      "max:\n",
      "0.6020833333333333\n",
      "std:\n",
      "0.0596053838582484\n",
      "mean:\n",
      "0.5354049431902022\n",
      "median:\n",
      "0.5467277777777778\n",
      "95% confidence interval for the mean:\n",
      "(0.3540594417761499,0.7167504446042544)\n",
      "stats on hospitalization:\n",
      "data: [0.03466666666666666, 0.016096724214254097, 0.03520555555555556]\n",
      "min:\n",
      "0.016096724214254097\n",
      "max:\n",
      "0.03520555555555556\n",
      "std:\n",
      "0.008883696672686979\n",
      "mean:\n",
      "0.02865631547882544\n",
      "median:\n",
      "0.03466666666666666\n",
      "95% confidence interval for the mean:\n",
      "(0.0016282464817355229,0.05568438447591535)\n",
      "stats on icu:\n",
      "data: [0.0320611111111111, 0.013982957060646305, 0.031872222222222225]\n",
      "min:\n",
      "0.013982957060646305\n",
      "max:\n",
      "0.0320611111111111\n",
      "std:\n",
      "0.008477952720018727\n",
      "mean:\n",
      "0.02597209679799321\n",
      "median:\n",
      "0.031872222222222225\n",
      "95% confidence interval for the mean:\n",
      "(0.00017847737205829023,0.05176571622392813)\n",
      "stats on death:\n",
      "data: [0.0073999999999999995, 0.0, 0.011194444444444443]\n",
      "min:\n",
      "0.0\n",
      "max:\n",
      "0.011194444444444443\n",
      "std:\n",
      "0.0046484572717040975\n",
      "mean:\n",
      "0.006198148148148147\n",
      "median:\n",
      "0.0073999999999999995\n",
      "95% confidence interval for the mean:\n",
      "(-0.007944480590620098,0.020340776886916392)\n",
      "stats on income:\n",
      "data: [0.9583457863321576, 0.9816111580865754, 0.9508910524188116]\n",
      "min:\n",
      "0.9508910524188116\n",
      "max:\n",
      "0.9816111580865754\n",
      "std:\n",
      "0.013083388419538508\n",
      "mean:\n",
      "0.9636159989458482\n",
      "median:\n",
      "0.9583457863321576\n",
      "95% confidence interval for the mean:\n",
      "(0.9238106411147756,1.0034213567769208)\n"
     ]
    },
    {
     "data": {
      "text/plain": [
       "<function dict.items>"
      ]
     },
     "execution_count": 8,
     "metadata": {},
     "output_type": "execute_result"
    }
   ],
   "source": [
    " multiple_runs(params,population_size,simulation_cycles,num_runs=3,do_print = True)"
   ]
  },
  {
   "cell_type": "markdown",
   "metadata": {},
   "source": [
    "## Scenario 2"
   ]
  },
  {
   "cell_type": "markdown",
   "metadata": {},
   "source": [
    "Complete lockdown"
   ]
  },
  {
   "cell_type": "code",
   "execution_count": 9,
   "metadata": {},
   "outputs": [],
   "source": [
    "sc = 2\n",
    "params = copy.deepcopy(common_parameters)\n",
    "params.params['social_policies'] = [\n",
    "    SocialPolicy.LOCKDOWN_OFFICE,\n",
    "    SocialPolicy.LOCKDOWN_FACTORY,\n",
    "    SocialPolicy.LOCKDOWN_RETAIL,\n",
    "    SocialPolicy.LOCKDOWN_ELEMENTARY_SCHOOL,\n",
    "    SocialPolicy.LOCKDOWN_MIDDLE_SCHOOL,\n",
    "    SocialPolicy.LOCKDOWN_HIGH_SCHOOL,\n",
    "    SocialPolicy.SOCIAL_DISTANCING\n",
    "]\n",
    "set_parameters(params)\n",
    "model = CovidModel()\n",
    "np.random.seed(seed)\n",
    "setup_city_layout(model, population_size)"
   ]
  },
  {
   "cell_type": "code",
   "execution_count": 10,
   "metadata": {
    "scrolled": true
   },
   "outputs": [
    {
     "data": {
      "image/png": "[encoded data removed]",
      "text/plain": [
       "<Figure size 432x288 with 1 Axes>"
      ]
     },
     "metadata": {
      "needs_background": "light"
     },
     "output_type": "display_data"
    }
   ],
   "source": [
    "model.reset_randomizer(seed)\n",
    "statistics = BasicStatistics(model)\n",
    "model.add_listener(statistics)\n",
    "for i in range(simulation_cycles):\n",
    "    model.step()\n",
    "statistics.export_chart(\"scenario\" + str(sc) + \".png\")\n",
    "statistics.export_csv(\"scenario\" + str(sc) + \".csv\")"
   ]
  },
  {
   "cell_type": "code",
   "execution_count": 11,
   "metadata": {},
   "outputs": [
    {
     "name": "stdout",
     "output_type": "stream",
     "text": [
      "Save these seeds if you want to rerun a scenario, and as keys to the output\n",
      "[873, 115, 9518]\n",
      "run with seed 873:\n",
      "run with seed 115:\n",
      "run with seed 9518:\n",
      "stats on susceptible:\n",
      "data: [0.6559, 0.9749999999999996, 0.9674944444444441]\n",
      "min:\n",
      "0.6559\n",
      "max:\n",
      "0.9749999999999996\n",
      "std:\n",
      "0.1486876820620394\n",
      "mean:\n",
      "0.8661314814814812\n",
      "median:\n",
      "0.9674944444444441\n",
      "95% confidence interval for the mean:\n",
      "(0.413758885043578,1.3185040779193844)\n",
      "stats on infected:\n",
      "data: [0.07648333333333333, 0.002077777777777778, 0.004655555555555556]\n",
      "min:\n",
      "0.002077777777777778\n",
      "max:\n",
      "0.07648333333333333\n",
      "std:\n",
      "0.03448358916659778\n",
      "mean:\n",
      "0.027738888888888886\n",
      "median:\n",
      "0.004655555555555556\n",
      "95% confidence interval for the mean:\n",
      "(-0.07717518704164436,0.13265296481942213)\n",
      "stats on recovered:\n",
      "data: [0.25561666666666666, 0.007922222222222221, 0.020849999999999997]\n",
      "min:\n",
      "0.007922222222222221\n",
      "max:\n",
      "0.25561666666666666\n",
      "std:\n",
      "0.11383958158776243\n",
      "mean:\n",
      "0.09479629629629628\n",
      "median:\n",
      "0.020849999999999997\n",
      "95% confidence interval for the mean:\n",
      "(-0.25155322227897675,0.4411458148715693)\n",
      "stats on hospitalization:\n",
      "data: [0.015005555555555553, 0.0008777777777777779, 0.0008777777777777779]\n",
      "min:\n",
      "0.0008777777777777779\n",
      "max:\n",
      "0.015005555555555553\n",
      "std:\n",
      "0.0066598983131755185\n",
      "mean:\n",
      "0.005587037037037037\n",
      "median:\n",
      "0.0008777777777777779\n",
      "95% confidence interval for the mean:\n",
      "(-0.014675270170674763,0.025849344244748836)\n",
      "stats on icu:\n",
      "data: [0.01275, 0.000838888888888889, 0.000838888888888889]\n",
      "min:\n",
      "0.000838888888888889\n",
      "max:\n",
      "0.01275\n",
      "std:\n",
      "0.0056149516254220665\n",
      "mean:\n",
      "0.004809259259259259\n",
      "median:\n",
      "0.000838888888888889\n",
      "95% confidence interval for the mean:\n",
      "(-0.012273865653573655,0.021892384172092175)\n",
      "stats on death:\n",
      "data: [0.0, 0.0, 0.0]\n",
      "min:\n",
      "0.0\n",
      "max:\n",
      "0.0\n",
      "std:\n",
      "0.0\n",
      "mean:\n",
      "0.0\n",
      "median:\n",
      "0.0\n",
      "95% confidence interval for the mean:\n",
      "(0.0,0.0)\n",
      "stats on income:\n",
      "data: [0.6794691869037679, 0.6769636531317607, 0.7094053417895323]\n",
      "min:\n",
      "0.6769636531317607\n",
      "max:\n",
      "0.7094053417895323\n",
      "std:\n",
      "0.014738137345731966\n",
      "mean:\n",
      "0.6886127272750203\n",
      "median:\n",
      "0.6794691869037679\n",
      "95% confidence interval for the mean:\n",
      "(0.6437729035230746,0.733452551026966)\n"
     ]
    },
    {
     "data": {
      "text/plain": [
       "<function dict.items>"
      ]
     },
     "execution_count": 11,
     "metadata": {},
     "output_type": "execute_result"
    }
   ],
   "source": [
    " multiple_runs(params,population_size,simulation_cycles,num_runs=3,do_print = True)"
   ]
  },
  {
   "cell_type": "markdown",
   "metadata": {},
   "source": [
    "## Scenario 3"
   ]
  },
  {
   "cell_type": "markdown",
   "metadata": {},
   "source": [
    "Start with complete lockdown then gradually unlock schools on simulation day 30, 60 and 90\n"
   ]
  },
  {
   "cell_type": "code",
   "execution_count": 12,
   "metadata": {},
   "outputs": [],
   "source": [
    "sc = 3\n",
    "params = copy.deepcopy(common_parameters)\n",
    "params.params['social_policies'] = [\n",
    "    SocialPolicy.LOCKDOWN_OFFICE,\n",
    "    SocialPolicy.LOCKDOWN_FACTORY,\n",
    "    SocialPolicy.LOCKDOWN_RETAIL,\n",
    "    SocialPolicy.LOCKDOWN_ELEMENTARY_SCHOOL,\n",
    "    SocialPolicy.LOCKDOWN_MIDDLE_SCHOOL,\n",
    "    SocialPolicy.LOCKDOWN_HIGH_SCHOOL,\n",
    "    SocialPolicy.SOCIAL_DISTANCING\n",
    "]\n",
    "\n",
    "set_parameters(params)\n",
    "model = CovidModel()\n",
    "np.random.seed(seed)\n",
    "setup_city_layout(model, population_size)\n",
    "model.add_listener(RemovePolicy(model, SocialPolicy.LOCKDOWN_ELEMENTARY_SCHOOL, 30))\n",
    "model.add_listener(RemovePolicy(model, SocialPolicy.LOCKDOWN_MIDDLE_SCHOOL, 60))\n",
    "model.add_listener(RemovePolicy(model, SocialPolicy.LOCKDOWN_HIGH_SCHOOL, 90))"
   ]
  },
  {
   "cell_type": "code",
   "execution_count": 13,
   "metadata": {},
   "outputs": [
    {
     "data": {
      "image/png": "[encoded data removed]",
      "text/plain": [
       "<Figure size 432x288 with 1 Axes>"
      ]
     },
     "metadata": {
      "needs_background": "light"
     },
     "output_type": "display_data"
    }
   ],
   "source": [
    "model.reset_randomizer(seed)\n",
    "statistics = BasicStatistics(model)\n",
    "model.add_listener(statistics)\n",
    "for i in range(simulation_cycles):\n",
    "    model.step()\n",
    "statistics.export_chart(\"scenario\" + str(sc) + \".png\")\n",
    "statistics.export_csv(\"scenario\" + str(sc) + \".csv\")"
   ]
  },
  {
   "cell_type": "code",
   "execution_count": 14,
   "metadata": {},
   "outputs": [
    {
     "name": "stdout",
     "output_type": "stream",
     "text": [
      "Save these seeds if you want to rerun a scenario, and as keys to the output\n",
      "[2666, 1128, 8478]\n",
      "run with seed 2666:\n",
      "run with seed 1128:\n",
      "run with seed 8478:\n",
      "stats on susceptible:\n",
      "data: [0.37350299401197595, 0.9144944444444446, 0.6942388888888887]\n",
      "min:\n",
      "0.37350299401197595\n",
      "max:\n",
      "0.9144944444444446\n",
      "std:\n",
      "0.22212503322243404\n",
      "mean:\n",
      "0.6607454424484365\n",
      "median:\n",
      "0.6942388888888887\n",
      "95% confidence interval for the mean:\n",
      "(-0.01505551576921671,1.3365464006660897)\n",
      "stats on infected:\n",
      "data: [0.12228321135506764, 0.010266666666666667, 0.05976111111111111]\n",
      "min:\n",
      "0.010266666666666667\n",
      "max:\n",
      "0.12228321135506764\n",
      "std:\n",
      "0.04583353858585324\n",
      "mean:\n",
      "0.06410366304428182\n",
      "median:\n",
      "0.05976111111111111\n",
      "95% confidence interval for the mean:\n",
      "(-0.07534189536699352,0.20354922145555715)\n",
      "stats on recovered:\n",
      "data: [0.4972277666888445, 0.06823888888888888, 0.23200000000000004]\n",
      "min:\n",
      "0.06823888888888888\n",
      "max:\n",
      "0.4972277666888445\n",
      "std:\n",
      "0.17675938667866586\n",
      "mean:\n",
      "0.26582221852591115\n",
      "median:\n",
      "0.23200000000000004\n",
      "95% confidence interval for the mean:\n",
      "(-0.2719567123692245,0.8036011494210468)\n",
      "stats on hospitalization:\n",
      "data: [0.02269904635174096, 0.0, 0.011061111111111114]\n",
      "min:\n",
      "0.0\n",
      "max:\n",
      "0.02269904635174096\n",
      "std:\n",
      "0.009267844175522665\n",
      "mean:\n",
      "0.011253385820950692\n",
      "median:\n",
      "0.011061111111111114\n",
      "95% confidence interval for the mean:\n",
      "(-0.016943426954123528,0.03945019859602491)\n",
      "stats on icu:\n",
      "data: [0.020542248835662007, 0.0, 0.009661111111111113]\n",
      "min:\n",
      "0.0\n",
      "max:\n",
      "0.020542248835662007\n",
      "std:\n",
      "0.008391266712138124\n",
      "mean:\n",
      "0.010067786648924373\n",
      "median:\n",
      "0.009661111111111113\n",
      "95% confidence interval for the mean:\n",
      "(-0.015462096239350203,0.03559766953719895)\n",
      "stats on death:\n",
      "data: [0.0, 0.0, 0.0]\n",
      "min:\n",
      "0.0\n",
      "max:\n",
      "0.0\n",
      "std:\n",
      "0.0\n",
      "mean:\n",
      "0.0\n",
      "median:\n",
      "0.0\n",
      "95% confidence interval for the mean:\n",
      "(0.0,0.0)\n",
      "stats on income:\n",
      "data: [0.6555011354777482, 0.6896655103002268, 0.6735663789664861]\n",
      "min:\n",
      "0.6555011354777482\n",
      "max:\n",
      "0.6896655103002268\n",
      "std:\n",
      "0.013955244171673428\n",
      "mean:\n",
      "0.6729110082481536\n",
      "median:\n",
      "0.6735663789664861\n",
      "95% confidence interval for the mean:\n",
      "(0.6304530860294808,0.7153689304668265)\n"
     ]
    },
    {
     "data": {
      "text/plain": [
       "<function dict.items>"
      ]
     },
     "execution_count": 14,
     "metadata": {},
     "output_type": "execute_result"
    }
   ],
   "source": [
    " multiple_runs(params,population_size,simulation_cycles,num_runs=3,do_print = True)"
   ]
  },
  {
   "cell_type": "markdown",
   "metadata": {},
   "source": [
    "## Scenario 4"
   ]
  },
  {
   "cell_type": "markdown",
   "metadata": {},
   "source": [
    "Like scenario 3 but simulate the start of a public campaing in day 30 to reinforce the importance of social distancing and consequently reduce the overall risk tolerance of the population"
   ]
  },
  {
   "cell_type": "code",
   "execution_count": 15,
   "metadata": {},
   "outputs": [],
   "source": [
    "sc = 4\n",
    "params = copy.deepcopy(common_parameters)\n",
    "params.params['social_policies'] = [\n",
    "    SocialPolicy.LOCKDOWN_OFFICE,\n",
    "    SocialPolicy.LOCKDOWN_FACTORY,\n",
    "    SocialPolicy.LOCKDOWN_RETAIL,\n",
    "    SocialPolicy.LOCKDOWN_ELEMENTARY_SCHOOL,\n",
    "    SocialPolicy.LOCKDOWN_MIDDLE_SCHOOL,\n",
    "    SocialPolicy.LOCKDOWN_HIGH_SCHOOL,\n",
    "    SocialPolicy.SOCIAL_DISTANCING\n",
    "]\n",
    "\n",
    "set_parameters(params)\n",
    "model = CovidModel()\n",
    "np.random.seed(seed)\n",
    "setup_city_layout(model, population_size)\n",
    "model.add_listener(Propaganda(model, 30))\n",
    "model.add_listener(RemovePolicy(model, SocialPolicy.LOCKDOWN_ELEMENTARY_SCHOOL, 30))\n",
    "model.add_listener(RemovePolicy(model, SocialPolicy.LOCKDOWN_MIDDLE_SCHOOL, 60))\n",
    "model.add_listener(RemovePolicy(model, SocialPolicy.LOCKDOWN_HIGH_SCHOOL, 90))"
   ]
  },
  {
   "cell_type": "code",
   "execution_count": 16,
   "metadata": {},
   "outputs": [
    {
     "data": {
      "image/png": "[encoded data removed]",
      "text/plain": [
       "<Figure size 432x288 with 1 Axes>"
      ]
     },
     "metadata": {
      "needs_background": "light"
     },
     "output_type": "display_data"
    }
   ],
   "source": [
    "model.reset_randomizer(seed)\n",
    "statistics = BasicStatistics(model)\n",
    "model.add_listener(statistics)\n",
    "for i in range(simulation_cycles):\n",
    "    model.step()\n",
    "statistics.export_chart(\"scenario\" + str(sc) + \".png\")\n",
    "statistics.export_csv(\"scenario\" + str(sc) + \".csv\")"
   ]
  },
  {
   "cell_type": "code",
   "execution_count": 17,
   "metadata": {},
   "outputs": [
    {
     "name": "stdout",
     "output_type": "stream",
     "text": [
      "Save these seeds if you want to rerun a scenario, and as keys to the output\n",
      "[8019, 3235, 8585]\n",
      "run with seed 8019:\n",
      "run with seed 3235:\n",
      "run with seed 8585:\n",
      "stats on susceptible:\n",
      "data: [0.3665944444444444, 0.4065611111111111, 0.2672944444444445]\n",
      "min:\n",
      "0.2672944444444445\n",
      "max:\n",
      "0.4065611111111111\n",
      "std:\n",
      "0.05855010094771529\n",
      "mean:\n",
      "0.3468166666666666\n",
      "median:\n",
      "0.3665944444444444\n",
      "95% confidence interval for the mean:\n",
      "(0.16868179483264395,0.5249515385006893)\n",
      "stats on infected:\n",
      "data: [0.1259888888888889, 0.12501111111111113, 0.14249444444444445]\n",
      "min:\n",
      "0.12501111111111113\n",
      "max:\n",
      "0.14249444444444445\n",
      "std:\n",
      "0.008021196627441367\n",
      "mean:\n",
      "0.13116481481481482\n",
      "median:\n",
      "0.1259888888888889\n",
      "95% confidence interval for the mean:\n",
      "(0.10676084607596129,0.15556878355366835)\n",
      "stats on recovered:\n",
      "data: [0.4964166666666668, 0.45193888888888883, 0.5796666666666667]\n",
      "min:\n",
      "0.45193888888888883\n",
      "max:\n",
      "0.5796666666666667\n",
      "std:\n",
      "0.05293939977002927\n",
      "mean:\n",
      "0.5093407407407408\n",
      "median:\n",
      "0.4964166666666668\n",
      "95% confidence interval for the mean:\n",
      "(0.348276062108923,0.6704054193725586)\n",
      "stats on hospitalization:\n",
      "data: [0.02643333333333333, 0.023194444444444438, 0.033911111111111114]\n",
      "min:\n",
      "0.023194444444444438\n",
      "max:\n",
      "0.033911111111111114\n",
      "std:\n",
      "0.004487693123951322\n",
      "mean:\n",
      "0.027846296296296296\n",
      "median:\n",
      "0.02643333333333333\n",
      "95% confidence interval for the mean:\n",
      "(0.014192782014922746,0.04149981057766985)\n",
      "stats on icu:\n",
      "data: [0.02360555555555555, 0.020405555555555552, 0.030833333333333338]\n",
      "min:\n",
      "0.020405555555555552\n",
      "max:\n",
      "0.030833333333333338\n",
      "std:\n",
      "0.004361693363663738\n",
      "mean:\n",
      "0.024948148148148146\n",
      "median:\n",
      "0.02360555555555555\n",
      "95% confidence interval for the mean:\n",
      "(0.01167797993768897,0.03821831635860733)\n",
      "stats on death:\n",
      "data: [0.0, 0.000488888888888889, 0.0005444444444444446]\n",
      "min:\n",
      "0.0\n",
      "max:\n",
      "0.0005444444444444446\n",
      "std:\n",
      "0.0002446127366808648\n",
      "mean:\n",
      "0.00034444444444444453\n",
      "median:\n",
      "0.000488888888888889\n",
      "95% confidence interval for the mean:\n",
      "(-0.0003997738880999627,0.0010886627769888517)\n",
      "stats on income:\n",
      "data: [0.6357461033667899, 0.6604442654385305, 0.6740743180377271]\n",
      "min:\n",
      "0.6357461033667899\n",
      "max:\n",
      "0.6740743180377271\n",
      "std:\n",
      "0.01586340857109101\n",
      "mean:\n",
      "0.6567548956143492\n",
      "median:\n",
      "0.6604442654385305\n",
      "95% confidence interval for the mean:\n",
      "(0.6084915073891868,0.7050182838395116)\n"
     ]
    },
    {
     "data": {
      "text/plain": [
       "<function dict.items>"
      ]
     },
     "execution_count": 17,
     "metadata": {},
     "output_type": "execute_result"
    }
   ],
   "source": [
    " multiple_runs(params,population_size,simulation_cycles,num_runs=3,do_print = True)"
   ]
  },
  {
   "cell_type": "markdown",
   "metadata": {},
   "source": [
    "## Scenario 5"
   ]
  },
  {
   "cell_type": "markdown",
   "metadata": {},
   "source": [
    "Like scenario 4 but start the campaing in day 1"
   ]
  },
  {
   "cell_type": "code",
   "execution_count": 18,
   "metadata": {},
   "outputs": [],
   "source": [
    "sc = 5\n",
    "params = copy.deepcopy(common_parameters)\n",
    "params.params['social_policies'] = [\n",
    "    SocialPolicy.LOCKDOWN_OFFICE,\n",
    "    SocialPolicy.LOCKDOWN_FACTORY,\n",
    "    SocialPolicy.LOCKDOWN_RETAIL,\n",
    "    SocialPolicy.LOCKDOWN_ELEMENTARY_SCHOOL,\n",
    "    SocialPolicy.LOCKDOWN_MIDDLE_SCHOOL,\n",
    "    SocialPolicy.LOCKDOWN_HIGH_SCHOOL,\n",
    "    SocialPolicy.SOCIAL_DISTANCING\n",
    "]\n",
    "\n",
    "set_parameters(params)\n",
    "model = CovidModel()\n",
    "np.random.seed(seed)\n",
    "setup_city_layout(model, population_size)\n",
    "model.add_listener(Propaganda(model, 1))\n",
    "model.add_listener(RemovePolicy(model, SocialPolicy.LOCKDOWN_ELEMENTARY_SCHOOL, 30))\n",
    "model.add_listener(RemovePolicy(model, SocialPolicy.LOCKDOWN_MIDDLE_SCHOOL, 60))\n",
    "model.add_listener(RemovePolicy(model, SocialPolicy.LOCKDOWN_HIGH_SCHOOL, 90))"
   ]
  },
  {
   "cell_type": "code",
   "execution_count": 19,
   "metadata": {
    "scrolled": true
   },
   "outputs": [
    {
     "data": {
      "image/png": "[encoded data removed]",
      "text/plain": [
       "<Figure size 432x288 with 1 Axes>"
      ]
     },
     "metadata": {
      "needs_background": "light"
     },
     "output_type": "display_data"
    }
   ],
   "source": [
    "model.reset_randomizer(seed)\n",
    "statistics = BasicStatistics(model)\n",
    "model.add_listener(statistics)\n",
    "for i in range(simulation_cycles):\n",
    "    model.step()\n",
    "statistics.export_chart(\"scenario\" + str(sc) + \".png\")\n",
    "statistics.export_csv(\"scenario\" + str(sc) + \".csv\")"
   ]
  },
  {
   "cell_type": "code",
   "execution_count": 20,
   "metadata": {},
   "outputs": [
    {
     "name": "stdout",
     "output_type": "stream",
     "text": [
      "Save these seeds if you want to rerun a scenario, and as keys to the output\n",
      "[3357, 2592, 341]\n",
      "run with seed 3357:\n",
      "run with seed 2592:\n",
      "run with seed 341:\n",
      "stats on susceptible:\n",
      "data: [0.9694777777777779, 0.4070944444444444, 0.47510555555555556]\n",
      "min:\n",
      "0.4070944444444444\n",
      "max:\n",
      "0.9694777777777779\n",
      "std:\n",
      "0.2506224293745956\n",
      "mean:\n",
      "0.617225925925926\n",
      "median:\n",
      "0.47510555555555556\n",
      "95% confidence interval for the mean:\n",
      "(-0.14527650554284643,1.3797283573946983)\n",
      "stats on infected:\n",
      "data: [0.002561111111111111, 0.12912777777777779, 0.10166666666666667]\n",
      "min:\n",
      "0.002561111111111111\n",
      "max:\n",
      "0.12912777777777779\n",
      "std:\n",
      "0.05436005976260227\n",
      "mean:\n",
      "0.07778518518518518\n",
      "median:\n",
      "0.10166666666666667\n",
      "95% confidence interval for the mean:\n",
      "(-0.08760175902090897,0.24317212939127933)\n",
      "stats on recovered:\n",
      "data: [0.016961111111111107, 0.4537777777777777, 0.414738888888889]\n",
      "min:\n",
      "0.016961111111111107\n",
      "max:\n",
      "0.4537777777777777\n",
      "std:\n",
      "0.19736035727608184\n",
      "mean:\n",
      "0.2951592592592593\n",
      "median:\n",
      "0.414738888888889\n",
      "95% confidence interval for the mean:\n",
      "(-0.3052967840170184,0.8956153025355369)\n",
      "stats on hospitalization:\n",
      "data: [0.0, 0.024983333333333326, 0.014594444444444443]\n",
      "min:\n",
      "0.0\n",
      "max:\n",
      "0.024983333333333326\n",
      "std:\n",
      "0.010247459118305585\n",
      "mean:\n",
      "0.013192592592592589\n",
      "median:\n",
      "0.014594444444444443\n",
      "95% confidence interval for the mean:\n",
      "(-0.017984634894920103,0.04436982008010528)\n",
      "stats on icu:\n",
      "data: [0.0, 0.022172222222222215, 0.012761111111111107]\n",
      "min:\n",
      "0.0\n",
      "max:\n",
      "0.022172222222222215\n",
      "std:\n",
      "0.00908614578726809\n",
      "mean:\n",
      "0.011644444444444442\n",
      "median:\n",
      "0.012761111111111107\n",
      "95% confidence interval for the mean:\n",
      "(-0.015999562808858253,0.03928845169774713)\n",
      "stats on death:\n",
      "data: [0.0, 0.0, 0.000488888888888889]\n",
      "min:\n",
      "0.0\n",
      "max:\n",
      "0.000488888888888889\n",
      "std:\n",
      "0.00023046443238672665\n",
      "mean:\n",
      "0.00016296296296296298\n",
      "median:\n",
      "0.0\n",
      "95% confidence interval for the mean:\n",
      "(-0.0005382100745040597,0.0008641360004299856)\n",
      "stats on income:\n",
      "data: [0.7292817679558009, 0.6791213958252866, 0.6454096626307747]\n",
      "min:\n",
      "0.6454096626307747\n",
      "max:\n",
      "0.7292817679558009\n",
      "std:\n",
      "0.034459434990695814\n",
      "mean:\n",
      "0.6846042754706207\n",
      "median:\n",
      "0.6791213958252866\n",
      "95% confidence interval for the mean:\n",
      "(0.5797636870483737,0.7894448638928678)\n"
     ]
    },
    {
     "data": {
      "text/plain": [
       "<function dict.items>"
      ]
     },
     "execution_count": 20,
     "metadata": {},
     "output_type": "execute_result"
    }
   ],
   "source": [
    " multiple_runs(params,population_size,simulation_cycles,num_runs=3,do_print = True)"
   ]
  },
  {
   "cell_type": "markdown",
   "metadata": {},
   "source": [
    "## Scenario 6"
   ]
  },
  {
   "cell_type": "markdown",
   "metadata": {},
   "source": [
    "Begins with complete lockdown for 30 days, then all sectors are being gradually \"unlocked\""
   ]
  },
  {
   "cell_type": "code",
   "execution_count": 21,
   "metadata": {},
   "outputs": [],
   "source": [
    "sc = 6\n",
    "params = copy.deepcopy(common_parameters)\n",
    "params.params['social_policies'] = [\n",
    "    SocialPolicy.LOCKDOWN_OFFICE,\n",
    "    SocialPolicy.LOCKDOWN_FACTORY,\n",
    "    SocialPolicy.LOCKDOWN_RETAIL,\n",
    "    SocialPolicy.LOCKDOWN_ELEMENTARY_SCHOOL,\n",
    "    SocialPolicy.LOCKDOWN_MIDDLE_SCHOOL,\n",
    "    SocialPolicy.LOCKDOWN_HIGH_SCHOOL,\n",
    "    SocialPolicy.SOCIAL_DISTANCING\n",
    "]\n",
    "\n",
    "set_parameters(params)\n",
    "model = CovidModel()\n",
    "np.random.seed(seed)\n",
    "setup_city_layout(model, population_size)\n",
    "model.add_listener(RemovePolicy(model, SocialPolicy.LOCKDOWN_RETAIL, 30))\n",
    "model.add_listener(RemovePolicy(model, SocialPolicy.LOCKDOWN_FACTORY, 60))\n",
    "model.add_listener(RemovePolicy(model, SocialPolicy.LOCKDOWN_OFFICE, 90))\n",
    "model.add_listener(RemovePolicy(model, SocialPolicy.LOCKDOWN_ELEMENTARY_SCHOOL, 90))\n",
    "model.add_listener(RemovePolicy(model, SocialPolicy.LOCKDOWN_MIDDLE_SCHOOL, 90))\n",
    "model.add_listener(RemovePolicy(model, SocialPolicy.LOCKDOWN_HIGH_SCHOOL, 120))"
   ]
  },
  {
   "cell_type": "code",
   "execution_count": 22,
   "metadata": {
    "scrolled": true
   },
   "outputs": [
    {
     "data": {
      "image/png": "[encoded data removed]",
      "text/plain": [
       "<Figure size 432x288 with 1 Axes>"
      ]
     },
     "metadata": {
      "needs_background": "light"
     },
     "output_type": "display_data"
    }
   ],
   "source": [
    "model.reset_randomizer(seed)\n",
    "statistics = BasicStatistics(model)\n",
    "model.add_listener(statistics)\n",
    "for i in range(simulation_cycles):\n",
    "    model.step()\n",
    "statistics.export_chart(\"scenario\" + str(sc) + \".png\")\n",
    "statistics.export_csv(\"scenario\" + str(sc) + \".csv\")"
   ]
  },
  {
   "cell_type": "code",
   "execution_count": 23,
   "metadata": {},
   "outputs": [
    {
     "name": "stdout",
     "output_type": "stream",
     "text": [
      "Save these seeds if you want to rerun a scenario, and as keys to the output\n",
      "[3072, 8182, 2613]\n",
      "run with seed 3072:\n",
      "run with seed 8182:\n",
      "run with seed 2613:\n",
      "stats on susceptible:\n",
      "data: [0.9322388888888888, 0.5980574980574981, 0.8598777777777774]\n",
      "min:\n",
      "0.5980574980574981\n",
      "max:\n",
      "0.9322388888888888\n",
      "std:\n",
      "0.14355145854440826\n",
      "mean:\n",
      "0.7967247215747214\n",
      "median:\n",
      "0.8598777777777774\n",
      "95% confidence interval for the mean:\n",
      "(0.35997875093616827,1.2334706922132745)\n",
      "stats on infected:\n",
      "data: [0.007655555555555558, 0.08479853479853479, 0.020433333333333335]\n",
      "min:\n",
      "0.007655555555555558\n",
      "max:\n",
      "0.08479853479853479\n",
      "std:\n",
      "0.03375926212180225\n",
      "mean:\n",
      "0.037629141229141225\n",
      "median:\n",
      "0.020433333333333335\n",
      "95% confidence interval for the mean:\n",
      "(-0.06508121680505927,0.14033949926334172)\n",
      "stats on recovered:\n",
      "data: [0.04810555555555555, 0.3091519591519592, 0.11068888888888889]\n",
      "min:\n",
      "0.04810555555555555\n",
      "max:\n",
      "0.3091519591519592\n",
      "std:\n",
      "0.11128017128949393\n",
      "mean:\n",
      "0.15598213453213455\n",
      "median:\n",
      "0.11068888888888889\n",
      "95% confidence interval for the mean:\n",
      "(-0.1825805447709079,0.494544813835177)\n",
      "stats on hospitalization:\n",
      "data: [0.00025, 0.009540459540459541, 0.0022777777777777774]\n",
      "min:\n",
      "0.00025\n",
      "max:\n",
      "0.009540459540459541\n",
      "std:\n",
      "0.003988470433288589\n",
      "mean:\n",
      "0.004022745772745773\n",
      "median:\n",
      "0.0022777777777777774\n",
      "95% confidence interval for the mean:\n",
      "(-0.008111915960495455,0.016157407505987)\n",
      "stats on icu:\n",
      "data: [0.0, 0.008041958041958043, 0.00195]\n",
      "min:\n",
      "0.0\n",
      "max:\n",
      "0.008041958041958043\n",
      "std:\n",
      "0.0034251932943605273\n",
      "mean:\n",
      "0.0033306526806526813\n",
      "median:\n",
      "0.00195\n",
      "95% confidence interval for the mean:\n",
      "(-0.007090275014118019,0.013751580375423383)\n",
      "stats on death:\n",
      "data: [0.0, 0.0, 0.0]\n",
      "min:\n",
      "0.0\n",
      "max:\n",
      "0.0\n",
      "std:\n",
      "0.0\n",
      "mean:\n",
      "0.0\n",
      "median:\n",
      "0.0\n",
      "95% confidence interval for the mean:\n",
      "(0.0,0.0)\n",
      "stats on income:\n",
      "data: [0.9940761685039506, 0.9822758313029752, 0.9922929811370103]\n",
      "min:\n",
      "0.9822758313029752\n",
      "max:\n",
      "0.9940761685039506\n",
      "std:\n",
      "0.00519370351739967\n",
      "mean:\n",
      "0.989548326981312\n",
      "median:\n",
      "0.9922929811370103\n",
      "95% confidence interval for the mean:\n",
      "(0.9737468220233261,1.005349831939298)\n"
     ]
    },
    {
     "data": {
      "text/plain": [
       "<function dict.items>"
      ]
     },
     "execution_count": 23,
     "metadata": {},
     "output_type": "execute_result"
    }
   ],
   "source": [
    " multiple_runs(params,population_size,simulation_cycles,num_runs=3,do_print = True)"
   ]
  },
  {
   "cell_type": "markdown",
   "metadata": {},
   "source": [
    "## Scenario 7"
   ]
  },
  {
   "cell_type": "markdown",
   "metadata": {},
   "source": [
    "Like scenario 6 but in day 1 a campaign to encourage social distancing is started and the overall risk tolerance of people starts decreasing gradually."
   ]
  },
  {
   "cell_type": "code",
   "execution_count": 24,
   "metadata": {},
   "outputs": [],
   "source": [
    "sc = 7\n",
    "params = copy.deepcopy(common_parameters)\n",
    "params.params['social_policies'] = [\n",
    "    SocialPolicy.LOCKDOWN_OFFICE,\n",
    "    SocialPolicy.LOCKDOWN_FACTORY,\n",
    "    SocialPolicy.LOCKDOWN_RETAIL,\n",
    "    SocialPolicy.LOCKDOWN_ELEMENTARY_SCHOOL,\n",
    "    SocialPolicy.LOCKDOWN_MIDDLE_SCHOOL,\n",
    "    SocialPolicy.LOCKDOWN_HIGH_SCHOOL,\n",
    "    SocialPolicy.SOCIAL_DISTANCING\n",
    "]\n",
    "\n",
    "set_parameters(params)\n",
    "model = CovidModel()\n",
    "np.random.seed(seed)\n",
    "setup_city_layout(model, population_size)\n",
    "model.add_listener(Propaganda(model, 1))\n",
    "model.add_listener(RemovePolicy(model, SocialPolicy.LOCKDOWN_RETAIL, 30))\n",
    "model.add_listener(RemovePolicy(model, SocialPolicy.LOCKDOWN_FACTORY, 60))\n",
    "model.add_listener(RemovePolicy(model, SocialPolicy.LOCKDOWN_OFFICE, 90))\n",
    "model.add_listener(RemovePolicy(model, SocialPolicy.LOCKDOWN_ELEMENTARY_SCHOOL, 90))\n",
    "model.add_listener(RemovePolicy(model, SocialPolicy.LOCKDOWN_MIDDLE_SCHOOL, 90))\n",
    "model.add_listener(RemovePolicy(model, SocialPolicy.LOCKDOWN_HIGH_SCHOOL, 120))"
   ]
  },
  {
   "cell_type": "code",
   "execution_count": 25,
   "metadata": {
    "scrolled": true
   },
   "outputs": [
    {
     "data": {
      "image/png": "[encoded data removed]",
      "text/plain": [
       "<Figure size 432x288 with 1 Axes>"
      ]
     },
     "metadata": {
      "needs_background": "light"
     },
     "output_type": "display_data"
    }
   ],
   "source": [
    "model.reset_randomizer(seed)\n",
    "statistics = BasicStatistics(model)\n",
    "model.add_listener(statistics)\n",
    "for i in range(simulation_cycles):\n",
    "    model.step()\n",
    "statistics.export_chart(\"scenario\" + str(sc) + \".png\")\n",
    "statistics.export_csv(\"scenario\" + str(sc) + \".csv\")"
   ]
  },
  {
   "cell_type": "code",
   "execution_count": 26,
   "metadata": {},
   "outputs": [
    {
     "name": "stdout",
     "output_type": "stream",
     "text": [
      "Save these seeds if you want to rerun a scenario, and as keys to the output\n",
      "[9169, 5039, 6535]\n",
      "run with seed 9169:\n",
      "run with seed 5039:\n",
      "run with seed 6535:\n",
      "stats on susceptible:\n",
      "data: [0.18472777777777777, 0.47574444444444447, 0.3857174539809271]\n",
      "min:\n",
      "0.18472777777777777\n",
      "max:\n",
      "0.47574444444444447\n",
      "std:\n",
      "0.12165178412627067\n",
      "mean:\n",
      "0.34872989206771643\n",
      "median:\n",
      "0.3857174539809271\n",
      "95% confidence interval for the mean:\n",
      "(-0.021387744331662517,0.7188475284670954)\n",
      "stats on infected:\n",
      "data: [0.1579888888888889, 0.09277777777777778, 0.13951541361721]\n",
      "min:\n",
      "0.09277777777777778\n",
      "max:\n",
      "0.1579888888888889\n",
      "std:\n",
      "0.02744320378288057\n",
      "mean:\n",
      "0.13009402676129223\n",
      "median:\n",
      "0.13951541361721\n",
      "95% confidence interval for the mean:\n",
      "(0.04659986518941271,0.21358818833317172)\n",
      "stats on recovered:\n",
      "data: [0.6461555555555556, 0.4247277777777779, 0.45751275227323124]\n",
      "min:\n",
      "0.4247277777777779\n",
      "max:\n",
      "0.6461555555555556\n",
      "std:\n",
      "0.09757687713028358\n",
      "mean:\n",
      "0.5094653618688549\n",
      "median:\n",
      "0.45751275227323124\n",
      "95% confidence interval for the mean:\n",
      "(0.21259406326786578,0.8063366604698441)\n",
      "stats on hospitalization:\n",
      "data: [0.03521666666666667, 0.015838888888888885, 0.03466400532268795]\n",
      "min:\n",
      "0.015838888888888885\n",
      "max:\n",
      "0.03521666666666667\n",
      "std:\n",
      "0.009007334757556437\n",
      "mean:\n",
      "0.028573186959414503\n",
      "median:\n",
      "0.03466400532268795\n",
      "95% confidence interval for the mean:\n",
      "(0.0011689571351777214,0.055977416783651285)\n",
      "stats on icu:\n",
      "data: [0.03258333333333334, 0.014038888888888885, 0.031004657351962735]\n",
      "min:\n",
      "0.014038888888888885\n",
      "max:\n",
      "0.03258333333333334\n",
      "std:\n",
      "0.008394614259881646\n",
      "mean:\n",
      "0.02587562652472832\n",
      "median:\n",
      "0.031004657351962735\n",
      "95% confidence interval for the mean:\n",
      "(0.00033555894029441494,0.05141569410916222)\n",
      "stats on death:\n",
      "data: [0.004127777777777778, 0.00075, 0.006276336216455975]\n",
      "min:\n",
      "0.00075\n",
      "max:\n",
      "0.006276336216455975\n",
      "std:\n",
      "0.0022746447355766137\n",
      "mean:\n",
      "0.0037180379980779176\n",
      "median:\n",
      "0.004127777777777778\n",
      "95% confidence interval for the mean:\n",
      "(-0.003202420581518873,0.010638496577674707)\n",
      "stats on income:\n",
      "data: [0.9567947235427641, 0.9791436464088401, 0.951285428390606]\n",
      "min:\n",
      "0.951285428390606\n",
      "max:\n",
      "0.9791436464088401\n",
      "std:\n",
      "0.012045778409877646\n",
      "mean:\n",
      "0.9624079327807368\n",
      "median:\n",
      "0.9567947235427641\n",
      "95% confidence interval for the mean:\n",
      "(0.9257594358788998,0.9990564296825738)\n"
     ]
    },
    {
     "data": {
      "text/plain": [
       "<function dict.items>"
      ]
     },
     "execution_count": 26,
     "metadata": {},
     "output_type": "execute_result"
    }
   ],
   "source": [
    " multiple_runs(params,population_size,simulation_cycles,num_runs=3,do_print = True)"
   ]
  }
 ],
 "metadata": {
  "kernelspec": {
   "display_name": "Python 3",
   "language": "python",
   "name": "python3"
  },
  "language_info": {
   "codemirror_mode": {
    "name": "ipython",
    "version": 3
   },
   "file_extension": ".py",
   "mimetype": "text/x-python",
   "name": "python",
   "nbconvert_exporter": "python",
   "pygments_lexer": "ipython3",
   "version": "3.6.8"
  }
 },
 "nbformat": 4,
 "nbformat_minor": 4
}
